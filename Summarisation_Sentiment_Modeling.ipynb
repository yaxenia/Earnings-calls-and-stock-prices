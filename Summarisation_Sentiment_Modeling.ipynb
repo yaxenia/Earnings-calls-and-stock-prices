{
  "cells": [
    {
      "cell_type": "code",
      "execution_count": null,
      "metadata": {
        "id": "FpUNROvDPcAO"
      },
      "outputs": [],
      "source": [
        "import pandas as pd\n",
        "import numpy as np\n",
        "import nltk\n",
        "import string\n",
        "import re\n",
        "from nltk.corpus import stopwords\n",
        "from nltk.tokenize import word_tokenize\n",
        "#import the libraries as needed\n",
        "import os\n",
        "import re\n",
        "import time\n",
        "import csv\n",
        "import random\n",
        "from datetime import date, timedelta, datetime\n",
        "from urllib.request import urlopen\n",
        "import pandas as pd\n",
        "import numpy as np\n",
        "from time import sleep\n",
        "from random import randint\n",
        "#from fake_useragent import UserAgent"
      ]
    },
    {
      "cell_type": "code",
      "execution_count": null,
      "metadata": {
        "colab": {
          "base_uri": "https://localhost:8080/"
        },
        "id": "NwoIwpw9PSCU",
        "outputId": "566b78ee-faa4-451f-f0d0-4b6da6d43906"
      },
      "outputs": [
        {
          "output_type": "stream",
          "name": "stderr",
          "text": [
            "[nltk_data] Downloading package stopwords to /root/nltk_data...\n",
            "[nltk_data]   Package stopwords is already up-to-date!\n"
          ]
        }
      ],
      "source": [
        "\n",
        "nltk.download('stopwords')\n",
        "stop_words = stopwords.words('english')\n",
        "\n",
        "def remove_chars_from_text(text, chars):\n",
        "    return \"\".join([ch for ch in text if ch not in chars])\n",
        "\n",
        "def data_pre_processing(text):\n",
        "  spec_chars = string.punctuation\n",
        "  text = text.apply(lambda x : remove_chars_from_text(x,spec_chars)) #remove punctuations\n",
        "  text = text.apply(lambda x : re.sub(r'\\n',\" \",x)) #remove punctuations\n",
        "  text.apply(lambda x : x.lower()) #makes letter lower\n",
        "  STOPWORDS = set(stopwords.words('english'))\n",
        "  text  = text.apply(lambda x : ' '.join(word for word in x.split() if word not in STOPWORDS)) # delete stopwords\n",
        "  return text\n"
      ]
    },
    {
      "cell_type": "code",
      "execution_count": null,
      "metadata": {
        "id": "r0PW9c0Lw2Ox"
      },
      "outputs": [],
      "source": [
        "spec_chars = string.punctuation"
      ]
    },
    {
      "cell_type": "code",
      "execution_count": null,
      "metadata": {
        "id": "Vu43ZCX4MPnz"
      },
      "outputs": [],
      "source": [
        "stoks = pd.read_excel('/content/snp100.xlsx')"
      ]
    },
    {
      "cell_type": "code",
      "execution_count": null,
      "metadata": {
        "id": "KDxun-8I3Sno"
      },
      "outputs": [],
      "source": [
        "stoks = pd.read_csv(\"/content/constituents_csv.csv\")\n",
        "stoks.head(20)"
      ]
    },
    {
      "cell_type": "code",
      "execution_count": null,
      "metadata": {
        "colab": {
          "base_uri": "https://localhost:8080/"
        },
        "id": "--QHKLJNNADq",
        "outputId": "7e178d5e-1932-44b6-a093-1fe145d5fcc0"
      },
      "outputs": [
        {
          "name": "stdout",
          "output_type": "stream",
          "text": [
            "Done\n"
          ]
        }
      ],
      "source": [
        "with open(r'/content/urls.txt', 'w') as fp:\n",
        "    for item in url_list:\n",
        "        # write each item on a new line\n",
        "        fp.write(\"%s\\n\" % item)\n",
        "    print('Done')"
      ]
    },
    {
      "cell_type": "code",
      "execution_count": null,
      "metadata": {
        "colab": {
          "base_uri": "https://localhost:8080/",
          "height": 419
        },
        "id": "B17QkRVkaxmV",
        "outputId": "6e7ae817-7262-4001-bb17-fb6de97c66e2"
      },
      "outputs": [
        {
          "data": {
            "text/html": [
              "\n",
              "  <div id=\"df-56fee8c5-38bf-431e-a758-ebcb7efd57f4\">\n",
              "    <div class=\"colab-df-container\">\n",
              "      <div>\n",
              "<style scoped>\n",
              "    .dataframe tbody tr th:only-of-type {\n",
              "        vertical-align: middle;\n",
              "    }\n",
              "\n",
              "    .dataframe tbody tr th {\n",
              "        vertical-align: top;\n",
              "    }\n",
              "\n",
              "    .dataframe thead th {\n",
              "        text-align: right;\n",
              "    }\n",
              "</style>\n",
              "<table border=\"1\" class=\"dataframe\">\n",
              "  <thead>\n",
              "    <tr style=\"text-align: right;\">\n",
              "      <th></th>\n",
              "      <th>CC ID</th>\n",
              "      <th>Tickers</th>\n",
              "      <th>Company</th>\n",
              "      <th>Call Title</th>\n",
              "      <th>Fiscal Quarter</th>\n",
              "      <th>Date</th>\n",
              "      <th>Time</th>\n",
              "    </tr>\n",
              "  </thead>\n",
              "  <tbody>\n",
              "    <tr>\n",
              "      <th>0</th>\n",
              "      <td>64</td>\n",
              "      <td>AAPL</td>\n",
              "      <td></td>\n",
              "      <td>None</td>\n",
              "      <td>Q1 2023</td>\n",
              "      <td>February 2, 2023</td>\n",
              "      <td>5:00 PM ET</td>\n",
              "    </tr>\n",
              "    <tr>\n",
              "      <th>1</th>\n",
              "      <td>65</td>\n",
              "      <td>AAPL</td>\n",
              "      <td></td>\n",
              "      <td>None</td>\n",
              "      <td>Q4 2022</td>\n",
              "      <td>October 27, 2022</td>\n",
              "      <td>5:00 PM ET</td>\n",
              "    </tr>\n",
              "    <tr>\n",
              "      <th>2</th>\n",
              "      <td>66</td>\n",
              "      <td>AAPL</td>\n",
              "      <td></td>\n",
              "      <td>None</td>\n",
              "      <td>Q3 2022</td>\n",
              "      <td>July 28, 2022</td>\n",
              "      <td>5:00 PM ET</td>\n",
              "    </tr>\n",
              "    <tr>\n",
              "      <th>3</th>\n",
              "      <td>67</td>\n",
              "      <td>AAPL</td>\n",
              "      <td></td>\n",
              "      <td>None</td>\n",
              "      <td>Q2 2022</td>\n",
              "      <td>April 28, 2022</td>\n",
              "      <td>5:00 PM ET</td>\n",
              "    </tr>\n",
              "    <tr>\n",
              "      <th>4</th>\n",
              "      <td>68</td>\n",
              "      <td>AAPL</td>\n",
              "      <td></td>\n",
              "      <td>None</td>\n",
              "      <td>Q1 2022</td>\n",
              "      <td>January 27, 2022</td>\n",
              "      <td>5:00 PM ET</td>\n",
              "    </tr>\n",
              "    <tr>\n",
              "      <th>...</th>\n",
              "      <td>...</td>\n",
              "      <td>...</td>\n",
              "      <td>...</td>\n",
              "      <td>...</td>\n",
              "      <td>...</td>\n",
              "      <td>...</td>\n",
              "      <td>...</td>\n",
              "    </tr>\n",
              "    <tr>\n",
              "      <th>89</th>\n",
              "      <td>153</td>\n",
              "      <td>None</td>\n",
              "      <td>None</td>\n",
              "      <td>None</td>\n",
              "      <td>Q3 2021</td>\n",
              "      <td>November 3, 2021</td>\n",
              "      <td>4:30 PM ET</td>\n",
              "    </tr>\n",
              "    <tr>\n",
              "      <th>90</th>\n",
              "      <td>154</td>\n",
              "      <td>AMZN</td>\n",
              "      <td></td>\n",
              "      <td>None</td>\n",
              "      <td>Q3 2021</td>\n",
              "      <td>October 28, 2021</td>\n",
              "      <td>5:30 PM ET</td>\n",
              "    </tr>\n",
              "    <tr>\n",
              "      <th>91</th>\n",
              "      <td>155</td>\n",
              "      <td>None</td>\n",
              "      <td>None</td>\n",
              "      <td>None</td>\n",
              "      <td>Q2 2021</td>\n",
              "      <td>August 4, 2021</td>\n",
              "      <td>4:30 PM ET</td>\n",
              "    </tr>\n",
              "    <tr>\n",
              "      <th>92</th>\n",
              "      <td>156</td>\n",
              "      <td>AMZN</td>\n",
              "      <td></td>\n",
              "      <td>None</td>\n",
              "      <td>Q2 2021</td>\n",
              "      <td>July 29, 2021</td>\n",
              "      <td>5:30 PM ET</td>\n",
              "    </tr>\n",
              "    <tr>\n",
              "      <th>93</th>\n",
              "      <td>157</td>\n",
              "      <td>None</td>\n",
              "      <td>None</td>\n",
              "      <td>None</td>\n",
              "      <td>Q1 2021</td>\n",
              "      <td>May 12, 2021</td>\n",
              "      <td>4:30 PM ET</td>\n",
              "    </tr>\n",
              "  </tbody>\n",
              "</table>\n",
              "<p>94 rows × 7 columns</p>\n",
              "</div>\n",
              "      <button class=\"colab-df-convert\" onclick=\"convertToInteractive('df-56fee8c5-38bf-431e-a758-ebcb7efd57f4')\"\n",
              "              title=\"Convert this dataframe to an interactive table.\"\n",
              "              style=\"display:none;\">\n",
              "        \n",
              "  <svg xmlns=\"http://www.w3.org/2000/svg\" height=\"24px\"viewBox=\"0 0 24 24\"\n",
              "       width=\"24px\">\n",
              "    <path d=\"M0 0h24v24H0V0z\" fill=\"none\"/>\n",
              "    <path d=\"M18.56 5.44l.94 2.06.94-2.06 2.06-.94-2.06-.94-.94-2.06-.94 2.06-2.06.94zm-11 1L8.5 8.5l.94-2.06 2.06-.94-2.06-.94L8.5 2.5l-.94 2.06-2.06.94zm10 10l.94 2.06.94-2.06 2.06-.94-2.06-.94-.94-2.06-.94 2.06-2.06.94z\"/><path d=\"M17.41 7.96l-1.37-1.37c-.4-.4-.92-.59-1.43-.59-.52 0-1.04.2-1.43.59L10.3 9.45l-7.72 7.72c-.78.78-.78 2.05 0 2.83L4 21.41c.39.39.9.59 1.41.59.51 0 1.02-.2 1.41-.59l7.78-7.78 2.81-2.81c.8-.78.8-2.07 0-2.86zM5.41 20L4 18.59l7.72-7.72 1.47 1.35L5.41 20z\"/>\n",
              "  </svg>\n",
              "      </button>\n",
              "      \n",
              "  <style>\n",
              "    .colab-df-container {\n",
              "      display:flex;\n",
              "      flex-wrap:wrap;\n",
              "      gap: 12px;\n",
              "    }\n",
              "\n",
              "    .colab-df-convert {\n",
              "      background-color: #E8F0FE;\n",
              "      border: none;\n",
              "      border-radius: 50%;\n",
              "      cursor: pointer;\n",
              "      display: none;\n",
              "      fill: #1967D2;\n",
              "      height: 32px;\n",
              "      padding: 0 0 0 0;\n",
              "      width: 32px;\n",
              "    }\n",
              "\n",
              "    .colab-df-convert:hover {\n",
              "      background-color: #E2EBFA;\n",
              "      box-shadow: 0px 1px 2px rgba(60, 64, 67, 0.3), 0px 1px 3px 1px rgba(60, 64, 67, 0.15);\n",
              "      fill: #174EA6;\n",
              "    }\n",
              "\n",
              "    [theme=dark] .colab-df-convert {\n",
              "      background-color: #3B4455;\n",
              "      fill: #D2E3FC;\n",
              "    }\n",
              "\n",
              "    [theme=dark] .colab-df-convert:hover {\n",
              "      background-color: #434B5C;\n",
              "      box-shadow: 0px 1px 3px 1px rgba(0, 0, 0, 0.15);\n",
              "      filter: drop-shadow(0px 1px 2px rgba(0, 0, 0, 0.3));\n",
              "      fill: #FFFFFF;\n",
              "    }\n",
              "  </style>\n",
              "\n",
              "      <script>\n",
              "        const buttonEl =\n",
              "          document.querySelector('#df-56fee8c5-38bf-431e-a758-ebcb7efd57f4 button.colab-df-convert');\n",
              "        buttonEl.style.display =\n",
              "          google.colab.kernel.accessAllowed ? 'block' : 'none';\n",
              "\n",
              "        async function convertToInteractive(key) {\n",
              "          const element = document.querySelector('#df-56fee8c5-38bf-431e-a758-ebcb7efd57f4');\n",
              "          const dataTable =\n",
              "            await google.colab.kernel.invokeFunction('convertToInteractive',\n",
              "                                                     [key], {});\n",
              "          if (!dataTable) return;\n",
              "\n",
              "          const docLinkHtml = 'Like what you see? Visit the ' +\n",
              "            '<a target=\"_blank\" href=https://colab.research.google.com/notebooks/data_table.ipynb>data table notebook</a>'\n",
              "            + ' to learn more about interactive tables.';\n",
              "          element.innerHTML = '';\n",
              "          dataTable['output_type'] = 'display_data';\n",
              "          await google.colab.output.renderOutput(dataTable, element);\n",
              "          const docLink = document.createElement('div');\n",
              "          docLink.innerHTML = docLinkHtml;\n",
              "          element.appendChild(docLink);\n",
              "        }\n",
              "      </script>\n",
              "    </div>\n",
              "  </div>\n",
              "  "
            ],
            "text/plain": [
              "    CC ID Tickers Company Call Title Fiscal Quarter              Date  \\\n",
              "0      64    AAPL               None        Q1 2023  February 2, 2023   \n",
              "1      65    AAPL               None        Q4 2022  October 27, 2022   \n",
              "2      66    AAPL               None        Q3 2022     July 28, 2022   \n",
              "3      67    AAPL               None        Q2 2022    April 28, 2022   \n",
              "4      68    AAPL               None        Q1 2022  January 27, 2022   \n",
              "..    ...     ...     ...        ...            ...               ...   \n",
              "89    153    None    None       None        Q3 2021  November 3, 2021   \n",
              "90    154    AMZN               None        Q3 2021  October 28, 2021   \n",
              "91    155    None    None       None        Q2 2021    August 4, 2021   \n",
              "92    156    AMZN               None        Q2 2021     July 29, 2021   \n",
              "93    157    None    None       None        Q1 2021      May 12, 2021   \n",
              "\n",
              "          Time  \n",
              "0   5:00 PM ET  \n",
              "1   5:00 PM ET  \n",
              "2   5:00 PM ET  \n",
              "3   5:00 PM ET  \n",
              "4   5:00 PM ET  \n",
              "..         ...  \n",
              "89  4:30 PM ET  \n",
              "90  5:30 PM ET  \n",
              "91  4:30 PM ET  \n",
              "92  5:30 PM ET  \n",
              "93  4:30 PM ET  \n",
              "\n",
              "[94 rows x 7 columns]"
            ]
          },
          "execution_count": 75,
          "metadata": {},
          "output_type": "execute_result"
        }
      ],
      "source": [
        "company_info_table"
      ]
    },
    {
      "cell_type": "code",
      "execution_count": null,
      "metadata": {
        "colab": {
          "base_uri": "https://localhost:8080/",
          "height": 463
        },
        "id": "st47aQa8u_5O",
        "outputId": "faaad4d2-7aa2-4250-a32a-01031f03886f"
      },
      "outputs": [
        {
          "data": {
            "text/html": [
              "\n",
              "  <div id=\"df-0d18fcd3-b9fd-4c7e-9168-268008e68fc1\">\n",
              "    <div class=\"colab-df-container\">\n",
              "      <div>\n",
              "<style scoped>\n",
              "    .dataframe tbody tr th:only-of-type {\n",
              "        vertical-align: middle;\n",
              "    }\n",
              "\n",
              "    .dataframe tbody tr th {\n",
              "        vertical-align: top;\n",
              "    }\n",
              "\n",
              "    .dataframe thead th {\n",
              "        text-align: right;\n",
              "    }\n",
              "</style>\n",
              "<table border=\"1\" class=\"dataframe\">\n",
              "  <thead>\n",
              "    <tr style=\"text-align: right;\">\n",
              "      <th></th>\n",
              "      <th>CC ID</th>\n",
              "      <th>Script ID</th>\n",
              "      <th>Participant</th>\n",
              "      <th>Speech</th>\n",
              "      <th>Section</th>\n",
              "    </tr>\n",
              "  </thead>\n",
              "  <tbody>\n",
              "    <tr>\n",
              "      <th>0</th>\n",
              "      <td>64</td>\n",
              "      <td>126</td>\n",
              "      <td>Operator</td>\n",
              "      <td>[Good day, everyone, and welcome to the Apple ...</td>\n",
              "      <td>Speech</td>\n",
              "    </tr>\n",
              "    <tr>\n",
              "      <th>1</th>\n",
              "      <td>64</td>\n",
              "      <td>126</td>\n",
              "      <td>Tejas Gala</td>\n",
              "      <td>[Thank you. Speaking first today is Apple's CE...</td>\n",
              "      <td>Speech</td>\n",
              "    </tr>\n",
              "    <tr>\n",
              "      <th>2</th>\n",
              "      <td>64</td>\n",
              "      <td>126</td>\n",
              "      <td>Timothy Cook</td>\n",
              "      <td>[Thank you, Tejas. Good afternoon, everyone, a...</td>\n",
              "      <td>Speech</td>\n",
              "    </tr>\n",
              "    <tr>\n",
              "      <th>3</th>\n",
              "      <td>64</td>\n",
              "      <td>126</td>\n",
              "      <td>Luca Maestri</td>\n",
              "      <td>[Thank you, Tim, and good afternoon, everyone....</td>\n",
              "      <td>Speech</td>\n",
              "    </tr>\n",
              "    <tr>\n",
              "      <th>4</th>\n",
              "      <td>65</td>\n",
              "      <td>128</td>\n",
              "      <td>Operator</td>\n",
              "      <td>[Good day, and welcome to the Apple Q4 Fiscal ...</td>\n",
              "      <td>Speech</td>\n",
              "    </tr>\n",
              "    <tr>\n",
              "      <th>...</th>\n",
              "      <td>...</td>\n",
              "      <td>...</td>\n",
              "      <td>...</td>\n",
              "      <td>...</td>\n",
              "      <td>...</td>\n",
              "    </tr>\n",
              "    <tr>\n",
              "      <th>399</th>\n",
              "      <td>156</td>\n",
              "      <td>310</td>\n",
              "      <td>Operator</td>\n",
              "      <td>[Thank you for standing by. Good day, everyone...</td>\n",
              "      <td>Speech</td>\n",
              "    </tr>\n",
              "    <tr>\n",
              "      <th>400</th>\n",
              "      <td>156</td>\n",
              "      <td>310</td>\n",
              "      <td>Dave Fildes</td>\n",
              "      <td>[Hello, and welcome to our Q2 2021 financial r...</td>\n",
              "      <td>Speech</td>\n",
              "    </tr>\n",
              "    <tr>\n",
              "      <th>401</th>\n",
              "      <td>157</td>\n",
              "      <td>312</td>\n",
              "      <td>Operator</td>\n",
              "      <td>[Ladies and gentlemen, thank you for standing ...</td>\n",
              "      <td>Speech</td>\n",
              "    </tr>\n",
              "    <tr>\n",
              "      <th>402</th>\n",
              "      <td>157</td>\n",
              "      <td>312</td>\n",
              "      <td>Rose Salzwedel</td>\n",
              "      <td>[Thank you, operator. Hello everyone and welco...</td>\n",
              "      <td>Speech</td>\n",
              "    </tr>\n",
              "    <tr>\n",
              "      <th>403</th>\n",
              "      <td>157</td>\n",
              "      <td>312</td>\n",
              "      <td>Amir Dan Rubin</td>\n",
              "      <td>[Thank you everyone for joining us. Today, we ...</td>\n",
              "      <td>Speech</td>\n",
              "    </tr>\n",
              "  </tbody>\n",
              "</table>\n",
              "<p>404 rows × 5 columns</p>\n",
              "</div>\n",
              "      <button class=\"colab-df-convert\" onclick=\"convertToInteractive('df-0d18fcd3-b9fd-4c7e-9168-268008e68fc1')\"\n",
              "              title=\"Convert this dataframe to an interactive table.\"\n",
              "              style=\"display:none;\">\n",
              "        \n",
              "  <svg xmlns=\"http://www.w3.org/2000/svg\" height=\"24px\"viewBox=\"0 0 24 24\"\n",
              "       width=\"24px\">\n",
              "    <path d=\"M0 0h24v24H0V0z\" fill=\"none\"/>\n",
              "    <path d=\"M18.56 5.44l.94 2.06.94-2.06 2.06-.94-2.06-.94-.94-2.06-.94 2.06-2.06.94zm-11 1L8.5 8.5l.94-2.06 2.06-.94-2.06-.94L8.5 2.5l-.94 2.06-2.06.94zm10 10l.94 2.06.94-2.06 2.06-.94-2.06-.94-.94-2.06-.94 2.06-2.06.94z\"/><path d=\"M17.41 7.96l-1.37-1.37c-.4-.4-.92-.59-1.43-.59-.52 0-1.04.2-1.43.59L10.3 9.45l-7.72 7.72c-.78.78-.78 2.05 0 2.83L4 21.41c.39.39.9.59 1.41.59.51 0 1.02-.2 1.41-.59l7.78-7.78 2.81-2.81c.8-.78.8-2.07 0-2.86zM5.41 20L4 18.59l7.72-7.72 1.47 1.35L5.41 20z\"/>\n",
              "  </svg>\n",
              "      </button>\n",
              "      \n",
              "  <style>\n",
              "    .colab-df-container {\n",
              "      display:flex;\n",
              "      flex-wrap:wrap;\n",
              "      gap: 12px;\n",
              "    }\n",
              "\n",
              "    .colab-df-convert {\n",
              "      background-color: #E8F0FE;\n",
              "      border: none;\n",
              "      border-radius: 50%;\n",
              "      cursor: pointer;\n",
              "      display: none;\n",
              "      fill: #1967D2;\n",
              "      height: 32px;\n",
              "      padding: 0 0 0 0;\n",
              "      width: 32px;\n",
              "    }\n",
              "\n",
              "    .colab-df-convert:hover {\n",
              "      background-color: #E2EBFA;\n",
              "      box-shadow: 0px 1px 2px rgba(60, 64, 67, 0.3), 0px 1px 3px 1px rgba(60, 64, 67, 0.15);\n",
              "      fill: #174EA6;\n",
              "    }\n",
              "\n",
              "    [theme=dark] .colab-df-convert {\n",
              "      background-color: #3B4455;\n",
              "      fill: #D2E3FC;\n",
              "    }\n",
              "\n",
              "    [theme=dark] .colab-df-convert:hover {\n",
              "      background-color: #434B5C;\n",
              "      box-shadow: 0px 1px 3px 1px rgba(0, 0, 0, 0.15);\n",
              "      filter: drop-shadow(0px 1px 2px rgba(0, 0, 0, 0.3));\n",
              "      fill: #FFFFFF;\n",
              "    }\n",
              "  </style>\n",
              "\n",
              "      <script>\n",
              "        const buttonEl =\n",
              "          document.querySelector('#df-0d18fcd3-b9fd-4c7e-9168-268008e68fc1 button.colab-df-convert');\n",
              "        buttonEl.style.display =\n",
              "          google.colab.kernel.accessAllowed ? 'block' : 'none';\n",
              "\n",
              "        async function convertToInteractive(key) {\n",
              "          const element = document.querySelector('#df-0d18fcd3-b9fd-4c7e-9168-268008e68fc1');\n",
              "          const dataTable =\n",
              "            await google.colab.kernel.invokeFunction('convertToInteractive',\n",
              "                                                     [key], {});\n",
              "          if (!dataTable) return;\n",
              "\n",
              "          const docLinkHtml = 'Like what you see? Visit the ' +\n",
              "            '<a target=\"_blank\" href=https://colab.research.google.com/notebooks/data_table.ipynb>data table notebook</a>'\n",
              "            + ' to learn more about interactive tables.';\n",
              "          element.innerHTML = '';\n",
              "          dataTable['output_type'] = 'display_data';\n",
              "          await google.colab.output.renderOutput(dataTable, element);\n",
              "          const docLink = document.createElement('div');\n",
              "          docLink.innerHTML = docLinkHtml;\n",
              "          element.appendChild(docLink);\n",
              "        }\n",
              "      </script>\n",
              "    </div>\n",
              "  </div>\n",
              "  "
            ],
            "text/plain": [
              "     CC ID  Script ID     Participant  \\\n",
              "0       64        126        Operator   \n",
              "1       64        126      Tejas Gala   \n",
              "2       64        126    Timothy Cook   \n",
              "3       64        126    Luca Maestri   \n",
              "4       65        128        Operator   \n",
              "..     ...        ...             ...   \n",
              "399    156        310        Operator   \n",
              "400    156        310     Dave Fildes   \n",
              "401    157        312        Operator   \n",
              "402    157        312  Rose Salzwedel   \n",
              "403    157        312  Amir Dan Rubin   \n",
              "\n",
              "                                                Speech Section  \n",
              "0    [Good day, everyone, and welcome to the Apple ...  Speech  \n",
              "1    [Thank you. Speaking first today is Apple's CE...  Speech  \n",
              "2    [Thank you, Tejas. Good afternoon, everyone, a...  Speech  \n",
              "3    [Thank you, Tim, and good afternoon, everyone....  Speech  \n",
              "4    [Good day, and welcome to the Apple Q4 Fiscal ...  Speech  \n",
              "..                                                 ...     ...  \n",
              "399  [Thank you for standing by. Good day, everyone...  Speech  \n",
              "400  [Hello, and welcome to our Q2 2021 financial r...  Speech  \n",
              "401  [Ladies and gentlemen, thank you for standing ...  Speech  \n",
              "402  [Thank you, operator. Hello everyone and welco...  Speech  \n",
              "403  [Thank you everyone for joining us. Today, we ...  Speech  \n",
              "\n",
              "[404 rows x 5 columns]"
            ]
          },
          "execution_count": 76,
          "metadata": {},
          "output_type": "execute_result"
        }
      ],
      "source": [
        "Speech_table"
      ]
    },
    {
      "cell_type": "code",
      "execution_count": null,
      "metadata": {
        "id": "HeIdq0b94x2P"
      },
      "outputs": [],
      "source": [
        "Speech_table.to_csv(\"/content/speech.csv\")"
      ]
    },
    {
      "cell_type": "code",
      "execution_count": null,
      "metadata": {
        "colab": {
          "base_uri": "https://localhost:8080/",
          "height": 1000
        },
        "id": "4LIITFsKjeLD",
        "outputId": "c77701fb-947d-4d69-9bb0-c9cf4fa64f46"
      },
      "outputs": [
        {
          "data": {
            "text/html": [
              "\n",
              "  <div id=\"df-077665b0-10d0-414c-9cff-ce040c8f3708\">\n",
              "    <div class=\"colab-df-container\">\n",
              "      <div>\n",
              "<style scoped>\n",
              "    .dataframe tbody tr th:only-of-type {\n",
              "        vertical-align: middle;\n",
              "    }\n",
              "\n",
              "    .dataframe tbody tr th {\n",
              "        vertical-align: top;\n",
              "    }\n",
              "\n",
              "    .dataframe thead th {\n",
              "        text-align: right;\n",
              "    }\n",
              "</style>\n",
              "<table border=\"1\" class=\"dataframe\">\n",
              "  <thead>\n",
              "    <tr style=\"text-align: right;\">\n",
              "      <th></th>\n",
              "      <th>CC ID</th>\n",
              "      <th>Script ID</th>\n",
              "      <th>Participant</th>\n",
              "      <th>Speech</th>\n",
              "      <th>Tickers</th>\n",
              "      <th>Fiscal Quarter</th>\n",
              "      <th>Date</th>\n",
              "      <th>Sector</th>\n",
              "      <th>Cusip</th>\n",
              "      <th>Company</th>\n",
              "      <th>Adj Close</th>\n",
              "      <th>Adj Close_lag_30</th>\n",
              "      <th>Volume</th>\n",
              "      <th>Price_bool</th>\n",
              "    </tr>\n",
              "  </thead>\n",
              "  <tbody>\n",
              "    <tr>\n",
              "      <th>2</th>\n",
              "      <td>2</td>\n",
              "      <td>4</td>\n",
              "      <td>['Operator', 'Tejas Gala', 'Tim Cook', 'Luca M...</td>\n",
              "      <td>[[\"Good day, and welcome to the Apple Q4 Fisca...</td>\n",
              "      <td>AAPL</td>\n",
              "      <td>Q4 2022</td>\n",
              "      <td>2022-10-27</td>\n",
              "      <td>Information Technology</td>\n",
              "      <td>037833100</td>\n",
              "      <td>AAPL</td>\n",
              "      <td>144.339813</td>\n",
              "      <td>151.885742</td>\n",
              "      <td>109180200.0</td>\n",
              "      <td>1</td>\n",
              "    </tr>\n",
              "    <tr>\n",
              "      <th>3</th>\n",
              "      <td>3</td>\n",
              "      <td>6</td>\n",
              "      <td>['Operator', 'Tejas Gala', 'Tim Cook', 'Luca M...</td>\n",
              "      <td>[[\"Good day, and welcome to the Apple Q3 FY 20...</td>\n",
              "      <td>AAPL</td>\n",
              "      <td>Q3 2022</td>\n",
              "      <td>2022-07-28</td>\n",
              "      <td>Information Technology</td>\n",
              "      <td>037833100</td>\n",
              "      <td>AAPL</td>\n",
              "      <td>156.632370</td>\n",
              "      <td>132.154495</td>\n",
              "      <td>81378700.0</td>\n",
              "      <td>0</td>\n",
              "    </tr>\n",
              "    <tr>\n",
              "      <th>4</th>\n",
              "      <td>4</td>\n",
              "      <td>8</td>\n",
              "      <td>['Operator', 'Tejas Gala', 'Tim Cook', 'Luca M...</td>\n",
              "      <td>[[\"Good day and welcome to the Apple Q2 FY 202...</td>\n",
              "      <td>AAPL</td>\n",
              "      <td>Q2 2022</td>\n",
              "      <td>2022-04-28</td>\n",
              "      <td>Information Technology</td>\n",
              "      <td>037833100</td>\n",
              "      <td>AAPL</td>\n",
              "      <td>162.654678</td>\n",
              "      <td>158.629059</td>\n",
              "      <td>130216800.0</td>\n",
              "      <td>0</td>\n",
              "    </tr>\n",
              "    <tr>\n",
              "      <th>5</th>\n",
              "      <td>5</td>\n",
              "      <td>10</td>\n",
              "      <td>['Operator', 'Tejas Gala', 'Tim Cook', 'Luca M...</td>\n",
              "      <td>[[\"Good day, and welcome to the Apple Q1 FY 20...</td>\n",
              "      <td>AAPL</td>\n",
              "      <td>Q1 2022</td>\n",
              "      <td>2022-01-27</td>\n",
              "      <td>Information Technology</td>\n",
              "      <td>037833100</td>\n",
              "      <td>AAPL</td>\n",
              "      <td>158.059921</td>\n",
              "      <td>173.059830</td>\n",
              "      <td>121954600.0</td>\n",
              "      <td>1</td>\n",
              "    </tr>\n",
              "    <tr>\n",
              "      <th>6</th>\n",
              "      <td>6</td>\n",
              "      <td>12</td>\n",
              "      <td>['Operator', 'Tejas Gala', 'Tim Cook', 'Luca M...</td>\n",
              "      <td>[['Good day, and welcome to the Apple Q4 Fisca...</td>\n",
              "      <td>AAPL</td>\n",
              "      <td>Q4 2021</td>\n",
              "      <td>2021-10-28</td>\n",
              "      <td>Information Technology</td>\n",
              "      <td>037833100</td>\n",
              "      <td>AAPL</td>\n",
              "      <td>151.237671</td>\n",
              "      <td>147.490662</td>\n",
              "      <td>100077900.0</td>\n",
              "      <td>0</td>\n",
              "    </tr>\n",
              "    <tr>\n",
              "      <th>...</th>\n",
              "      <td>...</td>\n",
              "      <td>...</td>\n",
              "      <td>...</td>\n",
              "      <td>...</td>\n",
              "      <td>...</td>\n",
              "      <td>...</td>\n",
              "      <td>...</td>\n",
              "      <td>...</td>\n",
              "      <td>...</td>\n",
              "      <td>...</td>\n",
              "      <td>...</td>\n",
              "      <td>...</td>\n",
              "      <td>...</td>\n",
              "      <td>...</td>\n",
              "    </tr>\n",
              "    <tr>\n",
              "      <th>849</th>\n",
              "      <td>876</td>\n",
              "      <td>1752</td>\n",
              "      <td>['Operator', 'Stephen Littleton', 'Darren Woods']</td>\n",
              "      <td>[['Good day, everyone, and welcome to this Exx...</td>\n",
              "      <td>XOM</td>\n",
              "      <td>Q4 2021</td>\n",
              "      <td>2022-02-01</td>\n",
              "      <td>Energy</td>\n",
              "      <td>30231G102</td>\n",
              "      <td>XOM</td>\n",
              "      <td>77.152145</td>\n",
              "      <td>57.298561</td>\n",
              "      <td>61033100.0</td>\n",
              "      <td>0</td>\n",
              "    </tr>\n",
              "    <tr>\n",
              "      <th>850</th>\n",
              "      <td>877</td>\n",
              "      <td>1754</td>\n",
              "      <td>['Operator', 'Stephen Littleton', 'Darren Woods']</td>\n",
              "      <td>[[\"Please standby. We're about to begin. Good ...</td>\n",
              "      <td>XOM</td>\n",
              "      <td>Q3 2021</td>\n",
              "      <td>2021-10-29</td>\n",
              "      <td>Energy</td>\n",
              "      <td>30231G102</td>\n",
              "      <td>XOM</td>\n",
              "      <td>60.720501</td>\n",
              "      <td>51.951958</td>\n",
              "      <td>23966300.0</td>\n",
              "      <td>0</td>\n",
              "    </tr>\n",
              "    <tr>\n",
              "      <th>851</th>\n",
              "      <td>878</td>\n",
              "      <td>1756</td>\n",
              "      <td>['Operator', 'Stephen Littleton', 'Darren Wood...</td>\n",
              "      <td>[[\"Good day, everyone, and welcome to the Exxo...</td>\n",
              "      <td>XOM</td>\n",
              "      <td>Q2 2021</td>\n",
              "      <td>2021-07-30</td>\n",
              "      <td>Energy</td>\n",
              "      <td>30231G102</td>\n",
              "      <td>XOM</td>\n",
              "      <td>53.413345</td>\n",
              "      <td>57.514221</td>\n",
              "      <td>28652800.0</td>\n",
              "      <td>1</td>\n",
              "    </tr>\n",
              "    <tr>\n",
              "      <th>852</th>\n",
              "      <td>879</td>\n",
              "      <td>1758</td>\n",
              "      <td>['Operator', 'Stephen Littleton', 'Darren Woods']</td>\n",
              "      <td>[['Good day, everyone, and welcome to this Exx...</td>\n",
              "      <td>XOM</td>\n",
              "      <td>Q1 2021</td>\n",
              "      <td>2021-04-30</td>\n",
              "      <td>Energy</td>\n",
              "      <td>30231G102</td>\n",
              "      <td>XOM</td>\n",
              "      <td>52.344616</td>\n",
              "      <td>51.951397</td>\n",
              "      <td>30518400.0</td>\n",
              "      <td>0</td>\n",
              "    </tr>\n",
              "    <tr>\n",
              "      <th>853</th>\n",
              "      <td>880</td>\n",
              "      <td>1760</td>\n",
              "      <td>['Operator', 'Stephen Littleton', 'Darren Woods']</td>\n",
              "      <td>[['Good day, everyone, and welcome to this Exx...</td>\n",
              "      <td>XOM</td>\n",
              "      <td>Q4 2020</td>\n",
              "      <td>2021-02-02</td>\n",
              "      <td>Energy</td>\n",
              "      <td>30231G102</td>\n",
              "      <td>XOM</td>\n",
              "      <td>41.030754</td>\n",
              "      <td>39.097462</td>\n",
              "      <td>31940400.0</td>\n",
              "      <td>0</td>\n",
              "    </tr>\n",
              "  </tbody>\n",
              "</table>\n",
              "<p>571 rows × 14 columns</p>\n",
              "</div>\n",
              "      <button class=\"colab-df-convert\" onclick=\"convertToInteractive('df-077665b0-10d0-414c-9cff-ce040c8f3708')\"\n",
              "              title=\"Convert this dataframe to an interactive table.\"\n",
              "              style=\"display:none;\">\n",
              "        \n",
              "  <svg xmlns=\"http://www.w3.org/2000/svg\" height=\"24px\"viewBox=\"0 0 24 24\"\n",
              "       width=\"24px\">\n",
              "    <path d=\"M0 0h24v24H0V0z\" fill=\"none\"/>\n",
              "    <path d=\"M18.56 5.44l.94 2.06.94-2.06 2.06-.94-2.06-.94-.94-2.06-.94 2.06-2.06.94zm-11 1L8.5 8.5l.94-2.06 2.06-.94-2.06-.94L8.5 2.5l-.94 2.06-2.06.94zm10 10l.94 2.06.94-2.06 2.06-.94-2.06-.94-.94-2.06-.94 2.06-2.06.94z\"/><path d=\"M17.41 7.96l-1.37-1.37c-.4-.4-.92-.59-1.43-.59-.52 0-1.04.2-1.43.59L10.3 9.45l-7.72 7.72c-.78.78-.78 2.05 0 2.83L4 21.41c.39.39.9.59 1.41.59.51 0 1.02-.2 1.41-.59l7.78-7.78 2.81-2.81c.8-.78.8-2.07 0-2.86zM5.41 20L4 18.59l7.72-7.72 1.47 1.35L5.41 20z\"/>\n",
              "  </svg>\n",
              "      </button>\n",
              "      \n",
              "  <style>\n",
              "    .colab-df-container {\n",
              "      display:flex;\n",
              "      flex-wrap:wrap;\n",
              "      gap: 12px;\n",
              "    }\n",
              "\n",
              "    .colab-df-convert {\n",
              "      background-color: #E8F0FE;\n",
              "      border: none;\n",
              "      border-radius: 50%;\n",
              "      cursor: pointer;\n",
              "      display: none;\n",
              "      fill: #1967D2;\n",
              "      height: 32px;\n",
              "      padding: 0 0 0 0;\n",
              "      width: 32px;\n",
              "    }\n",
              "\n",
              "    .colab-df-convert:hover {\n",
              "      background-color: #E2EBFA;\n",
              "      box-shadow: 0px 1px 2px rgba(60, 64, 67, 0.3), 0px 1px 3px 1px rgba(60, 64, 67, 0.15);\n",
              "      fill: #174EA6;\n",
              "    }\n",
              "\n",
              "    [theme=dark] .colab-df-convert {\n",
              "      background-color: #3B4455;\n",
              "      fill: #D2E3FC;\n",
              "    }\n",
              "\n",
              "    [theme=dark] .colab-df-convert:hover {\n",
              "      background-color: #434B5C;\n",
              "      box-shadow: 0px 1px 3px 1px rgba(0, 0, 0, 0.15);\n",
              "      filter: drop-shadow(0px 1px 2px rgba(0, 0, 0, 0.3));\n",
              "      fill: #FFFFFF;\n",
              "    }\n",
              "  </style>\n",
              "\n",
              "      <script>\n",
              "        const buttonEl =\n",
              "          document.querySelector('#df-077665b0-10d0-414c-9cff-ce040c8f3708 button.colab-df-convert');\n",
              "        buttonEl.style.display =\n",
              "          google.colab.kernel.accessAllowed ? 'block' : 'none';\n",
              "\n",
              "        async function convertToInteractive(key) {\n",
              "          const element = document.querySelector('#df-077665b0-10d0-414c-9cff-ce040c8f3708');\n",
              "          const dataTable =\n",
              "            await google.colab.kernel.invokeFunction('convertToInteractive',\n",
              "                                                     [key], {});\n",
              "          if (!dataTable) return;\n",
              "\n",
              "          const docLinkHtml = 'Like what you see? Visit the ' +\n",
              "            '<a target=\"_blank\" href=https://colab.research.google.com/notebooks/data_table.ipynb>data table notebook</a>'\n",
              "            + ' to learn more about interactive tables.';\n",
              "          element.innerHTML = '';\n",
              "          dataTable['output_type'] = 'display_data';\n",
              "          await google.colab.output.renderOutput(dataTable, element);\n",
              "          const docLink = document.createElement('div');\n",
              "          docLink.innerHTML = docLinkHtml;\n",
              "          element.appendChild(docLink);\n",
              "        }\n",
              "      </script>\n",
              "    </div>\n",
              "  </div>\n",
              "  "
            ],
            "text/plain": [
              "     CC ID  Script ID                                        Participant  \\\n",
              "2        2          4  ['Operator', 'Tejas Gala', 'Tim Cook', 'Luca M...   \n",
              "3        3          6  ['Operator', 'Tejas Gala', 'Tim Cook', 'Luca M...   \n",
              "4        4          8  ['Operator', 'Tejas Gala', 'Tim Cook', 'Luca M...   \n",
              "5        5         10  ['Operator', 'Tejas Gala', 'Tim Cook', 'Luca M...   \n",
              "6        6         12  ['Operator', 'Tejas Gala', 'Tim Cook', 'Luca M...   \n",
              "..     ...        ...                                                ...   \n",
              "849    876       1752  ['Operator', 'Stephen Littleton', 'Darren Woods']   \n",
              "850    877       1754  ['Operator', 'Stephen Littleton', 'Darren Woods']   \n",
              "851    878       1756  ['Operator', 'Stephen Littleton', 'Darren Wood...   \n",
              "852    879       1758  ['Operator', 'Stephen Littleton', 'Darren Woods']   \n",
              "853    880       1760  ['Operator', 'Stephen Littleton', 'Darren Woods']   \n",
              "\n",
              "                                                Speech Tickers Fiscal Quarter  \\\n",
              "2    [[\"Good day, and welcome to the Apple Q4 Fisca...    AAPL        Q4 2022   \n",
              "3    [[\"Good day, and welcome to the Apple Q3 FY 20...    AAPL        Q3 2022   \n",
              "4    [[\"Good day and welcome to the Apple Q2 FY 202...    AAPL        Q2 2022   \n",
              "5    [[\"Good day, and welcome to the Apple Q1 FY 20...    AAPL        Q1 2022   \n",
              "6    [['Good day, and welcome to the Apple Q4 Fisca...    AAPL        Q4 2021   \n",
              "..                                                 ...     ...            ...   \n",
              "849  [['Good day, everyone, and welcome to this Exx...     XOM        Q4 2021   \n",
              "850  [[\"Please standby. We're about to begin. Good ...     XOM        Q3 2021   \n",
              "851  [[\"Good day, everyone, and welcome to the Exxo...     XOM        Q2 2021   \n",
              "852  [['Good day, everyone, and welcome to this Exx...     XOM        Q1 2021   \n",
              "853  [['Good day, everyone, and welcome to this Exx...     XOM        Q4 2020   \n",
              "\n",
              "           Date                  Sector      Cusip Company   Adj Close  \\\n",
              "2    2022-10-27  Information Technology  037833100    AAPL  144.339813   \n",
              "3    2022-07-28  Information Technology  037833100    AAPL  156.632370   \n",
              "4    2022-04-28  Information Technology  037833100    AAPL  162.654678   \n",
              "5    2022-01-27  Information Technology  037833100    AAPL  158.059921   \n",
              "6    2021-10-28  Information Technology  037833100    AAPL  151.237671   \n",
              "..          ...                     ...        ...     ...         ...   \n",
              "849  2022-02-01                  Energy  30231G102     XOM   77.152145   \n",
              "850  2021-10-29                  Energy  30231G102     XOM   60.720501   \n",
              "851  2021-07-30                  Energy  30231G102     XOM   53.413345   \n",
              "852  2021-04-30                  Energy  30231G102     XOM   52.344616   \n",
              "853  2021-02-02                  Energy  30231G102     XOM   41.030754   \n",
              "\n",
              "     Adj Close_lag_30       Volume  Price_bool  \n",
              "2          151.885742  109180200.0           1  \n",
              "3          132.154495   81378700.0           0  \n",
              "4          158.629059  130216800.0           0  \n",
              "5          173.059830  121954600.0           1  \n",
              "6          147.490662  100077900.0           0  \n",
              "..                ...          ...         ...  \n",
              "849         57.298561   61033100.0           0  \n",
              "850         51.951958   23966300.0           0  \n",
              "851         57.514221   28652800.0           1  \n",
              "852         51.951397   30518400.0           0  \n",
              "853         39.097462   31940400.0           0  \n",
              "\n",
              "[571 rows x 14 columns]"
            ]
          },
          "execution_count": 5,
          "metadata": {},
          "output_type": "execute_result"
        }
      ],
      "source": [
        "Speech_table"
      ]
    },
    {
      "cell_type": "code",
      "execution_count": null,
      "metadata": {
        "id": "yqlP7JoijYUe"
      },
      "outputs": [],
      "source": [
        "Speech_table = pd.read_csv(\"/content/calls_max.csv\", header = 0, index_col = 0)"
      ]
    },
    {
      "cell_type": "code",
      "execution_count": null,
      "metadata": {
        "id": "JoqMVNFjz1km"
      },
      "outputs": [],
      "source": []
    },
    {
      "cell_type": "code",
      "execution_count": null,
      "metadata": {
        "id": "QZZyfhbs46tu"
      },
      "outputs": [],
      "source": [
        "company_info_table.to_csv(\"/content/company_info.csv\")"
      ]
    },
    {
      "cell_type": "code",
      "execution_count": null,
      "metadata": {
        "id": "xzJdGjXo7v8s"
      },
      "outputs": [],
      "source": [
        "QA_table.to_csv(\"/content/qa_session.csv\")"
      ]
    },
    {
      "cell_type": "markdown",
      "metadata": {
        "id": "qSV0rGbsuQfr"
      },
      "source": [
        "### Pre-prosessing"
      ]
    },
    {
      "cell_type": "code",
      "execution_count": null,
      "metadata": {
        "colab": {
          "base_uri": "https://localhost:8080/"
        },
        "id": "jixcRKnau6wg",
        "outputId": "b3bd4af9-2113-4b8b-99a1-50de1cfc6557"
      },
      "outputs": [
        {
          "output_type": "stream",
          "name": "stderr",
          "text": [
            "[nltk_data] Downloading package stopwords to /root/nltk_data...\n",
            "[nltk_data]   Package stopwords is already up-to-date!\n"
          ]
        }
      ],
      "source": [
        "\n",
        "nltk.download('stopwords')\n",
        "stop_words = stopwords.words('english')"
      ]
    },
    {
      "cell_type": "code",
      "execution_count": null,
      "metadata": {
        "id": "cYfIetKau4rO"
      },
      "outputs": [],
      "source": [
        "\n",
        "def remove_chars_from_text(text, chars):\n",
        "    return \"\".join([ch for ch in text if ch not in chars])\n",
        "\n",
        "def data_pre_processing(text):\n",
        "  spec_chars = string.punctuation\n",
        "  text = text.apply(lambda x : remove_chars_from_text(x,spec_chars)) #remove punctuations\n",
        "  text = text.apply(lambda x : re.sub(r'\\n',\" \",x)) #remove punctuations\n",
        "  text.apply(lambda x : x.lower()) #makes letter lower\n",
        "  STOPWORDS = set(stopwords.words('english'))\n",
        "  text  = text.apply(lambda x : ' '.join(word for word in x.split() if word not in STOPWORDS)) # delete stopwords\n",
        "  return text"
      ]
    },
    {
      "cell_type": "code",
      "execution_count": null,
      "metadata": {
        "colab": {
          "base_uri": "https://localhost:8080/"
        },
        "id": "aSgWdkgQ9Gr8",
        "outputId": "731e349a-75e8-4712-d662-2b59cbea7bce"
      },
      "outputs": [
        {
          "name": "stdout",
          "output_type": "stream",
          "text": [
            "Looking in indexes: https://pypi.org/simple, https://us-python.pkg.dev/colab-wheels/public/simple/\n",
            "Collecting wordnet\n",
            "  Downloading wordnet-0.0.1b2.tar.gz (8.8 kB)\n",
            "  Preparing metadata (setup.py) ... \u001b[?25l\u001b[?25hdone\n",
            "Collecting colorama==0.3.9 (from wordnet)\n",
            "  Downloading colorama-0.3.9-py2.py3-none-any.whl (20 kB)\n",
            "Building wheels for collected packages: wordnet\n",
            "  Building wheel for wordnet (setup.py) ... \u001b[?25l\u001b[?25hdone\n",
            "  Created wheel for wordnet: filename=wordnet-0.0.1b2-py3-none-any.whl size=10504 sha256=52cf09c4be19b228432b1d99466534c633f2ea456f8a07b623eae114f179e2d9\n",
            "  Stored in directory: /root/.cache/pip/wheels/c0/a1/e8/4649c8712033dcdbd1e64a0fc75216a5d1769665852c36b4f9\n",
            "Successfully built wordnet\n",
            "Installing collected packages: colorama, wordnet\n",
            "Successfully installed colorama-0.3.9 wordnet-0.0.1b2\n"
          ]
        }
      ],
      "source": [
        "pip install wordnet"
      ]
    },
    {
      "cell_type": "code",
      "execution_count": null,
      "metadata": {
        "colab": {
          "base_uri": "https://localhost:8080/"
        },
        "id": "HUHqGVmuPWlE",
        "outputId": "7663808f-ce08-4201-cc87-a7a4be5256d8"
      },
      "outputs": [
        {
          "name": "stdout",
          "output_type": "stream",
          "text": [
            "Looking in indexes: https://pypi.org/simple, https://us-python.pkg.dev/colab-wheels/public/simple/\n",
            "Requirement already satisfied: nltk in /usr/local/lib/python3.10/dist-packages (3.8.1)\n",
            "Requirement already satisfied: click in /usr/local/lib/python3.10/dist-packages (from nltk) (8.1.3)\n",
            "Requirement already satisfied: joblib in /usr/local/lib/python3.10/dist-packages (from nltk) (1.2.0)\n",
            "Requirement already satisfied: regex>=2021.8.3 in /usr/local/lib/python3.10/dist-packages (from nltk) (2022.10.31)\n",
            "Requirement already satisfied: tqdm in /usr/local/lib/python3.10/dist-packages (from nltk) (4.65.0)\n"
          ]
        }
      ],
      "source": [
        "pip install nltk"
      ]
    },
    {
      "cell_type": "code",
      "execution_count": null,
      "metadata": {
        "colab": {
          "base_uri": "https://localhost:8080/"
        },
        "id": "uOG_obHAHyQx",
        "outputId": "aad73406-b8fd-4b26-b819-5e6c9d70eb09"
      },
      "outputs": [
        {
          "output_type": "stream",
          "name": "stderr",
          "text": [
            "[nltk_data] Downloading package wordnet to /root/nltk_data...\n",
            "[nltk_data]   Package wordnet is already up-to-date!\n",
            "[nltk_data] Downloading package omw-1.4 to /root/nltk_data...\n",
            "[nltk_data]   Package omw-1.4 is already up-to-date!\n",
            "[nltk_data] Downloading package punkt to /root/nltk_data...\n",
            "[nltk_data]   Package punkt is already up-to-date!\n"
          ]
        },
        {
          "output_type": "execute_result",
          "data": {
            "text/plain": [
              "True"
            ]
          },
          "metadata": {},
          "execution_count": 10
        }
      ],
      "source": [
        "from nltk.stem import WordNetLemmatizer\n",
        "import nltk\n",
        "nltk.download('wordnet')\n",
        "nltk.download('omw-1.4')\n",
        "nltk.download('punkt')"
      ]
    },
    {
      "cell_type": "code",
      "execution_count": null,
      "metadata": {
        "id": "Y36A4233P3oz"
      },
      "outputs": [],
      "source": [
        "lemmatizer = WordNetLemmatizer()\n",
        "Speech_table.Speech = data_pre_processing(Speech_table.Speech)\n",
        "Speech_table.Speech = Speech_table.Speech.apply(lambda x : lemmatizer.lemmatize(x))"
      ]
    },
    {
      "cell_type": "code",
      "execution_count": null,
      "metadata": {
        "id": "FUyM4SHXmo_9"
      },
      "outputs": [],
      "source": [
        "Speech_table.Speech = data_pre_processing(Speech_table.Speech)"
      ]
    },
    {
      "cell_type": "code",
      "execution_count": null,
      "metadata": {
        "id": "QyZnSu9r9ZMM"
      },
      "outputs": [],
      "source": [
        "Speech_table.Speech = Speech_table.Speech.apply(lambda x : lemmatizer.lemmatize(x))"
      ]
    },
    {
      "cell_type": "code",
      "execution_count": null,
      "metadata": {
        "id": "JzMgzf7Y1g-l"
      },
      "outputs": [],
      "source": [
        "speech_new = pd.DataFrame()\n",
        "speech_new[\"CC ID\"] = Speech_table[\"CC ID\"].unique()\n",
        "speech_new[\"Script ID\"] = Speech_table[\"Script ID\"].unique()\n",
        "a = []\n",
        "\n",
        "for i in Speech_table.groupby(\"Script ID\").Speech:\n",
        "      a.append(list(i[1].values ))\n",
        "b = []\n",
        "\n",
        "for i in Speech_table.groupby(\"Script ID\").Participant:\n",
        "      b.append(list(i[1].values ))\n",
        "speech_new[\"Participant\"] = b\n",
        "speech_new[\"Speech\"] = a"
      ]
    },
    {
      "cell_type": "code",
      "execution_count": null,
      "metadata": {
        "id": "52lepAOI1_4r"
      },
      "outputs": [],
      "source": [
        "speech_new[\"Script ID\"] = Speech_table[\"Script ID\"].unique()"
      ]
    },
    {
      "cell_type": "code",
      "execution_count": null,
      "metadata": {
        "id": "m0UNZ5-dz-Q3"
      },
      "outputs": [],
      "source": [
        "a = []\n",
        "\n",
        "for i in Speech_table.groupby(\"Script ID\").Speech:\n",
        "      a.append(list(i[1].values ))"
      ]
    },
    {
      "cell_type": "code",
      "execution_count": null,
      "metadata": {
        "id": "cc4dT_M03Ztf"
      },
      "outputs": [],
      "source": [
        "b = []\n",
        "\n",
        "for i in Speech_table.groupby(\"Script ID\").Participant:\n",
        "      b.append(list(i[1].values ))"
      ]
    },
    {
      "cell_type": "code",
      "execution_count": null,
      "metadata": {
        "id": "Gu4T5vxL3kj2"
      },
      "outputs": [],
      "source": [
        "speech_new[\"Participant\"] = b"
      ]
    },
    {
      "cell_type": "code",
      "execution_count": null,
      "metadata": {
        "id": "YO59j0LY2NYa"
      },
      "outputs": [],
      "source": [
        "speech_new[\"Speech\"] = a"
      ]
    },
    {
      "cell_type": "code",
      "execution_count": null,
      "metadata": {
        "colab": {
          "base_uri": "https://localhost:8080/",
          "height": 109
        },
        "id": "M5tQhD5M3URs",
        "outputId": "159b850c-382c-4171-f577-9fc82ad163e7"
      },
      "outputs": [
        {
          "data": {
            "text/html": [
              "\n",
              "  <div id=\"df-611dc98a-56f8-4d9a-af9a-58b9cf2fcd11\">\n",
              "    <div class=\"colab-df-container\">\n",
              "      <div>\n",
              "<style scoped>\n",
              "    .dataframe tbody tr th:only-of-type {\n",
              "        vertical-align: middle;\n",
              "    }\n",
              "\n",
              "    .dataframe tbody tr th {\n",
              "        vertical-align: top;\n",
              "    }\n",
              "\n",
              "    .dataframe thead th {\n",
              "        text-align: right;\n",
              "    }\n",
              "</style>\n",
              "<table border=\"1\" class=\"dataframe\">\n",
              "  <thead>\n",
              "    <tr style=\"text-align: right;\">\n",
              "      <th></th>\n",
              "      <th>CC ID</th>\n",
              "      <th>Script ID</th>\n",
              "      <th>Participant</th>\n",
              "      <th>Speech</th>\n",
              "    </tr>\n",
              "  </thead>\n",
              "  <tbody>\n",
              "    <tr>\n",
              "      <th>0</th>\n",
              "      <td>0</td>\n",
              "      <td>0</td>\n",
              "      <td>[Operator, Tejas Gala, Timothy Cook, Luca Maes...</td>\n",
              "      <td>[Good day everyone welcome Apple Q1 Fiscal Yea...</td>\n",
              "    </tr>\n",
              "    <tr>\n",
              "      <th>1</th>\n",
              "      <td>1</td>\n",
              "      <td>2</td>\n",
              "      <td>[Operator, Tejas Gala, Tim Cook, Luca Maestri]</td>\n",
              "      <td>[Good day welcome Apple Q4 Fiscal Year 2022 Ea...</td>\n",
              "    </tr>\n",
              "  </tbody>\n",
              "</table>\n",
              "</div>\n",
              "      <button class=\"colab-df-convert\" onclick=\"convertToInteractive('df-611dc98a-56f8-4d9a-af9a-58b9cf2fcd11')\"\n",
              "              title=\"Convert this dataframe to an interactive table.\"\n",
              "              style=\"display:none;\">\n",
              "        \n",
              "  <svg xmlns=\"http://www.w3.org/2000/svg\" height=\"24px\"viewBox=\"0 0 24 24\"\n",
              "       width=\"24px\">\n",
              "    <path d=\"M0 0h24v24H0V0z\" fill=\"none\"/>\n",
              "    <path d=\"M18.56 5.44l.94 2.06.94-2.06 2.06-.94-2.06-.94-.94-2.06-.94 2.06-2.06.94zm-11 1L8.5 8.5l.94-2.06 2.06-.94-2.06-.94L8.5 2.5l-.94 2.06-2.06.94zm10 10l.94 2.06.94-2.06 2.06-.94-2.06-.94-.94-2.06-.94 2.06-2.06.94z\"/><path d=\"M17.41 7.96l-1.37-1.37c-.4-.4-.92-.59-1.43-.59-.52 0-1.04.2-1.43.59L10.3 9.45l-7.72 7.72c-.78.78-.78 2.05 0 2.83L4 21.41c.39.39.9.59 1.41.59.51 0 1.02-.2 1.41-.59l7.78-7.78 2.81-2.81c.8-.78.8-2.07 0-2.86zM5.41 20L4 18.59l7.72-7.72 1.47 1.35L5.41 20z\"/>\n",
              "  </svg>\n",
              "      </button>\n",
              "      \n",
              "  <style>\n",
              "    .colab-df-container {\n",
              "      display:flex;\n",
              "      flex-wrap:wrap;\n",
              "      gap: 12px;\n",
              "    }\n",
              "\n",
              "    .colab-df-convert {\n",
              "      background-color: #E8F0FE;\n",
              "      border: none;\n",
              "      border-radius: 50%;\n",
              "      cursor: pointer;\n",
              "      display: none;\n",
              "      fill: #1967D2;\n",
              "      height: 32px;\n",
              "      padding: 0 0 0 0;\n",
              "      width: 32px;\n",
              "    }\n",
              "\n",
              "    .colab-df-convert:hover {\n",
              "      background-color: #E2EBFA;\n",
              "      box-shadow: 0px 1px 2px rgba(60, 64, 67, 0.3), 0px 1px 3px 1px rgba(60, 64, 67, 0.15);\n",
              "      fill: #174EA6;\n",
              "    }\n",
              "\n",
              "    [theme=dark] .colab-df-convert {\n",
              "      background-color: #3B4455;\n",
              "      fill: #D2E3FC;\n",
              "    }\n",
              "\n",
              "    [theme=dark] .colab-df-convert:hover {\n",
              "      background-color: #434B5C;\n",
              "      box-shadow: 0px 1px 3px 1px rgba(0, 0, 0, 0.15);\n",
              "      filter: drop-shadow(0px 1px 2px rgba(0, 0, 0, 0.3));\n",
              "      fill: #FFFFFF;\n",
              "    }\n",
              "  </style>\n",
              "\n",
              "      <script>\n",
              "        const buttonEl =\n",
              "          document.querySelector('#df-611dc98a-56f8-4d9a-af9a-58b9cf2fcd11 button.colab-df-convert');\n",
              "        buttonEl.style.display =\n",
              "          google.colab.kernel.accessAllowed ? 'block' : 'none';\n",
              "\n",
              "        async function convertToInteractive(key) {\n",
              "          const element = document.querySelector('#df-611dc98a-56f8-4d9a-af9a-58b9cf2fcd11');\n",
              "          const dataTable =\n",
              "            await google.colab.kernel.invokeFunction('convertToInteractive',\n",
              "                                                     [key], {});\n",
              "          if (!dataTable) return;\n",
              "\n",
              "          const docLinkHtml = 'Like what you see? Visit the ' +\n",
              "            '<a target=\"_blank\" href=https://colab.research.google.com/notebooks/data_table.ipynb>data table notebook</a>'\n",
              "            + ' to learn more about interactive tables.';\n",
              "          element.innerHTML = '';\n",
              "          dataTable['output_type'] = 'display_data';\n",
              "          await google.colab.output.renderOutput(dataTable, element);\n",
              "          const docLink = document.createElement('div');\n",
              "          docLink.innerHTML = docLinkHtml;\n",
              "          element.appendChild(docLink);\n",
              "        }\n",
              "      </script>\n",
              "    </div>\n",
              "  </div>\n",
              "  "
            ],
            "text/plain": [
              "   CC ID  Script ID                                        Participant  \\\n",
              "0      0          0  [Operator, Tejas Gala, Timothy Cook, Luca Maes...   \n",
              "1      1          2     [Operator, Tejas Gala, Tim Cook, Luca Maestri]   \n",
              "\n",
              "                                              Speech  \n",
              "0  [Good day everyone welcome Apple Q1 Fiscal Yea...  \n",
              "1  [Good day welcome Apple Q4 Fiscal Year 2022 Ea...  "
            ]
          },
          "execution_count": 20,
          "metadata": {},
          "output_type": "execute_result"
        }
      ],
      "source": [
        "speech_new.head(2)"
      ]
    },
    {
      "cell_type": "markdown",
      "source": [
        "### Summarisation Testing"
      ],
      "metadata": {
        "id": "csXqjSiNynQA"
      }
    },
    {
      "cell_type": "code",
      "execution_count": null,
      "metadata": {
        "colab": {
          "base_uri": "https://localhost:8080/"
        },
        "id": "dtbSSiveFc9G",
        "outputId": "55b334bf-ccde-4e56-962b-fbccac53e126"
      },
      "outputs": [
        {
          "name": "stdout",
          "output_type": "stream",
          "text": [
            "Looking in indexes: https://pypi.org/simple, https://us-python.pkg.dev/colab-wheels/public/simple/\n",
            "\u001b[31mERROR: Could not find a version that satisfies the requirement ext_sum (from versions: none)\u001b[0m\u001b[31m\n",
            "\u001b[0m\u001b[31mERROR: No matching distribution found for ext_sum\u001b[0m\u001b[31m\n",
            "\u001b[0m"
          ]
        }
      ],
      "source": [
        "pip install ext_sum"
      ]
    },
    {
      "cell_type": "code",
      "execution_count": null,
      "metadata": {
        "colab": {
          "base_uri": "https://localhost:8080/"
        },
        "id": "lr6LEX8nGiu_",
        "outputId": "a3f5dccc-56f5-4a43-b1b3-ec797a48ac57"
      },
      "outputs": [
        {
          "name": "stdout",
          "output_type": "stream",
          "text": [
            "Looking in indexes: https://pypi.org/simple, https://us-python.pkg.dev/colab-wheels/public/simple/\n",
            "Collecting bert-extractive-summarizer\n",
            "  Downloading bert_extractive_summarizer-0.10.1-py3-none-any.whl (25 kB)\n",
            "Collecting transformers (from bert-extractive-summarizer)\n",
            "  Downloading transformers-4.29.1-py3-none-any.whl (7.1 MB)\n",
            "\u001b[2K     \u001b[90m━━━━━━━━━━━━━━━━━━━━━━━━━━━━━━━━━━━━━━━━\u001b[0m \u001b[32m7.1/7.1 MB\u001b[0m \u001b[31m62.6 MB/s\u001b[0m eta \u001b[36m0:00:00\u001b[0m\n",
            "\u001b[?25hRequirement already satisfied: scikit-learn in /usr/local/lib/python3.10/dist-packages (from bert-extractive-summarizer) (1.2.2)\n",
            "Requirement already satisfied: spacy in /usr/local/lib/python3.10/dist-packages (from bert-extractive-summarizer) (3.5.2)\n",
            "Requirement already satisfied: numpy>=1.17.3 in /usr/local/lib/python3.10/dist-packages (from scikit-learn->bert-extractive-summarizer) (1.22.4)\n",
            "Requirement already satisfied: scipy>=1.3.2 in /usr/local/lib/python3.10/dist-packages (from scikit-learn->bert-extractive-summarizer) (1.10.1)\n",
            "Requirement already satisfied: joblib>=1.1.1 in /usr/local/lib/python3.10/dist-packages (from scikit-learn->bert-extractive-summarizer) (1.2.0)\n",
            "Requirement already satisfied: threadpoolctl>=2.0.0 in /usr/local/lib/python3.10/dist-packages (from scikit-learn->bert-extractive-summarizer) (3.1.0)\n",
            "Requirement already satisfied: spacy-legacy<3.1.0,>=3.0.11 in /usr/local/lib/python3.10/dist-packages (from spacy->bert-extractive-summarizer) (3.0.12)\n",
            "Requirement already satisfied: spacy-loggers<2.0.0,>=1.0.0 in /usr/local/lib/python3.10/dist-packages (from spacy->bert-extractive-summarizer) (1.0.4)\n",
            "Requirement already satisfied: murmurhash<1.1.0,>=0.28.0 in /usr/local/lib/python3.10/dist-packages (from spacy->bert-extractive-summarizer) (1.0.9)\n",
            "Requirement already satisfied: cymem<2.1.0,>=2.0.2 in /usr/local/lib/python3.10/dist-packages (from spacy->bert-extractive-summarizer) (2.0.7)\n",
            "Requirement already satisfied: preshed<3.1.0,>=3.0.2 in /usr/local/lib/python3.10/dist-packages (from spacy->bert-extractive-summarizer) (3.0.8)\n",
            "Requirement already satisfied: thinc<8.2.0,>=8.1.8 in /usr/local/lib/python3.10/dist-packages (from spacy->bert-extractive-summarizer) (8.1.9)\n",
            "Requirement already satisfied: wasabi<1.2.0,>=0.9.1 in /usr/local/lib/python3.10/dist-packages (from spacy->bert-extractive-summarizer) (1.1.1)\n",
            "Requirement already satisfied: srsly<3.0.0,>=2.4.3 in /usr/local/lib/python3.10/dist-packages (from spacy->bert-extractive-summarizer) (2.4.6)\n",
            "Requirement already satisfied: catalogue<2.1.0,>=2.0.6 in /usr/local/lib/python3.10/dist-packages (from spacy->bert-extractive-summarizer) (2.0.8)\n",
            "Requirement already satisfied: typer<0.8.0,>=0.3.0 in /usr/local/lib/python3.10/dist-packages (from spacy->bert-extractive-summarizer) (0.7.0)\n",
            "Requirement already satisfied: pathy>=0.10.0 in /usr/local/lib/python3.10/dist-packages (from spacy->bert-extractive-summarizer) (0.10.1)\n",
            "Requirement already satisfied: smart-open<7.0.0,>=5.2.1 in /usr/local/lib/python3.10/dist-packages (from spacy->bert-extractive-summarizer) (6.3.0)\n",
            "Requirement already satisfied: tqdm<5.0.0,>=4.38.0 in /usr/local/lib/python3.10/dist-packages (from spacy->bert-extractive-summarizer) (4.65.0)\n",
            "Requirement already satisfied: requests<3.0.0,>=2.13.0 in /usr/local/lib/python3.10/dist-packages (from spacy->bert-extractive-summarizer) (2.27.1)\n",
            "Requirement already satisfied: pydantic!=1.8,!=1.8.1,<1.11.0,>=1.7.4 in /usr/local/lib/python3.10/dist-packages (from spacy->bert-extractive-summarizer) (1.10.7)\n",
            "Requirement already satisfied: jinja2 in /usr/local/lib/python3.10/dist-packages (from spacy->bert-extractive-summarizer) (3.1.2)\n",
            "Requirement already satisfied: setuptools in /usr/local/lib/python3.10/dist-packages (from spacy->bert-extractive-summarizer) (67.7.2)\n",
            "Requirement already satisfied: packaging>=20.0 in /usr/local/lib/python3.10/dist-packages (from spacy->bert-extractive-summarizer) (23.1)\n",
            "Requirement already satisfied: langcodes<4.0.0,>=3.2.0 in /usr/local/lib/python3.10/dist-packages (from spacy->bert-extractive-summarizer) (3.3.0)\n",
            "Requirement already satisfied: filelock in /usr/local/lib/python3.10/dist-packages (from transformers->bert-extractive-summarizer) (3.12.0)\n",
            "Collecting huggingface-hub<1.0,>=0.14.1 (from transformers->bert-extractive-summarizer)\n",
            "  Downloading huggingface_hub-0.14.1-py3-none-any.whl (224 kB)\n",
            "\u001b[2K     \u001b[90m━━━━━━━━━━━━━━━━━━━━━━━━━━━━━━━━━━━━━━\u001b[0m \u001b[32m224.5/224.5 kB\u001b[0m \u001b[31m32.1 MB/s\u001b[0m eta \u001b[36m0:00:00\u001b[0m\n",
            "\u001b[?25hRequirement already satisfied: pyyaml>=5.1 in /usr/local/lib/python3.10/dist-packages (from transformers->bert-extractive-summarizer) (6.0)\n",
            "Requirement already satisfied: regex!=2019.12.17 in /usr/local/lib/python3.10/dist-packages (from transformers->bert-extractive-summarizer) (2022.10.31)\n",
            "Collecting tokenizers!=0.11.3,<0.14,>=0.11.1 (from transformers->bert-extractive-summarizer)\n",
            "  Downloading tokenizers-0.13.3-cp310-cp310-manylinux_2_17_x86_64.manylinux2014_x86_64.whl (7.8 MB)\n",
            "\u001b[2K     \u001b[90m━━━━━━━━━━━━━━━━━━━━━━━━━━━━━━━━━━━━━━━━\u001b[0m \u001b[32m7.8/7.8 MB\u001b[0m \u001b[31m79.5 MB/s\u001b[0m eta \u001b[36m0:00:00\u001b[0m\n",
            "\u001b[?25hRequirement already satisfied: fsspec in /usr/local/lib/python3.10/dist-packages (from huggingface-hub<1.0,>=0.14.1->transformers->bert-extractive-summarizer) (2023.4.0)\n",
            "Requirement already satisfied: typing-extensions>=3.7.4.3 in /usr/local/lib/python3.10/dist-packages (from huggingface-hub<1.0,>=0.14.1->transformers->bert-extractive-summarizer) (4.5.0)\n",
            "Requirement already satisfied: urllib3<1.27,>=1.21.1 in /usr/local/lib/python3.10/dist-packages (from requests<3.0.0,>=2.13.0->spacy->bert-extractive-summarizer) (1.26.15)\n",
            "Requirement already satisfied: certifi>=2017.4.17 in /usr/local/lib/python3.10/dist-packages (from requests<3.0.0,>=2.13.0->spacy->bert-extractive-summarizer) (2022.12.7)\n",
            "Requirement already satisfied: charset-normalizer~=2.0.0 in /usr/local/lib/python3.10/dist-packages (from requests<3.0.0,>=2.13.0->spacy->bert-extractive-summarizer) (2.0.12)\n",
            "Requirement already satisfied: idna<4,>=2.5 in /usr/local/lib/python3.10/dist-packages (from requests<3.0.0,>=2.13.0->spacy->bert-extractive-summarizer) (3.4)\n",
            "Requirement already satisfied: blis<0.8.0,>=0.7.8 in /usr/local/lib/python3.10/dist-packages (from thinc<8.2.0,>=8.1.8->spacy->bert-extractive-summarizer) (0.7.9)\n",
            "Requirement already satisfied: confection<1.0.0,>=0.0.1 in /usr/local/lib/python3.10/dist-packages (from thinc<8.2.0,>=8.1.8->spacy->bert-extractive-summarizer) (0.0.4)\n",
            "Requirement already satisfied: click<9.0.0,>=7.1.1 in /usr/local/lib/python3.10/dist-packages (from typer<0.8.0,>=0.3.0->spacy->bert-extractive-summarizer) (8.1.3)\n",
            "Requirement already satisfied: MarkupSafe>=2.0 in /usr/local/lib/python3.10/dist-packages (from jinja2->spacy->bert-extractive-summarizer) (2.1.2)\n",
            "Installing collected packages: tokenizers, huggingface-hub, transformers, bert-extractive-summarizer\n",
            "Successfully installed bert-extractive-summarizer-0.10.1 huggingface-hub-0.14.1 tokenizers-0.13.3 transformers-4.29.1\n"
          ]
        }
      ],
      "source": [
        "pip install bert-extractive-summarizer"
      ]
    },
    {
      "cell_type": "code",
      "execution_count": null,
      "metadata": {
        "colab": {
          "base_uri": "https://localhost:8080/"
        },
        "id": "jH6sZgEDHXGk",
        "outputId": "61652cf1-d5d4-4613-ab71-2c24f109e5c6"
      },
      "outputs": [
        {
          "name": "stderr",
          "output_type": "stream",
          "text": [
            "Some weights of the model checkpoint at bert-large-uncased were not used when initializing BertModel: ['cls.predictions.transform.dense.bias', 'cls.predictions.transform.LayerNorm.bias', 'cls.predictions.transform.dense.weight', 'cls.predictions.transform.LayerNorm.weight', 'cls.seq_relationship.weight', 'cls.seq_relationship.bias', 'cls.predictions.bias', 'cls.predictions.decoder.weight']\n",
            "- This IS expected if you are initializing BertModel from the checkpoint of a model trained on another task or with another architecture (e.g. initializing a BertForSequenceClassification model from a BertForPreTraining model).\n",
            "- This IS NOT expected if you are initializing BertModel from the checkpoint of a model that you expect to be exactly identical (initializing a BertForSequenceClassification model from a BertForSequenceClassification model).\n"
          ]
        },
        {
          "name": "stdout",
          "output_type": "stream",
          "text": [
            "\n"
          ]
        }
      ],
      "source": [
        "from summarizer import Summarizer\n",
        "model = Summarizer()\n",
        "text = ''.join(speech_new.loc[0].Speech)\n",
        "result = model(text)\n",
        "full = ''.join(result)\n",
        "print(full)"
      ]
    },
    {
      "cell_type": "code",
      "execution_count": null,
      "metadata": {
        "colab": {
          "base_uri": "https://localhost:8080/"
        },
        "id": "YqpPFwblHrfq",
        "outputId": "31d8b725-4bd9-4fba-d6f1-d44e266015f6"
      },
      "outputs": [
        {
          "name": "stdout",
          "output_type": "stream",
          "text": [
            "Looking in indexes: https://pypi.org/simple, https://us-python.pkg.dev/colab-wheels/public/simple/\n",
            "Collecting sentence-transformers\n",
            "  Downloading sentence-transformers-2.2.2.tar.gz (85 kB)\n",
            "\u001b[2K     \u001b[90m━━━━━━━━━━━━━━━━━━━━━━━━━━━━━━━━━━━━━━━━\u001b[0m \u001b[32m86.0/86.0 kB\u001b[0m \u001b[31m5.7 MB/s\u001b[0m eta \u001b[36m0:00:00\u001b[0m\n",
            "\u001b[?25h  Preparing metadata (setup.py) ... \u001b[?25l\u001b[?25hdone\n",
            "Collecting transformers<5.0.0,>=4.6.0 (from sentence-transformers)\n",
            "  Downloading transformers-4.29.2-py3-none-any.whl (7.1 MB)\n",
            "\u001b[2K     \u001b[90m━━━━━━━━━━━━━━━━━━━━━━━━━━━━━━━━━━━━━━━━\u001b[0m \u001b[32m7.1/7.1 MB\u001b[0m \u001b[31m100.4 MB/s\u001b[0m eta \u001b[36m0:00:00\u001b[0m\n",
            "\u001b[?25hRequirement already satisfied: tqdm in /usr/local/lib/python3.10/dist-packages (from sentence-transformers) (4.65.0)\n",
            "Requirement already satisfied: torch>=1.6.0 in /usr/local/lib/python3.10/dist-packages (from sentence-transformers) (2.0.0+cu118)\n",
            "Requirement already satisfied: torchvision in /usr/local/lib/python3.10/dist-packages (from sentence-transformers) (0.15.1+cu118)\n",
            "Requirement already satisfied: numpy in /usr/local/lib/python3.10/dist-packages (from sentence-transformers) (1.22.4)\n",
            "Requirement already satisfied: scikit-learn in /usr/local/lib/python3.10/dist-packages (from sentence-transformers) (1.2.2)\n",
            "Requirement already satisfied: scipy in /usr/local/lib/python3.10/dist-packages (from sentence-transformers) (1.10.1)\n",
            "Requirement already satisfied: nltk in /usr/local/lib/python3.10/dist-packages (from sentence-transformers) (3.8.1)\n",
            "Collecting sentencepiece (from sentence-transformers)\n",
            "  Downloading sentencepiece-0.1.99-cp310-cp310-manylinux_2_17_x86_64.manylinux2014_x86_64.whl (1.3 MB)\n",
            "\u001b[2K     \u001b[90m━━━━━━━━━━━━━━━━━━━━━━━━━━━━━━━━━━━━━━━━\u001b[0m \u001b[32m1.3/1.3 MB\u001b[0m \u001b[31m78.2 MB/s\u001b[0m eta \u001b[36m0:00:00\u001b[0m\n",
            "\u001b[?25hCollecting huggingface-hub>=0.4.0 (from sentence-transformers)\n",
            "  Downloading huggingface_hub-0.14.1-py3-none-any.whl (224 kB)\n",
            "\u001b[2K     \u001b[90m━━━━━━━━━━━━━━━━━━━━━━━━━━━━━━━━━━━━━━\u001b[0m \u001b[32m224.5/224.5 kB\u001b[0m \u001b[31m26.6 MB/s\u001b[0m eta \u001b[36m0:00:00\u001b[0m\n",
            "\u001b[?25hRequirement already satisfied: filelock in /usr/local/lib/python3.10/dist-packages (from huggingface-hub>=0.4.0->sentence-transformers) (3.12.0)\n",
            "Requirement already satisfied: fsspec in /usr/local/lib/python3.10/dist-packages (from huggingface-hub>=0.4.0->sentence-transformers) (2023.4.0)\n",
            "Requirement already satisfied: requests in /usr/local/lib/python3.10/dist-packages (from huggingface-hub>=0.4.0->sentence-transformers) (2.27.1)\n",
            "Requirement already satisfied: pyyaml>=5.1 in /usr/local/lib/python3.10/dist-packages (from huggingface-hub>=0.4.0->sentence-transformers) (6.0)\n",
            "Requirement already satisfied: typing-extensions>=3.7.4.3 in /usr/local/lib/python3.10/dist-packages (from huggingface-hub>=0.4.0->sentence-transformers) (4.5.0)\n",
            "Requirement already satisfied: packaging>=20.9 in /usr/local/lib/python3.10/dist-packages (from huggingface-hub>=0.4.0->sentence-transformers) (23.1)\n",
            "Requirement already satisfied: sympy in /usr/local/lib/python3.10/dist-packages (from torch>=1.6.0->sentence-transformers) (1.11.1)\n",
            "Requirement already satisfied: networkx in /usr/local/lib/python3.10/dist-packages (from torch>=1.6.0->sentence-transformers) (3.1)\n",
            "Requirement already satisfied: jinja2 in /usr/local/lib/python3.10/dist-packages (from torch>=1.6.0->sentence-transformers) (3.1.2)\n",
            "Requirement already satisfied: triton==2.0.0 in /usr/local/lib/python3.10/dist-packages (from torch>=1.6.0->sentence-transformers) (2.0.0)\n",
            "Requirement already satisfied: cmake in /usr/local/lib/python3.10/dist-packages (from triton==2.0.0->torch>=1.6.0->sentence-transformers) (3.25.2)\n",
            "Requirement already satisfied: lit in /usr/local/lib/python3.10/dist-packages (from triton==2.0.0->torch>=1.6.0->sentence-transformers) (16.0.3)\n",
            "Requirement already satisfied: regex!=2019.12.17 in /usr/local/lib/python3.10/dist-packages (from transformers<5.0.0,>=4.6.0->sentence-transformers) (2022.10.31)\n",
            "Collecting tokenizers!=0.11.3,<0.14,>=0.11.1 (from transformers<5.0.0,>=4.6.0->sentence-transformers)\n",
            "  Downloading tokenizers-0.13.3-cp310-cp310-manylinux_2_17_x86_64.manylinux2014_x86_64.whl (7.8 MB)\n",
            "\u001b[2K     \u001b[90m━━━━━━━━━━━━━━━━━━━━━━━━━━━━━━━━━━━━━━━━\u001b[0m \u001b[32m7.8/7.8 MB\u001b[0m \u001b[31m99.6 MB/s\u001b[0m eta \u001b[36m0:00:00\u001b[0m\n",
            "\u001b[?25hRequirement already satisfied: click in /usr/local/lib/python3.10/dist-packages (from nltk->sentence-transformers) (8.1.3)\n",
            "Requirement already satisfied: joblib in /usr/local/lib/python3.10/dist-packages (from nltk->sentence-transformers) (1.2.0)\n",
            "Requirement already satisfied: threadpoolctl>=2.0.0 in /usr/local/lib/python3.10/dist-packages (from scikit-learn->sentence-transformers) (3.1.0)\n",
            "Requirement already satisfied: pillow!=8.3.*,>=5.3.0 in /usr/local/lib/python3.10/dist-packages (from torchvision->sentence-transformers) (8.4.0)\n",
            "Requirement already satisfied: MarkupSafe>=2.0 in /usr/local/lib/python3.10/dist-packages (from jinja2->torch>=1.6.0->sentence-transformers) (2.1.2)\n",
            "Requirement already satisfied: urllib3<1.27,>=1.21.1 in /usr/local/lib/python3.10/dist-packages (from requests->huggingface-hub>=0.4.0->sentence-transformers) (1.26.15)\n",
            "Requirement already satisfied: certifi>=2017.4.17 in /usr/local/lib/python3.10/dist-packages (from requests->huggingface-hub>=0.4.0->sentence-transformers) (2022.12.7)\n",
            "Requirement already satisfied: charset-normalizer~=2.0.0 in /usr/local/lib/python3.10/dist-packages (from requests->huggingface-hub>=0.4.0->sentence-transformers) (2.0.12)\n",
            "Requirement already satisfied: idna<4,>=2.5 in /usr/local/lib/python3.10/dist-packages (from requests->huggingface-hub>=0.4.0->sentence-transformers) (3.4)\n",
            "Requirement already satisfied: mpmath>=0.19 in /usr/local/lib/python3.10/dist-packages (from sympy->torch>=1.6.0->sentence-transformers) (1.3.0)\n",
            "Building wheels for collected packages: sentence-transformers\n",
            "  Building wheel for sentence-transformers (setup.py) ... \u001b[?25l\u001b[?25hdone\n",
            "  Created wheel for sentence-transformers: filename=sentence_transformers-2.2.2-py3-none-any.whl size=125926 sha256=c45b2dbd33de58431fb60817ca4b1b3e5e5567be5e49ea55bbe22ecda8c27e8b\n",
            "  Stored in directory: /root/.cache/pip/wheels/62/f2/10/1e606fd5f02395388f74e7462910fe851042f97238cbbd902f\n",
            "Successfully built sentence-transformers\n",
            "Installing collected packages: tokenizers, sentencepiece, huggingface-hub, transformers, sentence-transformers\n",
            "Successfully installed huggingface-hub-0.14.1 sentence-transformers-2.2.2 sentencepiece-0.1.99 tokenizers-0.13.3 transformers-4.29.2\n"
          ]
        }
      ],
      "source": [
        "pip install -U sentence-transformers"
      ]
    },
    {
      "cell_type": "code",
      "execution_count": null,
      "metadata": {
        "id": "n67JllToJuKE"
      },
      "outputs": [],
      "source": [
        "from summarizer.sbert import SBertSummarizer\n",
        "body = ''.join(speech_new.loc[0].Speech)\n",
        "model = SBertSummarizer('paraphrase-MiniLM-L6-v2')\n",
        "result = model(body, num_sentences= 20)\n",
        "result"
      ]
    },
    {
      "cell_type": "code",
      "execution_count": null,
      "metadata": {
        "id": "V1Vn3-NnKeFR"
      },
      "outputs": [],
      "source": [
        "body = ''''''\n",
        "for i in range(len(speech_new.loc[0].Speech)):\n",
        "    body +=  speech_new.loc[0].Speech[i]"
      ]
    },
    {
      "cell_type": "code",
      "execution_count": null,
      "metadata": {
        "colab": {
          "base_uri": "https://localhost:8080/"
        },
        "id": "4_S4FGyRMPc1",
        "outputId": "f73a1978-89bf-4e61-a7c1-c3a1e8a7f6d5"
      },
      "outputs": [
        {
          "name": "stderr",
          "output_type": "stream",
          "text": [
            "Some weights of the model checkpoint at distilbert-base-uncased were not used when initializing DistilBertModel: ['vocab_projector.bias', 'vocab_layer_norm.bias', 'vocab_layer_norm.weight', 'vocab_projector.weight', 'vocab_transform.bias', 'vocab_transform.weight']\n",
            "- This IS expected if you are initializing DistilBertModel from the checkpoint of a model trained on another task or with another architecture (e.g. initializing a BertForSequenceClassification model from a BertForPreTraining model).\n",
            "- This IS NOT expected if you are initializing DistilBertModel from the checkpoint of a model that you expect to be exactly identical (initializing a BertForSequenceClassification model from a BertForSequenceClassification model).\n"
          ]
        }
      ],
      "source": [
        "from summarizer import Summarizer,TransformerSummarizer\n",
        "\n",
        "bert_model = Summarizer('distilbert-base-uncased')"
      ]
    },
    {
      "cell_type": "code",
      "execution_count": null,
      "metadata": {
        "id": "vfuD-ylCLNh9"
      },
      "outputs": [],
      "source": [
        "bert_summary = ''.join(bert_model(body, min_length=60))\n",
        "print(bert_summary)"
      ]
    },
    {
      "cell_type": "code",
      "execution_count": null,
      "metadata": {
        "id": "_aG8qloUJ1V3"
      },
      "outputs": [],
      "source": [
        "result = model(speech_new.loc[0].Speech[1], num_sentences=4)\n",
        "result"
      ]
    },
    {
      "cell_type": "code",
      "execution_count": null,
      "metadata": {
        "id": "JyHlV3elHii5"
      },
      "outputs": [],
      "source": [
        "result = model(speech_new.loc[0].Speech, min_length=60)\n",
        "full = ''.join(speech_new.loc[0].Speech)\n",
        "print(full)"
      ]
    },
    {
      "cell_type": "code",
      "execution_count": null,
      "metadata": {
        "colab": {
          "base_uri": "https://localhost:8080/"
        },
        "id": "_iThftk5riwe",
        "outputId": "41171946-a468-4ff8-f534-740903a35691"
      },
      "outputs": [
        {
          "name": "stdout",
          "output_type": "stream",
          "text": [
            "Looking in indexes: https://pypi.org/simple, https://us-python.pkg.dev/colab-wheels/public/simple/\n",
            "Collecting transformers\n",
            "  Downloading transformers-4.29.2-py3-none-any.whl (7.1 MB)\n",
            "\u001b[2K     \u001b[90m━━━━━━━━━━━━━━━━━━━━━━━━━━━━━━━━━━━━━━━━\u001b[0m \u001b[32m7.1/7.1 MB\u001b[0m \u001b[31m54.4 MB/s\u001b[0m eta \u001b[36m0:00:00\u001b[0m\n",
            "\u001b[?25hRequirement already satisfied: filelock in /usr/local/lib/python3.10/dist-packages (from transformers) (3.12.0)\n",
            "Collecting huggingface-hub<1.0,>=0.14.1 (from transformers)\n",
            "  Downloading huggingface_hub-0.14.1-py3-none-any.whl (224 kB)\n",
            "\u001b[2K     \u001b[90m━━━━━━━━━━━━━━━━━━━━━━━━━━━━━━━━━━━━━━\u001b[0m \u001b[32m224.5/224.5 kB\u001b[0m \u001b[31m27.3 MB/s\u001b[0m eta \u001b[36m0:00:00\u001b[0m\n",
            "\u001b[?25hRequirement already satisfied: numpy>=1.17 in /usr/local/lib/python3.10/dist-packages (from transformers) (1.22.4)\n",
            "Requirement already satisfied: packaging>=20.0 in /usr/local/lib/python3.10/dist-packages (from transformers) (23.1)\n",
            "Requirement already satisfied: pyyaml>=5.1 in /usr/local/lib/python3.10/dist-packages (from transformers) (6.0)\n",
            "Requirement already satisfied: regex!=2019.12.17 in /usr/local/lib/python3.10/dist-packages (from transformers) (2022.10.31)\n",
            "Requirement already satisfied: requests in /usr/local/lib/python3.10/dist-packages (from transformers) (2.27.1)\n",
            "Collecting tokenizers!=0.11.3,<0.14,>=0.11.1 (from transformers)\n",
            "  Downloading tokenizers-0.13.3-cp310-cp310-manylinux_2_17_x86_64.manylinux2014_x86_64.whl (7.8 MB)\n",
            "\u001b[2K     \u001b[90m━━━━━━━━━━━━━━━━━━━━━━━━━━━━━━━━━━━━━━━━\u001b[0m \u001b[32m7.8/7.8 MB\u001b[0m \u001b[31m110.8 MB/s\u001b[0m eta \u001b[36m0:00:00\u001b[0m\n",
            "\u001b[?25hRequirement already satisfied: tqdm>=4.27 in /usr/local/lib/python3.10/dist-packages (from transformers) (4.65.0)\n",
            "Requirement already satisfied: fsspec in /usr/local/lib/python3.10/dist-packages (from huggingface-hub<1.0,>=0.14.1->transformers) (2023.4.0)\n",
            "Requirement already satisfied: typing-extensions>=3.7.4.3 in /usr/local/lib/python3.10/dist-packages (from huggingface-hub<1.0,>=0.14.1->transformers) (4.5.0)\n",
            "Requirement already satisfied: urllib3<1.27,>=1.21.1 in /usr/local/lib/python3.10/dist-packages (from requests->transformers) (1.26.15)\n",
            "Requirement already satisfied: certifi>=2017.4.17 in /usr/local/lib/python3.10/dist-packages (from requests->transformers) (2022.12.7)\n",
            "Requirement already satisfied: charset-normalizer~=2.0.0 in /usr/local/lib/python3.10/dist-packages (from requests->transformers) (2.0.12)\n",
            "Requirement already satisfied: idna<4,>=2.5 in /usr/local/lib/python3.10/dist-packages (from requests->transformers) (3.4)\n",
            "Installing collected packages: tokenizers, huggingface-hub, transformers\n",
            "Successfully installed huggingface-hub-0.14.1 tokenizers-0.13.3 transformers-4.29.2\n"
          ]
        }
      ],
      "source": [
        "pip install transformers"
      ]
    },
    {
      "cell_type": "code",
      "execution_count": null,
      "metadata": {
        "id": "LuW8PMH76QaS"
      },
      "outputs": [],
      "source": [
        "from tqdm import tqdm"
      ]
    },
    {
      "cell_type": "markdown",
      "source": [
        "### Final summarisation"
      ],
      "metadata": {
        "id": "YLNg22kXyZsm"
      }
    },
    {
      "cell_type": "code",
      "execution_count": null,
      "metadata": {
        "colab": {
          "base_uri": "https://localhost:8080/",
          "height": 278,
          "referenced_widgets": [
            "602b99ae37564ee788499ac613927e79",
            "c4a801795420428db431276580d04372",
            "65ba88db2e3f467aa2b6428a90e80d01",
            "7ebb6c2f174742ee90e1c90d76d89079",
            "10d7a0c727494ad1969eb7300cf6bb92",
            "43de4ff066194c509dc1a8a8a23d2f45",
            "6c383dae153742c38045505417c508cd",
            "b51c8ca5ac5541d798316672dd7fdab0",
            "398f82789e814018a59c62949d495fc9",
            "363108096d7e44ab9a259bbef4d1388b",
            "68af7568612a4aaab39360d7a2d60250",
            "9e65996908d24564a6b6db65d6a8996d",
            "fa7dda568ab74675a0c9c06650e72850",
            "e14e551e731c474885aa8b4babf7a963",
            "42222c32be13483c8b9a04dd1497b8bc",
            "e5b23752f7ac4314860234d7b0572490",
            "b68e75a3fc3c4a188a0745b4b531c828",
            "9ae51f2ea0e84d3f923218f2157f62f9",
            "309a995ae2764096a722c0ed40d0bb8b",
            "b38b97b3d4d54d3fb85a747f6ccfbfe5",
            "25270c7ebd9747b9b371b94425081f69",
            "82d3bf37786940238fe3bb4f95c64ec1",
            "53593a14aae84b8ab3013c576532b54f",
            "17e5a633eb934445b9a4bf3394454b4b",
            "85f0d1987f6340769a6f094f66ce339a",
            "83bd6aeedca04b25b1691d2a991928d2",
            "bee8b556e4cf4781a41b4682b4048892",
            "ac99ae210ac942cab2d2a79b57fd0deb",
            "f4d1ecc7fab943e4b35fa77b35e523f4",
            "4838eb2afea74f0fb2a2e97bdd23b43f",
            "20a06c9e24064803a8da21bf1280bbfe",
            "39b1d8c9c72c4a4aa35ce993b46f64a6",
            "f4d6e67a6f7642e88990cfc09fbbff58",
            "c26740e1d4044f3aa9de7286efff6f1a",
            "f5f4ee6d0db740279524d155e9f78146",
            "3576098927af4488800d33f5f92bbf96",
            "4232a5ee336b42daab4bec22b69fd38a",
            "5055e8507f23426a93da0b89f337ad92",
            "9b79aeb633724cb6b6a83ccad41642a9",
            "efae6f0ed69b4e32b35010ca4135d438",
            "5a4d74273f104920926fd44d54034e12",
            "88e2661ae4534505bf9f04016d4f65ce",
            "ccbe201afd214fe384027b4c463f96fc",
            "0167a8521f29439f85bede2d12d09646",
            "80e41e66d6234d8e96fc6517b46b3892",
            "3bcab13044164ca2b679f8b8f1ffbf61",
            "0588073aa0b0494784b5c77ef9d24a93",
            "f2657cc28bf549edb1b238b349e4fed0",
            "86e191aede9e4081aa8c6c500a8cc683",
            "3006d29063e1425a8b5c70b8890c47bd",
            "e45edd65c3bb484a808876754402f7ad",
            "5664bc76fa3443a592be868719ac8608",
            "8b446003cf1d4aec9bbbadeb48d79931",
            "4675b0e965124f5e92f25ecd1db48ad5",
            "91ae4e99429f4c6d915da01c355893a0"
          ]
        },
        "id": "YMj481YOzRou",
        "outputId": "405648f0-0cdc-4c1c-84b6-ee703caf6baf"
      },
      "outputs": [
        {
          "data": {
            "application/vnd.jupyter.widget-view+json": {
              "model_id": "602b99ae37564ee788499ac613927e79",
              "version_major": 2,
              "version_minor": 0
            },
            "text/plain": [
              "Downloading (…)okenizer_config.json:   0%|          | 0.00/26.0 [00:00<?, ?B/s]"
            ]
          },
          "metadata": {},
          "output_type": "display_data"
        },
        {
          "data": {
            "application/vnd.jupyter.widget-view+json": {
              "model_id": "9e65996908d24564a6b6db65d6a8996d",
              "version_major": 2,
              "version_minor": 0
            },
            "text/plain": [
              "Downloading (…)lve/main/config.json:   0%|          | 0.00/1.80k [00:00<?, ?B/s]"
            ]
          },
          "metadata": {},
          "output_type": "display_data"
        },
        {
          "data": {
            "application/vnd.jupyter.widget-view+json": {
              "model_id": "53593a14aae84b8ab3013c576532b54f",
              "version_major": 2,
              "version_minor": 0
            },
            "text/plain": [
              "Downloading (…)olve/main/vocab.json:   0%|          | 0.00/899k [00:00<?, ?B/s]"
            ]
          },
          "metadata": {},
          "output_type": "display_data"
        },
        {
          "data": {
            "application/vnd.jupyter.widget-view+json": {
              "model_id": "c26740e1d4044f3aa9de7286efff6f1a",
              "version_major": 2,
              "version_minor": 0
            },
            "text/plain": [
              "Downloading (…)olve/main/merges.txt:   0%|          | 0.00/456k [00:00<?, ?B/s]"
            ]
          },
          "metadata": {},
          "output_type": "display_data"
        },
        {
          "data": {
            "application/vnd.jupyter.widget-view+json": {
              "model_id": "80e41e66d6234d8e96fc6517b46b3892",
              "version_major": 2,
              "version_minor": 0
            },
            "text/plain": [
              "Downloading pytorch_model.bin:   0%|          | 0.00/1.22G [00:00<?, ?B/s]"
            ]
          },
          "metadata": {},
          "output_type": "display_data"
        },
        {
          "name": "stderr",
          "output_type": "stream",
          "text": [
            "Some weights of the PyTorch model were not used when initializing the TF 2.0 model TFBartForConditionalGeneration: ['model.decoder.embed_tokens.weight', 'model.encoder.embed_tokens.weight']\n",
            "- This IS expected if you are initializing TFBartForConditionalGeneration from a PyTorch model trained on another task or with another architecture (e.g. initializing a TFBertForSequenceClassification model from a BertForPreTraining model).\n",
            "- This IS NOT expected if you are initializing TFBartForConditionalGeneration from a PyTorch model that you expect to be exactly identical (e.g. initializing a TFBertForSequenceClassification model from a BertForSequenceClassification model).\n",
            "All the weights of TFBartForConditionalGeneration were initialized from the PyTorch model.\n",
            "If your task is similar to the task the model of the checkpoint was trained on, you can already use TFBartForConditionalGeneration for predictions without further training.\n"
          ]
        }
      ],
      "source": [
        "import tensorflow as tf\n",
        "from transformers import AutoTokenizer, TFAutoModelForSeq2SeqLM\n",
        "\n",
        "# Load pre-trained BERTSUM model and tokenizer\n",
        "model_name = 'sshleifer/distilbart-cnn-12-6'\n",
        "tokenizer = AutoTokenizer.from_pretrained(model_name)\n",
        "model = TFAutoModelForSeq2SeqLM.from_pretrained(model_name, from_pt=True)\n"
      ]
    },
    {
      "cell_type": "code",
      "execution_count": null,
      "metadata": {
        "colab": {
          "base_uri": "https://localhost:8080/"
        },
        "id": "SzaPMolD4M5D",
        "outputId": "6e3fcffe-8cb8-42f0-aaf9-f68773867ccf"
      },
      "outputs": [
        {
          "name": "stderr",
          "output_type": "stream",
          "text": [
            "126it [2:04:34, 59.32s/it]\n"
          ]
        }
      ],
      "source": [
        "summary = []\n",
        "\n",
        "pbar = tqdm(total = 100)\n",
        "# Generate summary using BERTSUM\n",
        "for i in range(161,287):\n",
        "  inputs = tokenizer(''.join(speech_new.loc[i].Speech), max_length = 1024,return_tensors='tf', truncation=True, padding=True)\n",
        "  summary_ids = model.generate(inputs['input_ids'], num_beams=5, min_length=200, max_length = 600)\n",
        "  pbar.update(1)\n",
        "  summary.append(tokenizer.decode(summary_ids[0], skip_special_tokens=False))\n",
        "pbar.close()"
      ]
    },
    {
      "cell_type": "code",
      "execution_count": null,
      "metadata": {
        "id": "54evFOrUqMP0"
      },
      "outputs": [],
      "source": [
        "speech_new_2[\"summary\"] = summary"
      ]
    },
    {
      "cell_type": "code",
      "execution_count": null,
      "metadata": {
        "id": "TsMMSPlcM0ps"
      },
      "outputs": [],
      "source": [
        "speech_new_2.summary = data_pre_processing(speech_new_2.summary)"
      ]
    },
    {
      "cell_type": "code",
      "execution_count": null,
      "metadata": {
        "colab": {
          "base_uri": "https://localhost:8080/",
          "height": 588
        },
        "id": "-bGmXkjwkZKf",
        "outputId": "2147090c-0322-40c9-d10f-75d7d8f03669"
      },
      "outputs": [
        {
          "data": {
            "text/html": [
              "\n",
              "  <div id=\"df-787bc376-1612-42ef-8d62-df8e0188df48\">\n",
              "    <div class=\"colab-df-container\">\n",
              "      <div>\n",
              "<style scoped>\n",
              "    .dataframe tbody tr th:only-of-type {\n",
              "        vertical-align: middle;\n",
              "    }\n",
              "\n",
              "    .dataframe tbody tr th {\n",
              "        vertical-align: top;\n",
              "    }\n",
              "\n",
              "    .dataframe thead th {\n",
              "        text-align: right;\n",
              "    }\n",
              "</style>\n",
              "<table border=\"1\" class=\"dataframe\">\n",
              "  <thead>\n",
              "    <tr style=\"text-align: right;\">\n",
              "      <th></th>\n",
              "      <th>CC ID</th>\n",
              "      <th>Script ID</th>\n",
              "      <th>Participant</th>\n",
              "      <th>Speech</th>\n",
              "      <th>summary</th>\n",
              "    </tr>\n",
              "  </thead>\n",
              "  <tbody>\n",
              "    <tr>\n",
              "      <th>0</th>\n",
              "      <td>0</td>\n",
              "      <td>0</td>\n",
              "      <td>[Operator, Tejas Gala, Timothy Cook, Luca Maes...</td>\n",
              "      <td>[Good day everyone welcome Apple Q1 Fiscal Yea...</td>\n",
              "      <td>ss Tim Cook hell followed CFO Luca Maestri wel...</td>\n",
              "    </tr>\n",
              "    <tr>\n",
              "      <th>1</th>\n",
              "      <td>1</td>\n",
              "      <td>2</td>\n",
              "      <td>[Operator, Tejas Gala, Tim Cook, Luca Maestri]</td>\n",
              "      <td>[Good day welcome Apple Q4 Fiscal Year 2022 Ea...</td>\n",
              "      <td>ss September quarter reported record revenue 9...</td>\n",
              "    </tr>\n",
              "    <tr>\n",
              "      <th>2</th>\n",
              "      <td>2</td>\n",
              "      <td>4</td>\n",
              "      <td>[Operator, Tejas Gala, Tim Cook, Luca Maestri]</td>\n",
              "      <td>[Good day welcome Apple Q3 FY 2022 Earnings Co...</td>\n",
              "      <td>ss Apple reporting another record June quarter...</td>\n",
              "    </tr>\n",
              "    <tr>\n",
              "      <th>3</th>\n",
              "      <td>3</td>\n",
              "      <td>6</td>\n",
              "      <td>[Operator, Tejas Gala, Tim Cook, Luca Maestri]</td>\n",
              "      <td>[Good day welcome Apple Q2 FY 2022 Earnings Co...</td>\n",
              "      <td>ss Apple continues streak unparalleled innovat...</td>\n",
              "    </tr>\n",
              "    <tr>\n",
              "      <th>4</th>\n",
              "      <td>4</td>\n",
              "      <td>8</td>\n",
              "      <td>[Operator, Tejas Gala, Tim Cook, Luca Maestri]</td>\n",
              "      <td>[Good day welcome Apple Q1 FY 2022 Earnings Co...</td>\n",
              "      <td>ss Apple Q1 FY 2022 Earnings Conference Call c...</td>\n",
              "    </tr>\n",
              "    <tr>\n",
              "      <th>...</th>\n",
              "      <td>...</td>\n",
              "      <td>...</td>\n",
              "      <td>...</td>\n",
              "      <td>...</td>\n",
              "      <td>...</td>\n",
              "    </tr>\n",
              "    <tr>\n",
              "      <th>56</th>\n",
              "      <td>56</td>\n",
              "      <td>112</td>\n",
              "      <td>[Operator, Jonathan Vaas, Shantanu Narayen, Jo...</td>\n",
              "      <td>[Good afternoon welcome Adobe Q2 FY ‘20 Quarte...</td>\n",
              "      <td>ss Adobe Q2 FY ‘20 Quarterly Earnings Call Ope...</td>\n",
              "    </tr>\n",
              "    <tr>\n",
              "      <th>57</th>\n",
              "      <td>57</td>\n",
              "      <td>114</td>\n",
              "      <td>[Operator, Quentin McMillan, Peter Zaffino, Sa...</td>\n",
              "      <td>[Good day welcome AIGs Fourth Quarter 2022 Fin...</td>\n",
              "      <td>ss Corebridge Financial host earnings call tom...</td>\n",
              "    </tr>\n",
              "    <tr>\n",
              "      <th>58</th>\n",
              "      <td>58</td>\n",
              "      <td>116</td>\n",
              "      <td>[Operator, Quentin McMillan, Peter Zaffino, Sh...</td>\n",
              "      <td>[Good day welcome AIGs Third Quarter 2022 Fina...</td>\n",
              "      <td>ss Third quarter represented inflection point ...</td>\n",
              "    </tr>\n",
              "    <tr>\n",
              "      <th>59</th>\n",
              "      <td>59</td>\n",
              "      <td>118</td>\n",
              "      <td>[Operator, Quentin McMillan, Peter Zaffino, Sh...</td>\n",
              "      <td>[Good day welcome AIGs Second Quarter 2022 Fin...</td>\n",
              "      <td>ss AIGs Second Quarter 2022 Financial Results ...</td>\n",
              "    </tr>\n",
              "    <tr>\n",
              "      <th>60</th>\n",
              "      <td>60</td>\n",
              "      <td>120</td>\n",
              "      <td>[Operator, Quentin McMillan, Peter Zaffino, Sh...</td>\n",
              "      <td>[Ladies gentlemen please standby Good day welc...</td>\n",
              "      <td>ss AIG’s First Quarter 2022 Financial Results ...</td>\n",
              "    </tr>\n",
              "  </tbody>\n",
              "</table>\n",
              "<p>61 rows × 5 columns</p>\n",
              "</div>\n",
              "      <button class=\"colab-df-convert\" onclick=\"convertToInteractive('df-787bc376-1612-42ef-8d62-df8e0188df48')\"\n",
              "              title=\"Convert this dataframe to an interactive table.\"\n",
              "              style=\"display:none;\">\n",
              "        \n",
              "  <svg xmlns=\"http://www.w3.org/2000/svg\" height=\"24px\"viewBox=\"0 0 24 24\"\n",
              "       width=\"24px\">\n",
              "    <path d=\"M0 0h24v24H0V0z\" fill=\"none\"/>\n",
              "    <path d=\"M18.56 5.44l.94 2.06.94-2.06 2.06-.94-2.06-.94-.94-2.06-.94 2.06-2.06.94zm-11 1L8.5 8.5l.94-2.06 2.06-.94-2.06-.94L8.5 2.5l-.94 2.06-2.06.94zm10 10l.94 2.06.94-2.06 2.06-.94-2.06-.94-.94-2.06-.94 2.06-2.06.94z\"/><path d=\"M17.41 7.96l-1.37-1.37c-.4-.4-.92-.59-1.43-.59-.52 0-1.04.2-1.43.59L10.3 9.45l-7.72 7.72c-.78.78-.78 2.05 0 2.83L4 21.41c.39.39.9.59 1.41.59.51 0 1.02-.2 1.41-.59l7.78-7.78 2.81-2.81c.8-.78.8-2.07 0-2.86zM5.41 20L4 18.59l7.72-7.72 1.47 1.35L5.41 20z\"/>\n",
              "  </svg>\n",
              "      </button>\n",
              "      \n",
              "  <style>\n",
              "    .colab-df-container {\n",
              "      display:flex;\n",
              "      flex-wrap:wrap;\n",
              "      gap: 12px;\n",
              "    }\n",
              "\n",
              "    .colab-df-convert {\n",
              "      background-color: #E8F0FE;\n",
              "      border: none;\n",
              "      border-radius: 50%;\n",
              "      cursor: pointer;\n",
              "      display: none;\n",
              "      fill: #1967D2;\n",
              "      height: 32px;\n",
              "      padding: 0 0 0 0;\n",
              "      width: 32px;\n",
              "    }\n",
              "\n",
              "    .colab-df-convert:hover {\n",
              "      background-color: #E2EBFA;\n",
              "      box-shadow: 0px 1px 2px rgba(60, 64, 67, 0.3), 0px 1px 3px 1px rgba(60, 64, 67, 0.15);\n",
              "      fill: #174EA6;\n",
              "    }\n",
              "\n",
              "    [theme=dark] .colab-df-convert {\n",
              "      background-color: #3B4455;\n",
              "      fill: #D2E3FC;\n",
              "    }\n",
              "\n",
              "    [theme=dark] .colab-df-convert:hover {\n",
              "      background-color: #434B5C;\n",
              "      box-shadow: 0px 1px 3px 1px rgba(0, 0, 0, 0.15);\n",
              "      filter: drop-shadow(0px 1px 2px rgba(0, 0, 0, 0.3));\n",
              "      fill: #FFFFFF;\n",
              "    }\n",
              "  </style>\n",
              "\n",
              "      <script>\n",
              "        const buttonEl =\n",
              "          document.querySelector('#df-787bc376-1612-42ef-8d62-df8e0188df48 button.colab-df-convert');\n",
              "        buttonEl.style.display =\n",
              "          google.colab.kernel.accessAllowed ? 'block' : 'none';\n",
              "\n",
              "        async function convertToInteractive(key) {\n",
              "          const element = document.querySelector('#df-787bc376-1612-42ef-8d62-df8e0188df48');\n",
              "          const dataTable =\n",
              "            await google.colab.kernel.invokeFunction('convertToInteractive',\n",
              "                                                     [key], {});\n",
              "          if (!dataTable) return;\n",
              "\n",
              "          const docLinkHtml = 'Like what you see? Visit the ' +\n",
              "            '<a target=\"_blank\" href=https://colab.research.google.com/notebooks/data_table.ipynb>data table notebook</a>'\n",
              "            + ' to learn more about interactive tables.';\n",
              "          element.innerHTML = '';\n",
              "          dataTable['output_type'] = 'display_data';\n",
              "          await google.colab.output.renderOutput(dataTable, element);\n",
              "          const docLink = document.createElement('div');\n",
              "          docLink.innerHTML = docLinkHtml;\n",
              "          element.appendChild(docLink);\n",
              "        }\n",
              "      </script>\n",
              "    </div>\n",
              "  </div>\n",
              "  "
            ],
            "text/plain": [
              "    CC ID  Script ID                                        Participant  \\\n",
              "0       0          0  [Operator, Tejas Gala, Timothy Cook, Luca Maes...   \n",
              "1       1          2     [Operator, Tejas Gala, Tim Cook, Luca Maestri]   \n",
              "2       2          4     [Operator, Tejas Gala, Tim Cook, Luca Maestri]   \n",
              "3       3          6     [Operator, Tejas Gala, Tim Cook, Luca Maestri]   \n",
              "4       4          8     [Operator, Tejas Gala, Tim Cook, Luca Maestri]   \n",
              "..    ...        ...                                                ...   \n",
              "56     56        112  [Operator, Jonathan Vaas, Shantanu Narayen, Jo...   \n",
              "57     57        114  [Operator, Quentin McMillan, Peter Zaffino, Sa...   \n",
              "58     58        116  [Operator, Quentin McMillan, Peter Zaffino, Sh...   \n",
              "59     59        118  [Operator, Quentin McMillan, Peter Zaffino, Sh...   \n",
              "60     60        120  [Operator, Quentin McMillan, Peter Zaffino, Sh...   \n",
              "\n",
              "                                               Speech  \\\n",
              "0   [Good day everyone welcome Apple Q1 Fiscal Yea...   \n",
              "1   [Good day welcome Apple Q4 Fiscal Year 2022 Ea...   \n",
              "2   [Good day welcome Apple Q3 FY 2022 Earnings Co...   \n",
              "3   [Good day welcome Apple Q2 FY 2022 Earnings Co...   \n",
              "4   [Good day welcome Apple Q1 FY 2022 Earnings Co...   \n",
              "..                                                ...   \n",
              "56  [Good afternoon welcome Adobe Q2 FY ‘20 Quarte...   \n",
              "57  [Good day welcome AIGs Fourth Quarter 2022 Fin...   \n",
              "58  [Good day welcome AIGs Third Quarter 2022 Fina...   \n",
              "59  [Good day welcome AIGs Second Quarter 2022 Fin...   \n",
              "60  [Ladies gentlemen please standby Good day welc...   \n",
              "\n",
              "                                              summary  \n",
              "0   ss Tim Cook hell followed CFO Luca Maestri wel...  \n",
              "1   ss September quarter reported record revenue 9...  \n",
              "2   ss Apple reporting another record June quarter...  \n",
              "3   ss Apple continues streak unparalleled innovat...  \n",
              "4   ss Apple Q1 FY 2022 Earnings Conference Call c...  \n",
              "..                                                ...  \n",
              "56  ss Adobe Q2 FY ‘20 Quarterly Earnings Call Ope...  \n",
              "57  ss Corebridge Financial host earnings call tom...  \n",
              "58  ss Third quarter represented inflection point ...  \n",
              "59  ss AIGs Second Quarter 2022 Financial Results ...  \n",
              "60  ss AIG’s First Quarter 2022 Financial Results ...  \n",
              "\n",
              "[61 rows x 5 columns]"
            ]
          },
          "execution_count": 36,
          "metadata": {},
          "output_type": "execute_result"
        }
      ],
      "source": [
        "speech_new_2.iloc[:61]"
      ]
    },
    {
      "cell_type": "code",
      "execution_count": null,
      "metadata": {
        "id": "esyjJanJKCWD"
      },
      "outputs": [],
      "source": [
        "speech_new_2.to_csv(\"/content/speech_with_summary.csv\")"
      ]
    },
    {
      "cell_type": "markdown",
      "metadata": {
        "id": "3K41kmLyubKN"
      },
      "source": [
        "### Labeling tone"
      ]
    },
    {
      "cell_type": "code",
      "execution_count": null,
      "metadata": {
        "colab": {
          "base_uri": "https://localhost:8080/"
        },
        "id": "gt19YrNpjDq_",
        "outputId": "b5ce62a5-365b-4bc6-8951-cb660eed223f"
      },
      "outputs": [
        {
          "name": "stdout",
          "output_type": "stream",
          "text": [
            "Looking in indexes: https://pypi.org/simple, https://us-python.pkg.dev/colab-wheels/public/simple/\n",
            "Requirement already satisfied: transformers in /usr/local/lib/python3.10/dist-packages (4.28.1)\n",
            "Requirement already satisfied: huggingface-hub<1.0,>=0.11.0 in /usr/local/lib/python3.10/dist-packages (from transformers) (0.14.1)\n",
            "Requirement already satisfied: regex!=2019.12.17 in /usr/local/lib/python3.10/dist-packages (from transformers) (2022.10.31)\n",
            "Requirement already satisfied: requests in /usr/local/lib/python3.10/dist-packages (from transformers) (2.27.1)\n",
            "Requirement already satisfied: pyyaml>=5.1 in /usr/local/lib/python3.10/dist-packages (from transformers) (6.0)\n",
            "Requirement already satisfied: tqdm>=4.27 in /usr/local/lib/python3.10/dist-packages (from transformers) (4.65.0)\n",
            "Requirement already satisfied: filelock in /usr/local/lib/python3.10/dist-packages (from transformers) (3.12.0)\n",
            "Requirement already satisfied: tokenizers!=0.11.3,<0.14,>=0.11.1 in /usr/local/lib/python3.10/dist-packages (from transformers) (0.13.3)\n",
            "Requirement already satisfied: numpy>=1.17 in /usr/local/lib/python3.10/dist-packages (from transformers) (1.22.4)\n",
            "Requirement already satisfied: packaging>=20.0 in /usr/local/lib/python3.10/dist-packages (from transformers) (23.1)\n",
            "Requirement already satisfied: fsspec in /usr/local/lib/python3.10/dist-packages (from huggingface-hub<1.0,>=0.11.0->transformers) (2023.4.0)\n",
            "Requirement already satisfied: typing-extensions>=3.7.4.3 in /usr/local/lib/python3.10/dist-packages (from huggingface-hub<1.0,>=0.11.0->transformers) (4.5.0)\n",
            "Requirement already satisfied: urllib3<1.27,>=1.21.1 in /usr/local/lib/python3.10/dist-packages (from requests->transformers) (1.26.15)\n",
            "Requirement already satisfied: idna<4,>=2.5 in /usr/local/lib/python3.10/dist-packages (from requests->transformers) (3.4)\n",
            "Requirement already satisfied: certifi>=2017.4.17 in /usr/local/lib/python3.10/dist-packages (from requests->transformers) (2022.12.7)\n",
            "Requirement already satisfied: charset-normalizer~=2.0.0 in /usr/local/lib/python3.10/dist-packages (from requests->transformers) (2.0.12)\n"
          ]
        }
      ],
      "source": [
        "!pip install transformers"
      ]
    },
    {
      "cell_type": "code",
      "execution_count": null,
      "metadata": {
        "colab": {
          "base_uri": "https://localhost:8080/",
          "height": 165,
          "referenced_widgets": [
            "d999f3b8e0df469a98f82b6d80fa7236",
            "c3767fad501f4424a6ce18abb71ac1a4",
            "0e2cc41dec934b6bb0bfb23ffd829f44",
            "4dd16845e314499aa9f9d85da4de926e",
            "3367657bfe3c4c678fd445595356f537",
            "ea53287e9f26404dbe2c87c196433181",
            "a4324bd9b26b43a5bf6e932541a0382f",
            "ec8a33690edb48c3aaebc46848238517",
            "aacfe59e46b9465d96306cdf433a5a33",
            "048966ef263f4840bb081159fbabad73",
            "99c59619e75c40faa4a2b09c6bae25db",
            "e15bc859179242699bce3663f931f10b",
            "f2ee5d0ef56d4d3fa9ad30758eec7019",
            "986890fc6ee34573a823218b5d6164d8",
            "2f4fb41d9ee14e62b8e2790d4eab13e6",
            "d3a2a5a0c6364754b2644d4beb847b09",
            "f9c244d89f054f63a30ba1a5e267b89b",
            "64cbcb21884e463c959d495bfb7cec92",
            "35e567c82ef14e9cb96d0809c8198d40",
            "a737eeed54834502b80d86520cce4c07",
            "aeecc5b4c70b4dc9b52fa54780ab29f4",
            "ff01e073bb8646d6adc344a3b4e41736",
            "6dddf4f324d5433ab433b1784d7f0139",
            "7cb38958fcf54cc08d5fb3dbbd212695",
            "ce91e0a5bfb44838b871e3b429ce2831",
            "2f8b2fa019204b61bfd966793c40ca9c",
            "1635f8d0663b4e719d7dacb1a9f28a18",
            "671b8ba6dd914984aaca88410dc24764",
            "18e2dbc3146e45eb9237f314ae63934d",
            "a180534e22524b1db1115888d8e481f4",
            "2f36bd34b8ab4643abb7cb8c90e865b2",
            "4cf230bcd8c84e488afdd75247d38e31",
            "77515f63ad3c42129398c0315ce14b85"
          ]
        },
        "id": "DtaeWqSYVZwA",
        "outputId": "5f1de9b1-0d7e-4de4-d588-6ba4bb96970d"
      },
      "outputs": [
        {
          "data": {
            "application/vnd.jupyter.widget-view+json": {
              "model_id": "d999f3b8e0df469a98f82b6d80fa7236",
              "version_major": 2,
              "version_minor": 0
            },
            "text/plain": [
              "Downloading (…)lve/main/config.json:   0%|          | 0.00/533 [00:00<?, ?B/s]"
            ]
          },
          "metadata": {},
          "output_type": "display_data"
        },
        {
          "data": {
            "application/vnd.jupyter.widget-view+json": {
              "model_id": "e15bc859179242699bce3663f931f10b",
              "version_major": 2,
              "version_minor": 0
            },
            "text/plain": [
              "Downloading pytorch_model.bin:   0%|          | 0.00/439M [00:00<?, ?B/s]"
            ]
          },
          "metadata": {},
          "output_type": "display_data"
        },
        {
          "data": {
            "application/vnd.jupyter.widget-view+json": {
              "model_id": "6dddf4f324d5433ab433b1784d7f0139",
              "version_major": 2,
              "version_minor": 0
            },
            "text/plain": [
              "Downloading (…)solve/main/vocab.txt:   0%|          | 0.00/226k [00:00<?, ?B/s]"
            ]
          },
          "metadata": {},
          "output_type": "display_data"
        },
        {
          "name": "stderr",
          "output_type": "stream",
          "text": [
            "Xformers is not installed correctly. If you want to use memorry_efficient_attention to accelerate training use the following command to install Xformers\n",
            "pip install xformers.\n"
          ]
        }
      ],
      "source": [
        "#https://huggingface.co/yiyanghkust/finbert-tone\n",
        "\n",
        "\n",
        "from transformers import BertTokenizer, BertForSequenceClassification\n",
        "from transformers import pipeline\n",
        "\n",
        "finbert = BertForSequenceClassification.from_pretrained('yiyanghkust/finbert-tone',num_labels=3)\n",
        "tokenizer = BertTokenizer.from_pretrained('yiyanghkust/finbert-tone')\n",
        "\n",
        "nlp = pipeline(\"sentiment-analysis\", model=finbert, tokenizer=tokenizer)"
      ]
    },
    {
      "cell_type": "code",
      "execution_count": null,
      "metadata": {
        "id": "p8uzkdSjYFhi"
      },
      "outputs": [],
      "source": [
        "def exception_size(text):\n",
        "\n",
        "  def agregate(text):\n",
        "    r = []\n",
        "    r.append(text.tone.value_counts().index[0])\n",
        "    \n",
        "    return r\n",
        "\n",
        "  tone = []\n",
        "  for i in range(len(text)):\n",
        "      results = nlp(text[i])\n",
        "      tone.append({\"tone\" : results[0][\"label\"]})\n",
        "  t = pd.DataFrame(tone)\n",
        "  return agregate(t)\n",
        "\n",
        "\n",
        "def label_tone(text):\n",
        "  try:\n",
        "    res = nlp(text)\n",
        "  except: \n",
        "    return exception_size(text.split(\".\"))\n",
        "  return res[0][\"label\"]\n",
        "  "
      ]
    },
    {
      "cell_type": "code",
      "execution_count": null,
      "metadata": {
        "id": "YDBmhSXSoEul"
      },
      "outputs": [],
      "source": [
        "tone = []\n",
        "for i in speech_new_2.summary:\n",
        "  tone.append(label_tone(i))"
      ]
    },
    {
      "cell_type": "code",
      "execution_count": null,
      "metadata": {
        "id": "0DzvMPq7Ndoi"
      },
      "outputs": [],
      "source": [
        "Speech_table[\"Tone\"] = Speech_table.Speech.apply(lambda x : label_tone(x))"
      ]
    },
    {
      "cell_type": "code",
      "execution_count": null,
      "metadata": {
        "id": "F4mzJbuCqCJe"
      },
      "outputs": [],
      "source": [
        "speech_new_2[\"tone\"] = tone"
      ]
    },
    {
      "cell_type": "code",
      "execution_count": null,
      "metadata": {
        "id": "IYmsbikNoVmN"
      },
      "outputs": [],
      "source": [
        "Speech_table[\"Tone\"] = Speech_table.Speech.apply(lambda x : label_tone(x))"
      ]
    },
    {
      "cell_type": "code",
      "execution_count": null,
      "metadata": {
        "colab": {
          "base_uri": "https://localhost:8080/",
          "height": 637
        },
        "id": "aep7npCiH4Vv",
        "outputId": "12cb7a6f-970f-44cb-8e0d-d7c142df15fd"
      },
      "outputs": [
        {
          "data": {
            "text/html": [
              "\n",
              "  <div id=\"df-0971d810-3c66-455c-9a46-1d23ff900386\">\n",
              "    <div class=\"colab-df-container\">\n",
              "      <div>\n",
              "<style scoped>\n",
              "    .dataframe tbody tr th:only-of-type {\n",
              "        vertical-align: middle;\n",
              "    }\n",
              "\n",
              "    .dataframe tbody tr th {\n",
              "        vertical-align: top;\n",
              "    }\n",
              "\n",
              "    .dataframe thead th {\n",
              "        text-align: right;\n",
              "    }\n",
              "</style>\n",
              "<table border=\"1\" class=\"dataframe\">\n",
              "  <thead>\n",
              "    <tr style=\"text-align: right;\">\n",
              "      <th></th>\n",
              "      <th>CC ID</th>\n",
              "      <th>Script ID</th>\n",
              "      <th>Participant</th>\n",
              "      <th>Speech</th>\n",
              "      <th>summary</th>\n",
              "      <th>tone</th>\n",
              "    </tr>\n",
              "  </thead>\n",
              "  <tbody>\n",
              "    <tr>\n",
              "      <th>161</th>\n",
              "      <td>161</td>\n",
              "      <td>322</td>\n",
              "      <td>[Operator, Marci Ryvicker, Brian Roberts, Mike...</td>\n",
              "      <td>[Good morning ladies gentlemen welcome Comcast...</td>\n",
              "      <td>ss Comcasts Fourth Quarter Full Year 2022 Earn...</td>\n",
              "      <td>Positive</td>\n",
              "    </tr>\n",
              "    <tr>\n",
              "      <th>162</th>\n",
              "      <td>162</td>\n",
              "      <td>324</td>\n",
              "      <td>[Operator, Marci Ryvicker, Brian Roberts, Mike...</td>\n",
              "      <td>[Good morning ladies gentlemen welcome Comcast...</td>\n",
              "      <td>ss The strong financials today testament focus...</td>\n",
              "      <td>Positive</td>\n",
              "    </tr>\n",
              "    <tr>\n",
              "      <th>163</th>\n",
              "      <td>163</td>\n",
              "      <td>326</td>\n",
              "      <td>[Operator, Marci Ryvicker, Brian Roberts, Next...</td>\n",
              "      <td>[Good morning ladies gentlemen welcome Comcast...</td>\n",
              "      <td>ss Cable posted 5 growth EBITDA 70 basis point...</td>\n",
              "      <td>Positive</td>\n",
              "    </tr>\n",
              "    <tr>\n",
              "      <th>164</th>\n",
              "      <td>164</td>\n",
              "      <td>328</td>\n",
              "      <td>[Phil Cusick]</td>\n",
              "      <td>[Hi My name Phil Cusick I follow comm services...</td>\n",
              "      <td>ss Phil Cusick I follow comm services infrastr...</td>\n",
              "      <td>Neutral</td>\n",
              "    </tr>\n",
              "    <tr>\n",
              "      <th>165</th>\n",
              "      <td>165</td>\n",
              "      <td>330</td>\n",
              "      <td>[Operator, Marci Ryvicker, Brian Roberts]</td>\n",
              "      <td>[Good morning ladies gentlemen welcome Comcast...</td>\n",
              "      <td>ss First quarter results added 194000 customer...</td>\n",
              "      <td>Positive</td>\n",
              "    </tr>\n",
              "    <tr>\n",
              "      <th>...</th>\n",
              "      <td>...</td>\n",
              "      <td>...</td>\n",
              "      <td>...</td>\n",
              "      <td>...</td>\n",
              "      <td>...</td>\n",
              "      <td>...</td>\n",
              "    </tr>\n",
              "    <tr>\n",
              "      <th>282</th>\n",
              "      <td>282</td>\n",
              "      <td>564</td>\n",
              "      <td>[Operator, Jeanne Jones, Chris Crane, Joe Nigro]</td>\n",
              "      <td>[Hello welcome Exelons First Quarter Earnings ...</td>\n",
              "      <td>ss Exelons First Quarter Earnings Conference C...</td>\n",
              "      <td>Positive</td>\n",
              "    </tr>\n",
              "    <tr>\n",
              "      <th>283</th>\n",
              "      <td>283</td>\n",
              "      <td>566</td>\n",
              "      <td>[Operator, Emily Duncan, A - Chris Crane, A - ...</td>\n",
              "      <td>[Hello welcome Exelons Third Quarter Earnings ...</td>\n",
              "      <td>ss Exelons Third Quarter Earnings Call Third q...</td>\n",
              "      <td>Neutral</td>\n",
              "    </tr>\n",
              "    <tr>\n",
              "      <th>284</th>\n",
              "      <td>284</td>\n",
              "      <td>568</td>\n",
              "      <td>[Operator, Dan Eggers, Chris Crane, Joe Nigro]</td>\n",
              "      <td>[Hello welcome Exelon’s Second Quarter Earning...</td>\n",
              "      <td>ss Exelon’s Second Quarter Earnings Call We ea...</td>\n",
              "      <td>Neutral</td>\n",
              "    </tr>\n",
              "    <tr>\n",
              "      <th>285</th>\n",
              "      <td>285</td>\n",
              "      <td>570</td>\n",
              "      <td>[Operator, Dan Eggers, Chris Crane, Joe Nigro]</td>\n",
              "      <td>[Hello welcome Exelons First Quarter Earnings ...</td>\n",
              "      <td>ss Exelons First Quarter Earnings Call Exelon ...</td>\n",
              "      <td>Positive</td>\n",
              "    </tr>\n",
              "    <tr>\n",
              "      <th>286</th>\n",
              "      <td>286</td>\n",
              "      <td>572</td>\n",
              "      <td>[Operator, Dan Eggers, Chris Crane, Joe Nigro]</td>\n",
              "      <td>[Ladies gentlemen thank standing welcome Exelo...</td>\n",
              "      <td>ss Exelon Fourth Quarter 2020 Earnings Confere...</td>\n",
              "      <td>Negative</td>\n",
              "    </tr>\n",
              "  </tbody>\n",
              "</table>\n",
              "<p>126 rows × 6 columns</p>\n",
              "</div>\n",
              "      <button class=\"colab-df-convert\" onclick=\"convertToInteractive('df-0971d810-3c66-455c-9a46-1d23ff900386')\"\n",
              "              title=\"Convert this dataframe to an interactive table.\"\n",
              "              style=\"display:none;\">\n",
              "        \n",
              "  <svg xmlns=\"http://www.w3.org/2000/svg\" height=\"24px\"viewBox=\"0 0 24 24\"\n",
              "       width=\"24px\">\n",
              "    <path d=\"M0 0h24v24H0V0z\" fill=\"none\"/>\n",
              "    <path d=\"M18.56 5.44l.94 2.06.94-2.06 2.06-.94-2.06-.94-.94-2.06-.94 2.06-2.06.94zm-11 1L8.5 8.5l.94-2.06 2.06-.94-2.06-.94L8.5 2.5l-.94 2.06-2.06.94zm10 10l.94 2.06.94-2.06 2.06-.94-2.06-.94-.94-2.06-.94 2.06-2.06.94z\"/><path d=\"M17.41 7.96l-1.37-1.37c-.4-.4-.92-.59-1.43-.59-.52 0-1.04.2-1.43.59L10.3 9.45l-7.72 7.72c-.78.78-.78 2.05 0 2.83L4 21.41c.39.39.9.59 1.41.59.51 0 1.02-.2 1.41-.59l7.78-7.78 2.81-2.81c.8-.78.8-2.07 0-2.86zM5.41 20L4 18.59l7.72-7.72 1.47 1.35L5.41 20z\"/>\n",
              "  </svg>\n",
              "      </button>\n",
              "      \n",
              "  <style>\n",
              "    .colab-df-container {\n",
              "      display:flex;\n",
              "      flex-wrap:wrap;\n",
              "      gap: 12px;\n",
              "    }\n",
              "\n",
              "    .colab-df-convert {\n",
              "      background-color: #E8F0FE;\n",
              "      border: none;\n",
              "      border-radius: 50%;\n",
              "      cursor: pointer;\n",
              "      display: none;\n",
              "      fill: #1967D2;\n",
              "      height: 32px;\n",
              "      padding: 0 0 0 0;\n",
              "      width: 32px;\n",
              "    }\n",
              "\n",
              "    .colab-df-convert:hover {\n",
              "      background-color: #E2EBFA;\n",
              "      box-shadow: 0px 1px 2px rgba(60, 64, 67, 0.3), 0px 1px 3px 1px rgba(60, 64, 67, 0.15);\n",
              "      fill: #174EA6;\n",
              "    }\n",
              "\n",
              "    [theme=dark] .colab-df-convert {\n",
              "      background-color: #3B4455;\n",
              "      fill: #D2E3FC;\n",
              "    }\n",
              "\n",
              "    [theme=dark] .colab-df-convert:hover {\n",
              "      background-color: #434B5C;\n",
              "      box-shadow: 0px 1px 3px 1px rgba(0, 0, 0, 0.15);\n",
              "      filter: drop-shadow(0px 1px 2px rgba(0, 0, 0, 0.3));\n",
              "      fill: #FFFFFF;\n",
              "    }\n",
              "  </style>\n",
              "\n",
              "      <script>\n",
              "        const buttonEl =\n",
              "          document.querySelector('#df-0971d810-3c66-455c-9a46-1d23ff900386 button.colab-df-convert');\n",
              "        buttonEl.style.display =\n",
              "          google.colab.kernel.accessAllowed ? 'block' : 'none';\n",
              "\n",
              "        async function convertToInteractive(key) {\n",
              "          const element = document.querySelector('#df-0971d810-3c66-455c-9a46-1d23ff900386');\n",
              "          const dataTable =\n",
              "            await google.colab.kernel.invokeFunction('convertToInteractive',\n",
              "                                                     [key], {});\n",
              "          if (!dataTable) return;\n",
              "\n",
              "          const docLinkHtml = 'Like what you see? Visit the ' +\n",
              "            '<a target=\"_blank\" href=https://colab.research.google.com/notebooks/data_table.ipynb>data table notebook</a>'\n",
              "            + ' to learn more about interactive tables.';\n",
              "          element.innerHTML = '';\n",
              "          dataTable['output_type'] = 'display_data';\n",
              "          await google.colab.output.renderOutput(dataTable, element);\n",
              "          const docLink = document.createElement('div');\n",
              "          docLink.innerHTML = docLinkHtml;\n",
              "          element.appendChild(docLink);\n",
              "        }\n",
              "      </script>\n",
              "    </div>\n",
              "  </div>\n",
              "  "
            ],
            "text/plain": [
              "     CC ID  Script ID                                        Participant  \\\n",
              "161    161        322  [Operator, Marci Ryvicker, Brian Roberts, Mike...   \n",
              "162    162        324  [Operator, Marci Ryvicker, Brian Roberts, Mike...   \n",
              "163    163        326  [Operator, Marci Ryvicker, Brian Roberts, Next...   \n",
              "164    164        328                                      [Phil Cusick]   \n",
              "165    165        330          [Operator, Marci Ryvicker, Brian Roberts]   \n",
              "..     ...        ...                                                ...   \n",
              "282    282        564   [Operator, Jeanne Jones, Chris Crane, Joe Nigro]   \n",
              "283    283        566  [Operator, Emily Duncan, A - Chris Crane, A - ...   \n",
              "284    284        568     [Operator, Dan Eggers, Chris Crane, Joe Nigro]   \n",
              "285    285        570     [Operator, Dan Eggers, Chris Crane, Joe Nigro]   \n",
              "286    286        572     [Operator, Dan Eggers, Chris Crane, Joe Nigro]   \n",
              "\n",
              "                                                Speech  \\\n",
              "161  [Good morning ladies gentlemen welcome Comcast...   \n",
              "162  [Good morning ladies gentlemen welcome Comcast...   \n",
              "163  [Good morning ladies gentlemen welcome Comcast...   \n",
              "164  [Hi My name Phil Cusick I follow comm services...   \n",
              "165  [Good morning ladies gentlemen welcome Comcast...   \n",
              "..                                                 ...   \n",
              "282  [Hello welcome Exelons First Quarter Earnings ...   \n",
              "283  [Hello welcome Exelons Third Quarter Earnings ...   \n",
              "284  [Hello welcome Exelon’s Second Quarter Earning...   \n",
              "285  [Hello welcome Exelons First Quarter Earnings ...   \n",
              "286  [Ladies gentlemen thank standing welcome Exelo...   \n",
              "\n",
              "                                               summary      tone  \n",
              "161  ss Comcasts Fourth Quarter Full Year 2022 Earn...  Positive  \n",
              "162  ss The strong financials today testament focus...  Positive  \n",
              "163  ss Cable posted 5 growth EBITDA 70 basis point...  Positive  \n",
              "164  ss Phil Cusick I follow comm services infrastr...   Neutral  \n",
              "165  ss First quarter results added 194000 customer...  Positive  \n",
              "..                                                 ...       ...  \n",
              "282  ss Exelons First Quarter Earnings Conference C...  Positive  \n",
              "283  ss Exelons Third Quarter Earnings Call Third q...   Neutral  \n",
              "284  ss Exelon’s Second Quarter Earnings Call We ea...   Neutral  \n",
              "285  ss Exelons First Quarter Earnings Call Exelon ...  Positive  \n",
              "286  ss Exelon Fourth Quarter 2020 Earnings Confere...  Negative  \n",
              "\n",
              "[126 rows x 6 columns]"
            ]
          },
          "execution_count": 37,
          "metadata": {},
          "output_type": "execute_result"
        }
      ],
      "source": [
        "speech_new_2"
      ]
    },
    {
      "cell_type": "code",
      "execution_count": null,
      "metadata": {
        "colab": {
          "base_uri": "https://localhost:8080/",
          "height": 637
        },
        "id": "nvd7Z-rhGUiz",
        "outputId": "52668adc-8f1b-4a54-868e-fcd0092f7ebc"
      },
      "outputs": [
        {
          "data": {
            "text/html": [
              "\n",
              "  <div id=\"df-ef29e631-5047-42c2-bed2-8044a57b3b69\">\n",
              "    <div class=\"colab-df-container\">\n",
              "      <div>\n",
              "<style scoped>\n",
              "    .dataframe tbody tr th:only-of-type {\n",
              "        vertical-align: middle;\n",
              "    }\n",
              "\n",
              "    .dataframe tbody tr th {\n",
              "        vertical-align: top;\n",
              "    }\n",
              "\n",
              "    .dataframe thead th {\n",
              "        text-align: right;\n",
              "    }\n",
              "</style>\n",
              "<table border=\"1\" class=\"dataframe\">\n",
              "  <thead>\n",
              "    <tr style=\"text-align: right;\">\n",
              "      <th></th>\n",
              "      <th>CC ID</th>\n",
              "      <th>Script ID</th>\n",
              "      <th>Participant</th>\n",
              "      <th>Speech</th>\n",
              "      <th>summary</th>\n",
              "      <th>tone</th>\n",
              "    </tr>\n",
              "  </thead>\n",
              "  <tbody>\n",
              "    <tr>\n",
              "      <th>0</th>\n",
              "      <td>0</td>\n",
              "      <td>0</td>\n",
              "      <td>['Operator', 'Tejas Gala', 'Timothy Cook', 'Lu...</td>\n",
              "      <td>['Good day everyone welcome Apple Q1 Fiscal Ye...</td>\n",
              "      <td>ss Tim Cook hell followed CFO Luca Maestri wel...</td>\n",
              "      <td>Positive</td>\n",
              "    </tr>\n",
              "    <tr>\n",
              "      <th>1</th>\n",
              "      <td>1</td>\n",
              "      <td>2</td>\n",
              "      <td>['Operator', 'Tejas Gala', 'Tim Cook', 'Luca M...</td>\n",
              "      <td>['Good day welcome Apple Q4 Fiscal Year 2022 E...</td>\n",
              "      <td>ss September quarter reported record revenue 9...</td>\n",
              "      <td>Positive</td>\n",
              "    </tr>\n",
              "    <tr>\n",
              "      <th>2</th>\n",
              "      <td>2</td>\n",
              "      <td>4</td>\n",
              "      <td>['Operator', 'Tejas Gala', 'Tim Cook', 'Luca M...</td>\n",
              "      <td>['Good day welcome Apple Q3 FY 2022 Earnings C...</td>\n",
              "      <td>ss Apple reporting another record June quarter...</td>\n",
              "      <td>Positive</td>\n",
              "    </tr>\n",
              "    <tr>\n",
              "      <th>3</th>\n",
              "      <td>3</td>\n",
              "      <td>6</td>\n",
              "      <td>['Operator', 'Tejas Gala', 'Tim Cook', 'Luca M...</td>\n",
              "      <td>['Good day welcome Apple Q2 FY 2022 Earnings C...</td>\n",
              "      <td>ss Apple continues streak unparalleled innovat...</td>\n",
              "      <td>Positive</td>\n",
              "    </tr>\n",
              "    <tr>\n",
              "      <th>4</th>\n",
              "      <td>4</td>\n",
              "      <td>8</td>\n",
              "      <td>['Operator', 'Tejas Gala', 'Tim Cook', 'Luca M...</td>\n",
              "      <td>['Good day welcome Apple Q1 FY 2022 Earnings C...</td>\n",
              "      <td>ss Apple Q1 FY 2022 Earnings Conference Call c...</td>\n",
              "      <td>Positive</td>\n",
              "    </tr>\n",
              "    <tr>\n",
              "      <th>...</th>\n",
              "      <td>...</td>\n",
              "      <td>...</td>\n",
              "      <td>...</td>\n",
              "      <td>...</td>\n",
              "      <td>...</td>\n",
              "      <td>...</td>\n",
              "    </tr>\n",
              "    <tr>\n",
              "      <th>156</th>\n",
              "      <td>156</td>\n",
              "      <td>312</td>\n",
              "      <td>[Operator, John Faucher, Noel Wallace, John Fa...</td>\n",
              "      <td>[Good day And welcome today’s ColgatePalmolive...</td>\n",
              "      <td>ss ColgatePalmolive Company’s Second Quarter 2...</td>\n",
              "      <td>NaN</td>\n",
              "    </tr>\n",
              "    <tr>\n",
              "      <th>157</th>\n",
              "      <td>157</td>\n",
              "      <td>314</td>\n",
              "      <td>[Operator, John Faucher]</td>\n",
              "      <td>[Good day welcome today’s ColgatePalmolive Com...</td>\n",
              "      <td>ss This call recorded simulcast live wwwcolgat...</td>\n",
              "      <td>NaN</td>\n",
              "    </tr>\n",
              "    <tr>\n",
              "      <th>158</th>\n",
              "      <td>158</td>\n",
              "      <td>316</td>\n",
              "      <td>[Peter Grom, John Faucher, Peter Grom, John Fa...</td>\n",
              "      <td>[Good afternoon everyone Welcome UBS Global Co...</td>\n",
              "      <td>ss ColgatePalmolive John Faucher Chief Investo...</td>\n",
              "      <td>NaN</td>\n",
              "    </tr>\n",
              "    <tr>\n",
              "      <th>159</th>\n",
              "      <td>159</td>\n",
              "      <td>318</td>\n",
              "      <td>[Operator, John Faucher]</td>\n",
              "      <td>[Good day welcome today’s ColgatePalmolive Com...</td>\n",
              "      <td>ss For full year grew net sales 6 adding nearl...</td>\n",
              "      <td>NaN</td>\n",
              "    </tr>\n",
              "    <tr>\n",
              "      <th>160</th>\n",
              "      <td>160</td>\n",
              "      <td>320</td>\n",
              "      <td>[Operator, John Faucher]</td>\n",
              "      <td>[Please standby begin Good day welcome todays ...</td>\n",
              "      <td>ss ColgatePalmolive Company Third Quarter 2021...</td>\n",
              "      <td>NaN</td>\n",
              "    </tr>\n",
              "  </tbody>\n",
              "</table>\n",
              "<p>161 rows × 6 columns</p>\n",
              "</div>\n",
              "      <button class=\"colab-df-convert\" onclick=\"convertToInteractive('df-ef29e631-5047-42c2-bed2-8044a57b3b69')\"\n",
              "              title=\"Convert this dataframe to an interactive table.\"\n",
              "              style=\"display:none;\">\n",
              "        \n",
              "  <svg xmlns=\"http://www.w3.org/2000/svg\" height=\"24px\"viewBox=\"0 0 24 24\"\n",
              "       width=\"24px\">\n",
              "    <path d=\"M0 0h24v24H0V0z\" fill=\"none\"/>\n",
              "    <path d=\"M18.56 5.44l.94 2.06.94-2.06 2.06-.94-2.06-.94-.94-2.06-.94 2.06-2.06.94zm-11 1L8.5 8.5l.94-2.06 2.06-.94-2.06-.94L8.5 2.5l-.94 2.06-2.06.94zm10 10l.94 2.06.94-2.06 2.06-.94-2.06-.94-.94-2.06-.94 2.06-2.06.94z\"/><path d=\"M17.41 7.96l-1.37-1.37c-.4-.4-.92-.59-1.43-.59-.52 0-1.04.2-1.43.59L10.3 9.45l-7.72 7.72c-.78.78-.78 2.05 0 2.83L4 21.41c.39.39.9.59 1.41.59.51 0 1.02-.2 1.41-.59l7.78-7.78 2.81-2.81c.8-.78.8-2.07 0-2.86zM5.41 20L4 18.59l7.72-7.72 1.47 1.35L5.41 20z\"/>\n",
              "  </svg>\n",
              "      </button>\n",
              "      \n",
              "  <style>\n",
              "    .colab-df-container {\n",
              "      display:flex;\n",
              "      flex-wrap:wrap;\n",
              "      gap: 12px;\n",
              "    }\n",
              "\n",
              "    .colab-df-convert {\n",
              "      background-color: #E8F0FE;\n",
              "      border: none;\n",
              "      border-radius: 50%;\n",
              "      cursor: pointer;\n",
              "      display: none;\n",
              "      fill: #1967D2;\n",
              "      height: 32px;\n",
              "      padding: 0 0 0 0;\n",
              "      width: 32px;\n",
              "    }\n",
              "\n",
              "    .colab-df-convert:hover {\n",
              "      background-color: #E2EBFA;\n",
              "      box-shadow: 0px 1px 2px rgba(60, 64, 67, 0.3), 0px 1px 3px 1px rgba(60, 64, 67, 0.15);\n",
              "      fill: #174EA6;\n",
              "    }\n",
              "\n",
              "    [theme=dark] .colab-df-convert {\n",
              "      background-color: #3B4455;\n",
              "      fill: #D2E3FC;\n",
              "    }\n",
              "\n",
              "    [theme=dark] .colab-df-convert:hover {\n",
              "      background-color: #434B5C;\n",
              "      box-shadow: 0px 1px 3px 1px rgba(0, 0, 0, 0.15);\n",
              "      filter: drop-shadow(0px 1px 2px rgba(0, 0, 0, 0.3));\n",
              "      fill: #FFFFFF;\n",
              "    }\n",
              "  </style>\n",
              "\n",
              "      <script>\n",
              "        const buttonEl =\n",
              "          document.querySelector('#df-ef29e631-5047-42c2-bed2-8044a57b3b69 button.colab-df-convert');\n",
              "        buttonEl.style.display =\n",
              "          google.colab.kernel.accessAllowed ? 'block' : 'none';\n",
              "\n",
              "        async function convertToInteractive(key) {\n",
              "          const element = document.querySelector('#df-ef29e631-5047-42c2-bed2-8044a57b3b69');\n",
              "          const dataTable =\n",
              "            await google.colab.kernel.invokeFunction('convertToInteractive',\n",
              "                                                     [key], {});\n",
              "          if (!dataTable) return;\n",
              "\n",
              "          const docLinkHtml = 'Like what you see? Visit the ' +\n",
              "            '<a target=\"_blank\" href=https://colab.research.google.com/notebooks/data_table.ipynb>data table notebook</a>'\n",
              "            + ' to learn more about interactive tables.';\n",
              "          element.innerHTML = '';\n",
              "          dataTable['output_type'] = 'display_data';\n",
              "          await google.colab.output.renderOutput(dataTable, element);\n",
              "          const docLink = document.createElement('div');\n",
              "          docLink.innerHTML = docLinkHtml;\n",
              "          element.appendChild(docLink);\n",
              "        }\n",
              "      </script>\n",
              "    </div>\n",
              "  </div>\n",
              "  "
            ],
            "text/plain": [
              "     CC ID  Script ID                                        Participant  \\\n",
              "0        0          0  ['Operator', 'Tejas Gala', 'Timothy Cook', 'Lu...   \n",
              "1        1          2  ['Operator', 'Tejas Gala', 'Tim Cook', 'Luca M...   \n",
              "2        2          4  ['Operator', 'Tejas Gala', 'Tim Cook', 'Luca M...   \n",
              "3        3          6  ['Operator', 'Tejas Gala', 'Tim Cook', 'Luca M...   \n",
              "4        4          8  ['Operator', 'Tejas Gala', 'Tim Cook', 'Luca M...   \n",
              "..     ...        ...                                                ...   \n",
              "156    156        312  [Operator, John Faucher, Noel Wallace, John Fa...   \n",
              "157    157        314                           [Operator, John Faucher]   \n",
              "158    158        316  [Peter Grom, John Faucher, Peter Grom, John Fa...   \n",
              "159    159        318                           [Operator, John Faucher]   \n",
              "160    160        320                           [Operator, John Faucher]   \n",
              "\n",
              "                                                Speech  \\\n",
              "0    ['Good day everyone welcome Apple Q1 Fiscal Ye...   \n",
              "1    ['Good day welcome Apple Q4 Fiscal Year 2022 E...   \n",
              "2    ['Good day welcome Apple Q3 FY 2022 Earnings C...   \n",
              "3    ['Good day welcome Apple Q2 FY 2022 Earnings C...   \n",
              "4    ['Good day welcome Apple Q1 FY 2022 Earnings C...   \n",
              "..                                                 ...   \n",
              "156  [Good day And welcome today’s ColgatePalmolive...   \n",
              "157  [Good day welcome today’s ColgatePalmolive Com...   \n",
              "158  [Good afternoon everyone Welcome UBS Global Co...   \n",
              "159  [Good day welcome today’s ColgatePalmolive Com...   \n",
              "160  [Please standby begin Good day welcome todays ...   \n",
              "\n",
              "                                               summary      tone  \n",
              "0    ss Tim Cook hell followed CFO Luca Maestri wel...  Positive  \n",
              "1    ss September quarter reported record revenue 9...  Positive  \n",
              "2    ss Apple reporting another record June quarter...  Positive  \n",
              "3    ss Apple continues streak unparalleled innovat...  Positive  \n",
              "4    ss Apple Q1 FY 2022 Earnings Conference Call c...  Positive  \n",
              "..                                                 ...       ...  \n",
              "156  ss ColgatePalmolive Company’s Second Quarter 2...       NaN  \n",
              "157  ss This call recorded simulcast live wwwcolgat...       NaN  \n",
              "158  ss ColgatePalmolive John Faucher Chief Investo...       NaN  \n",
              "159  ss For full year grew net sales 6 adding nearl...       NaN  \n",
              "160  ss ColgatePalmolive Company Third Quarter 2021...       NaN  \n",
              "\n",
              "[161 rows x 6 columns]"
            ]
          },
          "execution_count": 33,
          "metadata": {},
          "output_type": "execute_result"
        }
      ],
      "source": [
        "speech_new_2"
      ]
    },
    {
      "cell_type": "markdown",
      "metadata": {
        "id": "OrbVMvv-c1Vq"
      },
      "source": [
        "# Modeling"
      ]
    },
    {
      "cell_type": "code",
      "execution_count": null,
      "metadata": {
        "id": "vUK7J9zZxcyT"
      },
      "outputs": [],
      "source": [
        "from sklearn.feature_extraction.text import TfidfTransformer\n",
        "\n",
        "from sklearn.feature_extraction.text import CountVectorizer\n",
        "import numpy as np\n",
        "from scipy.sparse import csr_matrix\n",
        "from scipy.sparse import hstack\n",
        "from sklearn.model_selection import train_test_split\n",
        "from sklearn.svm import SVC\n",
        "from sklearn.metrics import accuracy_score"
      ]
    },
    {
      "cell_type": "code",
      "execution_count": null,
      "metadata": {
        "id": "y-nOYeiZwobu"
      },
      "outputs": [],
      "source": [
        "df = pd.read_csv(\"/content/df_fin.csv\", header = 0, index_col = 0)"
      ]
    },
    {
      "cell_type": "code",
      "execution_count": null,
      "metadata": {
        "id": "C88DJlBNyU-_"
      },
      "outputs": [],
      "source": [
        "df = Speech_table.copy()"
      ]
    },
    {
      "cell_type": "code",
      "execution_count": null,
      "metadata": {
        "id": "Mzu8h6mdxXC0"
      },
      "outputs": [],
      "source": [
        "def metrics(y_test,y_pred):\n",
        "    print(\"Accuracy {}\".format(np.round(accuracy_score(y_test, y_pred),3)))\n",
        "    print(\"F1 {}\".format(np.round(f1_score(y_test, y_pred),3)))"
      ]
    },
    {
      "cell_type": "code",
      "execution_count": null,
      "metadata": {
        "id": "1cmLnkDvxHgS"
      },
      "outputs": [],
      "source": [
        "\n",
        "y = df[\"Price_bool\"]\n",
        "\n",
        "# Split the combined features and target labels into training and testing sets\n",
        "X_train, X_test, y_train, y_test = train_test_split(df.Speech_2, y, test_size=0.2, random_state=42)"
      ]
    },
    {
      "cell_type": "code",
      "execution_count": null,
      "metadata": {
        "id": "JdX7QeFVeL9C"
      },
      "outputs": [],
      "source": [
        "from keras.preprocessing.text import Tokenizer\n",
        "tokenizer = Tokenizer(num_words= 50000, filters= spec_chars, lower=True)\n",
        "tokenizer.fit_on_texts(X_train.values)\n",
        "word_index = tokenizer.word_index"
      ]
    },
    {
      "cell_type": "code",
      "execution_count": null,
      "metadata": {
        "id": "pQXfBVP6eOT4"
      },
      "outputs": [],
      "source": [
        "#train data\n",
        "import tensorflow as tf\n",
        "vectors = tokenizer.texts_to_sequences(X_train.values)\n",
        "vectors = tf.keras.utils.pad_sequences(vectors, maxlen= 10000 )"
      ]
    },
    {
      "cell_type": "code",
      "execution_count": null,
      "metadata": {
        "id": "XasHosKKeRBi"
      },
      "outputs": [],
      "source": [
        "#test data \n",
        "test_Emb = tokenizer.texts_to_sequences(X_test.values)\n",
        "test_Emb = tf.keras.utils.pad_sequences(test_Emb, maxlen= 10000)"
      ]
    },
    {
      "cell_type": "code",
      "execution_count": null,
      "metadata": {
        "id": "ZKQPaOTifdr7"
      },
      "outputs": [],
      "source": [
        "y_new = pd.get_dummies(y_train).values"
      ]
    },
    {
      "cell_type": "code",
      "execution_count": null,
      "metadata": {
        "id": "UjSR0JURyCL6"
      },
      "outputs": [],
      "source": [
        "import tensorflow as tf\n",
        "from tensorflow import keras\n",
        "from tensorflow.keras.layers import Embedding, LSTM, Dense,Dropout"
      ]
    },
    {
      "cell_type": "code",
      "source": [
        "vectors.shape[0]"
      ],
      "metadata": {
        "colab": {
          "base_uri": "https://localhost:8080/"
        },
        "id": "BXGYwfQGPjbO",
        "outputId": "a3ae73ac-f414-4a7b-a478-912edff2b32b"
      },
      "execution_count": null,
      "outputs": [
        {
          "output_type": "execute_result",
          "data": {
            "text/plain": [
              "10000"
            ]
          },
          "metadata": {},
          "execution_count": 38
        }
      ]
    },
    {
      "cell_type": "code",
      "execution_count": null,
      "metadata": {
        "id": "MFzE3XKKfiKm"
      },
      "outputs": [],
      "source": [
        "tf.random.set_seed(0)\n",
        "Init = keras.initializers.RandomNormal(seed=0)\n",
        "tf.random.set_seed(0) \n",
        "model = tf.keras.Sequential([\n",
        "    #Embedding(50000, 256, input_length= vectors.shape[1]),     \n",
        "    LSTM(256, return_sequences=True ),\n",
        "    LSTM(256),\n",
        "    Dense(256, activation='relu'),\n",
        "    Dropout(0.5),\n",
        "    #model.add(Dense(1, activation='sigmoid'))\n",
        "    Dense(y_new.shape[1],activation='softmax' )\n",
        "])"
      ]
    },
    {
      "cell_type": "code",
      "execution_count": null,
      "metadata": {
        "id": "6X77pMHD1D2d"
      },
      "outputs": [],
      "source": [
        "from tensorflow.keras.callbacks import EarlyStopping"
      ]
    },
    {
      "cell_type": "code",
      "execution_count": null,
      "metadata": {
        "id": "lkEEiEIofu1k"
      },
      "outputs": [],
      "source": [
        "early_stopping = EarlyStopping(monitor='val_loss', patience=5)"
      ]
    },
    {
      "cell_type": "code",
      "execution_count": null,
      "metadata": {
        "id": "vN7SaSLafmoV"
      },
      "outputs": [],
      "source": [
        "model.build(X_train.shape)\n",
        "model.summary()\n",
        "loss = tf.keras.losses.CategoricalCrossentropy() \n",
        "model.compile(loss=loss, optimizer='adam', metrics=[\"accuracy\"]) "
      ]
    },
    {
      "cell_type": "code",
      "source": [
        "print(\"full text new layers\")\n",
        "hist = model.fit(vectors, y_new,batch_size=32, epochs=10, validation_split=.3,callbacks=[early_stopping])"
      ],
      "metadata": {
        "id": "wXx2KgQgQU2D"
      },
      "execution_count": null,
      "outputs": []
    },
    {
      "cell_type": "code",
      "execution_count": null,
      "metadata": {
        "colab": {
          "base_uri": "https://localhost:8080/"
        },
        "id": "DIzxpSsJ0XDH",
        "outputId": "dff735c3-1fcc-4a95-ef78-496e545a5bff"
      },
      "outputs": [
        {
          "output_type": "stream",
          "name": "stdout",
          "text": [
            "full text new layers\n",
            "Epoch 1/10\n",
            "10/10 [==============================] - 18s 1s/step - loss: 0.6946 - accuracy: 0.5925 - val_loss: 0.6777 - val_accuracy: 0.5839\n",
            "Epoch 2/10\n",
            "10/10 [==============================] - 13s 1s/step - loss: 0.6645 - accuracy: 0.5956 - val_loss: 0.6726 - val_accuracy: 0.5985\n",
            "Epoch 3/10\n",
            "10/10 [==============================] - 14s 1s/step - loss: 0.4154 - accuracy: 0.8088 - val_loss: 0.9540 - val_accuracy: 0.5912\n",
            "Epoch 4/10\n",
            "10/10 [==============================] - 13s 1s/step - loss: 0.2001 - accuracy: 0.9404 - val_loss: 0.9816 - val_accuracy: 0.5255\n",
            "Epoch 5/10\n",
            "10/10 [==============================] - 12s 1s/step - loss: 0.1400 - accuracy: 0.9404 - val_loss: 1.2289 - val_accuracy: 0.6058\n",
            "Epoch 6/10\n",
            "10/10 [==============================] - 12s 1s/step - loss: 0.9671 - accuracy: 0.8934 - val_loss: 1.1185 - val_accuracy: 0.5693\n",
            "Epoch 7/10\n",
            "10/10 [==============================] - 13s 1s/step - loss: 0.1738 - accuracy: 0.9592 - val_loss: 1.2024 - val_accuracy: 0.5547\n"
          ]
        }
      ],
      "source": [
        "print(\"full text new layers\")\n",
        "hist = model.fit(vectors, y_new,batch_size=32, epochs=10, validation_split=.3,callbacks=[early_stopping])\n"
      ]
    },
    {
      "cell_type": "code",
      "execution_count": null,
      "metadata": {
        "colab": {
          "base_uri": "https://localhost:8080/"
        },
        "id": "-oxpPcJ7alou",
        "outputId": "63d0ad2a-640a-4790-dc04-b034a8735405"
      },
      "outputs": [
        {
          "name": "stdout",
          "output_type": "stream",
          "text": [
            "full text\n",
            "Epoch 1/10\n",
            "10/10 [==============================] - 17s 1s/step - loss: 0.6992 - accuracy: 0.5893 - val_loss: 0.6766 - val_accuracy: 0.5839\n",
            "Epoch 2/10\n",
            "10/10 [==============================] - 9s 899ms/step - loss: 0.6557 - accuracy: 0.6019 - val_loss: 0.6779 - val_accuracy: 0.6058\n",
            "Epoch 3/10\n",
            "10/10 [==============================] - 7s 734ms/step - loss: 0.6146 - accuracy: 0.6489 - val_loss: 0.6807 - val_accuracy: 0.5985\n",
            "Epoch 4/10\n",
            "10/10 [==============================] - 8s 779ms/step - loss: 0.5393 - accuracy: 0.8307 - val_loss: 0.7183 - val_accuracy: 0.5328\n",
            "Epoch 5/10\n",
            "10/10 [==============================] - 7s 732ms/step - loss: 0.2896 - accuracy: 0.9185 - val_loss: 0.9591 - val_accuracy: 0.6131\n",
            "Epoch 6/10\n",
            "10/10 [==============================] - 7s 695ms/step - loss: 0.1625 - accuracy: 0.9436 - val_loss: 0.9872 - val_accuracy: 0.5328\n",
            "Epoch 7/10\n",
            "10/10 [==============================] - 7s 743ms/step - loss: 0.1467 - accuracy: 0.9467 - val_loss: 1.0236 - val_accuracy: 0.5401\n",
            "Epoch 8/10\n",
            "10/10 [==============================] - 8s 767ms/step - loss: 0.0865 - accuracy: 0.9718 - val_loss: 1.0767 - val_accuracy: 0.5328\n",
            "Epoch 9/10\n",
            "10/10 [==============================] - 7s 742ms/step - loss: 0.0709 - accuracy: 0.9718 - val_loss: 1.2689 - val_accuracy: 0.5255\n",
            "Epoch 10/10\n",
            "10/10 [==============================] - 9s 920ms/step - loss: 0.0570 - accuracy: 0.9843 - val_loss: 1.5604 - val_accuracy: 0.5109\n"
          ]
        }
      ],
      "source": [
        "print(\"full text\")\n",
        "hist = model.fit(vectors, y_new, epochs=10, validation_split=.3)\n"
      ]
    },
    {
      "cell_type": "code",
      "execution_count": null,
      "metadata": {
        "colab": {
          "base_uri": "https://localhost:8080/"
        },
        "id": "Gt50Mli8fndg",
        "outputId": "debc310a-f29c-4775-e689-11369e97f434"
      },
      "outputs": [
        {
          "name": "stdout",
          "output_type": "stream",
          "text": [
            "Epoch 1/10\n",
            "4/4 [==============================] - 6s 789ms/step - loss: 0.6904 - accuracy: 0.5210 - val_loss: 0.6984 - val_accuracy: 0.4615\n",
            "Epoch 2/10\n",
            "4/4 [==============================] - 3s 735ms/step - loss: 0.6420 - accuracy: 0.5966 - val_loss: 0.8086 - val_accuracy: 0.4615\n",
            "Epoch 3/10\n",
            "4/4 [==============================] - 3s 740ms/step - loss: 0.8708 - accuracy: 0.6387 - val_loss: 0.7089 - val_accuracy: 0.4615\n",
            "Epoch 4/10\n",
            "4/4 [==============================] - 3s 729ms/step - loss: 0.5047 - accuracy: 0.9412 - val_loss: 0.6901 - val_accuracy: 0.5577\n",
            "Epoch 5/10\n",
            "4/4 [==============================] - 3s 676ms/step - loss: 0.4654 - accuracy: 1.0000 - val_loss: 0.6879 - val_accuracy: 0.4615\n",
            "Epoch 6/10\n",
            "4/4 [==============================] - 3s 730ms/step - loss: 0.3878 - accuracy: 1.0000 - val_loss: 0.6886 - val_accuracy: 0.5000\n",
            "Epoch 7/10\n",
            "4/4 [==============================] - 3s 738ms/step - loss: 0.2800 - accuracy: 1.0000 - val_loss: 0.6946 - val_accuracy: 0.5000\n",
            "Epoch 8/10\n",
            "4/4 [==============================] - 2s 629ms/step - loss: 0.1714 - accuracy: 1.0000 - val_loss: 0.7098 - val_accuracy: 0.4808\n",
            "Epoch 9/10\n",
            "4/4 [==============================] - 3s 800ms/step - loss: 0.0828 - accuracy: 1.0000 - val_loss: 0.7570 - val_accuracy: 0.5385\n",
            "Epoch 10/10\n",
            "4/4 [==============================] - 3s 757ms/step - loss: 0.0330 - accuracy: 1.0000 - val_loss: 0.9140 - val_accuracy: 0.5385\n"
          ]
        }
      ],
      "source": [
        "hist = model.fit(vectors, y_new, epochs=10, validation_split=.3)"
      ]
    },
    {
      "cell_type": "code",
      "execution_count": null,
      "metadata": {
        "colab": {
          "base_uri": "https://localhost:8080/"
        },
        "id": "p9WDaFV2fyMd",
        "outputId": "fc292677-189a-455b-88ab-79b41926ebeb"
      },
      "outputs": [
        {
          "output_type": "stream",
          "name": "stdout",
          "text": [
            "4/4 [==============================] - 2s 389ms/step\n"
          ]
        }
      ],
      "source": [
        "y_pred_nn = model.predict(test_Emb)"
      ]
    },
    {
      "cell_type": "code",
      "execution_count": null,
      "metadata": {
        "id": "x6ejYyTJf3G2"
      },
      "outputs": [],
      "source": [
        "category = np.argmax(y_pred_nn, axis = 1)"
      ]
    },
    {
      "cell_type": "code",
      "execution_count": null,
      "metadata": {
        "colab": {
          "base_uri": "https://localhost:8080/"
        },
        "id": "8nmgpgY0yjlQ",
        "outputId": "61ae94bd-aef3-4486-cea5-864bc5d6243d"
      },
      "outputs": [
        {
          "name": "stdout",
          "output_type": "stream",
          "text": [
            "full text max\n",
            "Accuracy 0.461\n",
            "F1 0.436\n"
          ]
        }
      ],
      "source": [
        "print(\"full text max\")\n",
        "pY = pd.DataFrame(category,columns = [\"category\"], index = X_test.index)\n",
        "from sklearn.metrics import f1_score\n",
        "metrics(y_test, pY[:y_test.shape[0]].category)"
      ]
    },
    {
      "cell_type": "code",
      "execution_count": null,
      "metadata": {
        "colab": {
          "base_uri": "https://localhost:8080/"
        },
        "id": "PT7oG0qH03Ix",
        "outputId": "65c8fc6c-5c71-47ea-f6ce-ba5b06dc9e50"
      },
      "outputs": [
        {
          "output_type": "stream",
          "name": "stdout",
          "text": [
            "full text new layers\n",
            "Accuracy 0.548\n",
            "F1 0.278\n"
          ]
        }
      ],
      "source": [
        "print(\"full text new layers\")\n",
        "pY = pd.DataFrame(category,columns = [\"category\"], index = X_test.index)\n",
        "from sklearn.metrics import f1_score\n",
        "metrics(y_test, pY[:y_test.shape[0]].category)"
      ]
    },
    {
      "cell_type": "code",
      "execution_count": null,
      "metadata": {
        "colab": {
          "base_uri": "https://localhost:8080/"
        },
        "id": "-nG9pcw9f4EL",
        "outputId": "7ec291b7-93ac-4785-ea68-631920791170"
      },
      "outputs": [
        {
          "name": "stdout",
          "output_type": "stream",
          "text": [
            "Accuracy 0.488\n",
            "F1 0.267\n"
          ]
        }
      ],
      "source": [
        "pY = pd.DataFrame(category,columns = [\"category\"], index = X_test.index)\n",
        "from sklearn.metrics import f1_score\n",
        "metrics(y_test, pY[:y_test.shape[0]].category)"
      ]
    },
    {
      "cell_type": "code",
      "execution_count": null,
      "metadata": {
        "colab": {
          "base_uri": "https://localhost:8080/"
        },
        "id": "8UQUoGwaf7eu",
        "outputId": "e80ffd2c-fe7a-42cc-aa3c-2230ea3fb168"
      },
      "outputs": [
        {
          "data": {
            "text/plain": [
              "0.5116279069767442"
            ]
          },
          "execution_count": 31,
          "metadata": {},
          "output_type": "execute_result"
        }
      ],
      "source": [
        "from sklearn.metrics import accuracy_score\n",
        "accuracy_score(y_test, pY[:y_test.shape[0]].category)"
      ]
    },
    {
      "cell_type": "code",
      "execution_count": null,
      "metadata": {
        "colab": {
          "base_uri": "https://localhost:8080/"
        },
        "id": "7GsSIyKFyonf",
        "outputId": "f4a6a3cb-e9ba-40bd-d16f-d2cb978e8b10"
      },
      "outputs": [
        {
          "name": "stdout",
          "output_type": "stream",
          "text": [
            "Accuracy 0.442\n",
            "F1 0.333\n"
          ]
        }
      ],
      "source": [
        "from sklearn.metrics import f1_score\n",
        "metrics(y_test, pY[:y_test.shape[0]].category)"
      ]
    },
    {
      "cell_type": "code",
      "execution_count": null,
      "metadata": {
        "id": "vJMPPRqp0GRS"
      },
      "outputs": [],
      "source": [
        "y = df[\"Price_bool\"]\n",
        "\n",
        "# Split the combined features and target labels into training and testing sets\n",
        "X_train, X_test, y_train, y_test = train_test_split(df[[\"Speech\",\"Adj Close\",\"Volume\"]], y, test_size=0.2, random_state=42)\n",
        "\n",
        "y_new = pd.get_dummies(y_train).values"
      ]
    },
    {
      "cell_type": "code",
      "execution_count": null,
      "metadata": {
        "colab": {
          "base_uri": "https://localhost:8080/"
        },
        "id": "7LpzE1qNz8at",
        "outputId": "5db07164-c9c9-4078-9967-9faaf53bd3c7"
      },
      "outputs": [
        {
          "output_type": "stream",
          "name": "stdout",
          "text": [
            "Epoch 1/20\n",
            "12/12 [==============================] - 12s 702ms/step - loss: 1806072.1250 - accuracy: 0.4011 - val_loss: 2100733.2500 - val_accuracy: 0.4348\n",
            "Epoch 2/20\n",
            "12/12 [==============================] - 6s 472ms/step - loss: 1593890.8750 - accuracy: 0.4011 - val_loss: 1849880.8750 - val_accuracy: 0.4348\n",
            "Epoch 3/20\n",
            "12/12 [==============================] - 6s 534ms/step - loss: 1392825.3750 - accuracy: 0.4011 - val_loss: 1588533.8750 - val_accuracy: 0.4348\n",
            "Epoch 4/20\n",
            "12/12 [==============================] - 6s 481ms/step - loss: 1182780.8750 - accuracy: 0.4011 - val_loss: 1323033.2500 - val_accuracy: 0.4348\n",
            "Epoch 5/20\n",
            "12/12 [==============================] - 7s 562ms/step - loss: 970742.5000 - accuracy: 0.4011 - val_loss: 1067592.5000 - val_accuracy: 0.4348\n",
            "Epoch 6/20\n",
            "12/12 [==============================] - 6s 488ms/step - loss: 766730.3750 - accuracy: 0.4011 - val_loss: 812954.0625 - val_accuracy: 0.4348\n",
            "Epoch 7/20\n",
            "12/12 [==============================] - 6s 536ms/step - loss: 561600.7500 - accuracy: 0.4011 - val_loss: 559505.6250 - val_accuracy: 0.4348\n",
            "Epoch 8/20\n",
            "12/12 [==============================] - 6s 476ms/step - loss: 359303.8125 - accuracy: 0.4011 - val_loss: 303744.2500 - val_accuracy: 0.4348\n",
            "Epoch 9/20\n",
            "12/12 [==============================] - 6s 507ms/step - loss: 157927.7188 - accuracy: 0.4011 - val_loss: 46344.6953 - val_accuracy: 0.4348\n",
            "Epoch 10/20\n",
            "12/12 [==============================] - 6s 500ms/step - loss: 30542.1289 - accuracy: 0.5604 - val_loss: 35056.5781 - val_accuracy: 0.5652\n",
            "Epoch 11/20\n",
            "12/12 [==============================] - 6s 536ms/step - loss: 18234.6406 - accuracy: 0.5549 - val_loss: 22866.1055 - val_accuracy: 0.4239\n",
            "Epoch 12/20\n",
            "12/12 [==============================] - 6s 526ms/step - loss: 10348.2061 - accuracy: 0.5110 - val_loss: 9633.6953 - val_accuracy: 0.4130\n",
            "Epoch 13/20\n",
            "12/12 [==============================] - 7s 587ms/step - loss: 7794.2690 - accuracy: 0.5055 - val_loss: 5360.2378 - val_accuracy: 0.5652\n",
            "Epoch 14/20\n",
            "12/12 [==============================] - 7s 564ms/step - loss: 3726.1733 - accuracy: 0.4973 - val_loss: 976.4321 - val_accuracy: 0.5652\n",
            "Epoch 15/20\n",
            "12/12 [==============================] - 7s 575ms/step - loss: 2153.4043 - accuracy: 0.5385 - val_loss: 2130.6165 - val_accuracy: 0.5652\n",
            "Epoch 16/20\n",
            "12/12 [==============================] - 6s 477ms/step - loss: 3856.5610 - accuracy: 0.4945 - val_loss: 8545.5674 - val_accuracy: 0.5652\n",
            "Epoch 17/20\n",
            "12/12 [==============================] - 6s 528ms/step - loss: 6161.4556 - accuracy: 0.4808 - val_loss: 6629.5674 - val_accuracy: 0.5652\n",
            "Epoch 18/20\n",
            "12/12 [==============================] - 7s 585ms/step - loss: 6288.0234 - accuracy: 0.5467 - val_loss: 13602.4268 - val_accuracy: 0.4239\n",
            "Epoch 19/20\n",
            "12/12 [==============================] - 6s 518ms/step - loss: 4697.8628 - accuracy: 0.4780 - val_loss: 5827.5908 - val_accuracy: 0.4457\n"
          ]
        },
        {
          "output_type": "execute_result",
          "data": {
            "text/plain": [
              "<keras.callbacks.History at 0x7fbba077d420>"
            ]
          },
          "metadata": {},
          "execution_count": 86
        }
      ],
      "source": [
        "import numpy as np\n",
        "import pandas as pd\n",
        "import tensorflow as tf\n",
        "from tensorflow.keras.preprocessing.sequence import pad_sequences\n",
        "from tensorflow.keras.layers import Embedding, LSTM, Dense, Concatenate\n",
        "from tensorflow.keras.models import Model\n",
        "from tensorflow.keras.callbacks import EarlyStopping\n",
        "\n",
        "from keras.preprocessing.text import Tokenizer\n",
        "tokenizer = Tokenizer(num_words= 50000, filters= spec_chars, lower=True)\n",
        "tokenizer.fit_on_texts(X_train.Speech.values)\n",
        "word_index = tokenizer.word_index\n",
        "\n",
        "# Tokenize text data\n",
        "vectors = tokenizer.texts_to_sequences(X_train.Speech.values)\n",
        "vectors = pad_sequences(vectors, maxlen=3000)\n",
        "#test data \n",
        "test_Emb = tokenizer.texts_to_sequences(X_test.Speech.values)\n",
        "test_Emb = tf.keras.utils.pad_sequences(test_Emb, maxlen= 3000)\n",
        "\n",
        "# Financial variables (example)\n",
        "financial_data = X_train[[\"Adj Close\",\"Volume\"]]\n",
        "\n",
        "# Combine tokenized data and financial variables\n",
        "combined_data = np.concatenate((vectors, financial_data.values), axis=1)\n",
        "\n",
        "# Define the model architecture\n",
        "embedding_dim = 256\n",
        "lstm_units = 256\n",
        "\n",
        "input_text = tf.keras.Input(shape=(3000,))\n",
        "embedding = Embedding(input_dim=50000, output_dim=embedding_dim)(input_text)\n",
        "lstm = LSTM(units=lstm_units, return_sequences=True)(embedding)\n",
        "lstm2 = LSTM(256, dropout = 0.2)(lstm)\n",
        "dense = Dense(128, activation='relu')(lstm2)\n",
        "dropout = Dropout(0.2)(dense)\n",
        "\n",
        "input_financial = tf.keras.Input(shape=(2,))\n",
        "concatenated = Concatenate()([dropout, input_financial])\n",
        "output = Dense(units=y_new.shape[1], activation='softmax')(concatenated)\n",
        "\n",
        "model = Model(inputs=[input_text, input_financial], outputs=output)\n",
        "\n",
        "loss = tf.keras.losses.CategoricalCrossentropy() \n",
        "model.compile(loss=loss, optimizer='adam', metrics=[\"accuracy\"]) \n",
        "\n",
        "\n",
        "# Define early stopping\n",
        "early_stopping = EarlyStopping(monitor=\"val_loss\", patience=5)\n",
        "\n",
        "# Train the model with early stopping\n",
        "model.fit(x=[vectors, financial_data.values], y=y_new, epochs=20,\n",
        "          validation_split=0.2,batch_size = 32, callbacks=[early_stopping])\n"
      ]
    },
    {
      "cell_type": "code",
      "execution_count": null,
      "metadata": {
        "id": "VyUtDdqR0waL"
      },
      "outputs": [],
      "source": [
        "# Financial variables (example)\n",
        "financial_data_2 = X_test[[\"Adj Close\",\"Volume\"]]\n",
        "\n",
        "# Combine tokenized data and financial variables\n",
        "combined_data_2 = np.concatenate((test_Emb, financial_data_2.values), axis=1)"
      ]
    },
    {
      "cell_type": "code",
      "execution_count": null,
      "metadata": {
        "colab": {
          "base_uri": "https://localhost:8080/"
        },
        "id": "o0E3d67N11Cp",
        "outputId": "971d5cd1-0a5a-43d2-db5b-3c9b0c72840e"
      },
      "outputs": [
        {
          "output_type": "stream",
          "name": "stdout",
          "text": [
            "4/4 [==============================] - 3s 133ms/step\n"
          ]
        }
      ],
      "source": [
        "# Make predictions on test data\n",
        "predictions = model.predict(x=[test_Emb, financial_data_2.values])\n",
        "\n",
        "# Assuming you have one-hot encoded labels, you can get the predicted class labels by using argmax\n",
        "predicted_labels = np.argmax(predictions, axis=1)"
      ]
    },
    {
      "cell_type": "code",
      "execution_count": null,
      "metadata": {
        "colab": {
          "base_uri": "https://localhost:8080/"
        },
        "id": "HQWhl3D52grl",
        "outputId": "80b77f99-2020-40e9-c27c-7f279998d410"
      },
      "outputs": [
        {
          "output_type": "stream",
          "name": "stdout",
          "text": [
            "Accuracy 0.609\n",
            "F1 0.0\n"
          ]
        }
      ],
      "source": [
        "pY = pd.DataFrame(predicted_labels,columns = [\"category\"], index = X_test.index)\n",
        "from sklearn.metrics import f1_score\n",
        "metrics(y_test, pY[:y_test.shape[0]].category)"
      ]
    },
    {
      "cell_type": "code",
      "source": [
        "pY = pd.DataFrame(predicted_labels,columns = [\"category\"], index = X_test.index)\n",
        "from sklearn.metrics import f1_score\n",
        "metrics(y_test, pY[:y_test.shape[0]].category)"
      ],
      "metadata": {
        "colab": {
          "base_uri": "https://localhost:8080/"
        },
        "id": "-Ft6LnkI9bPn",
        "outputId": "a1dc493c-2499-4147-b94a-fc387fe6c51c"
      },
      "execution_count": null,
      "outputs": [
        {
          "output_type": "stream",
          "name": "stdout",
          "text": [
            "Accuracy 0.391\n",
            "F1 0.562\n"
          ]
        }
      ]
    },
    {
      "cell_type": "code",
      "source": [
        "pY = pd.DataFrame(predicted_labels,columns = [\"category\"], index = X_test.index)\n",
        "from sklearn.metrics import f1_score\n",
        "metrics(y_test, pY[:y_test.shape[0]].category)"
      ],
      "metadata": {
        "colab": {
          "base_uri": "https://localhost:8080/"
        },
        "id": "TIq2HrXa9TTm",
        "outputId": "fa534e16-dc05-4064-f977-4c8c4b4e629e"
      },
      "execution_count": null,
      "outputs": [
        {
          "output_type": "stream",
          "name": "stdout",
          "text": [
            "Accuracy 0.443\n",
            "F1 0.579\n"
          ]
        }
      ]
    },
    {
      "cell_type": "code",
      "execution_count": null,
      "metadata": {
        "colab": {
          "base_uri": "https://localhost:8080/"
        },
        "id": "788czQQnbN8t",
        "outputId": "66aedbb6-c8b2-4e69-de8b-b9301e9a5714"
      },
      "outputs": [
        {
          "name": "stdout",
          "output_type": "stream",
          "text": [
            "fukk text\n",
            "Accuracy 0.372\n",
            "F1 0.542\n"
          ]
        }
      ],
      "source": [
        "print(\"fukk text\")\n",
        "pY = pd.DataFrame(predicted_labels,columns = [\"category\"], index = X_test.index)\n",
        "from sklearn.metrics import f1_score\n",
        "metrics(y_test, pY[:y_test.shape[0]].category)"
      ]
    },
    {
      "cell_type": "code",
      "execution_count": null,
      "metadata": {
        "id": "LZRVT-3ac85G",
        "colab": {
          "base_uri": "https://localhost:8080/"
        },
        "outputId": "70860c4e-7b47-4d49-dd32-c638d97b1871"
      },
      "outputs": [
        {
          "output_type": "stream",
          "name": "stdout",
          "text": [
            "Epoch 1/15\n",
            "12/12 [==============================] - 15s 906ms/step - loss: 1533231.6250 - val_loss: 1759452.8750\n",
            "Epoch 2/15\n",
            "12/12 [==============================] - 8s 713ms/step - loss: 1321047.6250 - val_loss: 1508603.8750\n",
            "Epoch 3/15\n",
            "12/12 [==============================] - 8s 653ms/step - loss: 1119983.2500 - val_loss: 1247257.2500\n",
            "Epoch 4/15\n",
            "12/12 [==============================] - 8s 650ms/step - loss: 909939.3125 - val_loss: 981757.1250\n",
            "Epoch 5/15\n",
            "12/12 [==============================] - 8s 642ms/step - loss: 697903.8125 - val_loss: 726317.1875\n",
            "Epoch 6/15\n",
            "12/12 [==============================] - 8s 623ms/step - loss: 493884.8438 - val_loss: 471679.0938\n",
            "Epoch 7/15\n",
            "12/12 [==============================] - 7s 622ms/step - loss: 288764.1250 - val_loss: 218230.9531\n",
            "Epoch 8/15\n",
            "12/12 [==============================] - 7s 616ms/step - loss: 87081.5625 - val_loss: 25767.7617\n",
            "Epoch 9/15\n",
            "12/12 [==============================] - 10s 813ms/step - loss: 47162.8555 - val_loss: 26496.7559\n",
            "Epoch 10/15\n",
            "12/12 [==============================] - 7s 606ms/step - loss: 12500.5977 - val_loss: 2374.1934\n",
            "Epoch 11/15\n",
            "12/12 [==============================] - 7s 596ms/step - loss: 4882.6089 - val_loss: 866.6551\n",
            "Epoch 12/15\n",
            "12/12 [==============================] - 8s 698ms/step - loss: 1959.4945 - val_loss: 948.8428\n",
            "Epoch 13/15\n",
            "12/12 [==============================] - 7s 595ms/step - loss: 694.3683 - val_loss: 1242.0475\n",
            "Epoch 14/15\n",
            "12/12 [==============================] - 7s 612ms/step - loss: 1165.2092 - val_loss: 683.3117\n",
            "Epoch 15/15\n",
            "12/12 [==============================] - 7s 618ms/step - loss: 2373.2178 - val_loss: 9196.8740\n"
          ]
        },
        {
          "output_type": "execute_result",
          "data": {
            "text/plain": [
              "<keras.callbacks.History at 0x7fbc71a43e80>"
            ]
          },
          "metadata": {},
          "execution_count": 82
        }
      ],
      "source": [
        "import numpy as np\n",
        "import pandas as pd\n",
        "import tensorflow as tf\n",
        "from tensorflow.keras.preprocessing.sequence import pad_sequences\n",
        "from tensorflow.keras.layers import Embedding, GRU, Dense, Concatenate, Dropout\n",
        "from tensorflow.keras.models import Model\n",
        "from tensorflow.keras.callbacks import EarlyStopping\n",
        "\n",
        "\n",
        "\n",
        "\n",
        "tokenizer = Tokenizer(num_words= 50000, filters= spec_chars, lower=True)\n",
        "tokenizer.fit_on_texts(X_train.Speech.values)\n",
        "word_index = tokenizer.word_index\n",
        "\n",
        "# Tokenize text data\n",
        "vectors = tokenizer.texts_to_sequences(X_train.Speech.values)\n",
        "vectors = pad_sequences(vectors, maxlen=5000)\n",
        "#test data \n",
        "test_Emb = tokenizer.texts_to_sequences(X_test.Speech.values)\n",
        "test_Emb = tf.keras.utils.pad_sequences(test_Emb, maxlen= 5000)\n",
        "\n",
        "\n",
        "# Financial variables (example)\n",
        "financial_data = X_train[[\"Adj Close\",\"Volume\"]]\n",
        "\n",
        "# Combine tokenized data and financial variables\n",
        "combined_data = np.concatenate((vectors, financial_data.values), axis=1)\n",
        "\n",
        "# Define the model architecture\n",
        "embedding_dim = 256\n",
        "gru_units = 256\n",
        "\n",
        "input_text = tf.keras.Input(shape=(5000,))\n",
        "embedding = Embedding(input_dim=50000, output_dim=embedding_dim)(input_text)\n",
        "gru = GRU(units=gru_units, dropout=0.2, return_sequences=True)(embedding)\n",
        "gru = GRU(units=gru_units, dropout=0.2)(gru)\n",
        "dense = Dense(units=128, activation='relu')(gru)\n",
        "dropout = Dropout(0.5)(dense)\n",
        "\n",
        "input_financial = tf.keras.Input(shape=(2,))\n",
        "concatenated = Concatenate()([dropout, input_financial])\n",
        "output = Dense(units=y_new.shape[1], activation='softmax')(concatenated)\n",
        "\n",
        "model = Model(inputs=[input_text, input_financial], outputs=output)\n",
        "\n",
        "# Compile the model\n",
        "model.compile(optimizer='adam', loss='categorical_crossentropy', metrics=[\"accuracy\"])\n",
        "\n",
        "# Define early stopping\n",
        "early_stopping = EarlyStopping(monitor='val_loss', patience = 5)\n",
        "\n",
        "# Train the model with early stopping\n",
        "model.fit(x=[vectors, financial_data.values], y=y_new, epochs=15, batch_size=32,\n",
        "          validation_split=0.2, callbacks=[early_stopping])\n"
      ]
    },
    {
      "cell_type": "code",
      "source": [
        "# Financial variables (example)\n",
        "financial_data_2 = X_test[[\"Adj Close\",\"Volume\"]]\n",
        "\n",
        "# Combine tokenized data and financial variables\n",
        "combined_data_2 = np.concatenate((test_Emb, financial_data_2.values), axis=1)"
      ],
      "metadata": {
        "id": "K2CmNqlo_Z41"
      },
      "execution_count": null,
      "outputs": []
    },
    {
      "cell_type": "code",
      "source": [
        "# Make predictions on test data\n",
        "predictions = model.predict(x=[test_Emb, financial_data_2.values])\n",
        "\n",
        "# Assuming you have one-hot encoded labels, you can get the predicted class labels by using argmax\n",
        "predicted_labels = np.argmax(predictions, axis=1)"
      ],
      "metadata": {
        "colab": {
          "base_uri": "https://localhost:8080/"
        },
        "id": "W3cV5SRt_bPk",
        "outputId": "f5d4f273-2801-493d-ac2a-164d27d62d8f"
      },
      "execution_count": null,
      "outputs": [
        {
          "output_type": "stream",
          "name": "stdout",
          "text": [
            "4/4 [==============================] - 1s 182ms/step\n"
          ]
        }
      ]
    },
    {
      "cell_type": "code",
      "source": [
        "pY = pd.DataFrame(predicted_labels,columns = [\"category\"], index = X_test.index)\n",
        "from sklearn.metrics import f1_score\n",
        "metrics(y_test, pY[:y_test.shape[0]].category)"
      ],
      "metadata": {
        "colab": {
          "base_uri": "https://localhost:8080/"
        },
        "id": "yM2X6-OP_eKA",
        "outputId": "ccf1e262-9b08-4af3-c6be-d3e0648ef3fe"
      },
      "execution_count": null,
      "outputs": [
        {
          "output_type": "stream",
          "name": "stdout",
          "text": [
            "Accuracy 0.609\n",
            "F1 0.0\n"
          ]
        }
      ]
    },
    {
      "cell_type": "code",
      "source": [
        "import numpy as np\n",
        "import pandas as pd\n",
        "import tensorflow as tf\n",
        "from tensorflow.keras.preprocessing.text import Tokenizer\n",
        "from tensorflow.keras.preprocessing.sequence import pad_sequences\n",
        "from tensorflow.keras.layers import Embedding, LSTM, Dense, Dropout\n",
        "from tensorflow.keras.models import Sequential\n",
        "from tensorflow.keras.optimizers import Adam\n",
        "from tensorflow.keras.callbacks import EarlyStopping\n",
        "from gensim.models import FastText\n",
        "\n",
        "# Tokenize the augmented texts\n",
        "tokenizer = Tokenizer(num_words= 50000, filters= spec_chars, lower=True)\n",
        "tokenizer.fit_on_texts(X_train.Speech.values)\n",
        "sequences = tokenizer.texts_to_sequences(X_train.Speech.values)\n",
        "word_index = tokenizer.word_index\n",
        "# Pad sequences\n",
        "max_length = 1000  # Maximum sequence length\n",
        "padded_sequences = pad_sequences(sequences, maxlen=max_length)\n",
        "\n",
        "# Load pre-trained FastText word embeddings\n",
        "fasttext_model = FastText.load('fasttext_model.bin')  # Replace with your FastText model file\n",
        "embedding_dim = fasttext_model.vector_size\n",
        "\n",
        "embedding_matrix = np.zeros((len(word_index) + 1, embedding_dim))\n",
        "for word, i in word_index.items():\n",
        "    if word in fasttext_model:\n",
        "        embedding_matrix[i] = fasttext_model[word]\n",
        "\n",
        "# Create the model\n",
        "model = Sequential()\n",
        "model.add(Embedding(len(word_index) + 1, embedding_dim, weights=[embedding_matrix],\n",
        "                    input_length=max_length, trainable=False))\n",
        "model.add(LSTM(256, return_sequences=True))\n",
        "model.add(LSTM(256))\n",
        "model.add(Dense(256, activation='relu'))\n",
        "model.add(Dropout(0.5))\n",
        "model.add(Dense(units=y_new.shape[1], activation='sigmoid'))\n",
        "\n",
        "# Compile the model\n",
        "model.compile(loss='binary_crossentropy', optimizer=Adam(learning_rate=0.001), metrics=['accuracy'])\n",
        "\n",
        "# Print the model summary\n",
        "model.summary()\n",
        "\n",
        "# Set up early stopping\n",
        "early_stopping = EarlyStopping(monitor='val_loss', patience=3)\n",
        "\n",
        "# Train the model\n",
        "history = model.fit(padded_sequences, y_new, validation_split=0.2,\n",
        "                    epochs=10, batch_size=32, callbacks=[early_stopping])\n",
        "\n",
        "# Make predictions\n",
        "\n",
        "test_sequences = tokenizer.texts_to_sequences(X_test.Speech.values)\n",
        "test_padded_sequences = pad_sequences(test_sequences, maxlen=max_length)\n",
        "predictions = model.predict(test_padded_sequences)\n",
        "\n",
        "predicted_labels = np.argmax(predictions, axis=1)\n",
        "\n",
        "pY = pd.DataFrame(predicted_labels,columns = [\"category\"], index = X_test.index)\n",
        "metrics(y_test, pY[:y_test.shape[0]].category)"
      ],
      "metadata": {
        "id": "8HChipSzAW0b"
      },
      "execution_count": null,
      "outputs": []
    },
    {
      "cell_type": "code",
      "source": [
        "pip install fasttext"
      ],
      "metadata": {
        "colab": {
          "base_uri": "https://localhost:8080/"
        },
        "id": "iLRVEpatCZwB",
        "outputId": "dbd1d908-1a09-42a8-dc6e-3d55dd1d2e93"
      },
      "execution_count": null,
      "outputs": [
        {
          "output_type": "stream",
          "name": "stdout",
          "text": [
            "Looking in indexes: https://pypi.org/simple, https://us-python.pkg.dev/colab-wheels/public/simple/\n",
            "Collecting fasttext\n",
            "  Downloading fasttext-0.9.2.tar.gz (68 kB)\n",
            "\u001b[2K     \u001b[90m━━━━━━━━━━━━━━━━━━━━━━━━━━━━━━━━━━━━━━━━\u001b[0m \u001b[32m68.8/68.8 kB\u001b[0m \u001b[31m6.9 MB/s\u001b[0m eta \u001b[36m0:00:00\u001b[0m\n",
            "\u001b[?25h  Preparing metadata (setup.py) ... \u001b[?25l\u001b[?25hdone\n",
            "Collecting pybind11>=2.2 (from fasttext)\n",
            "  Using cached pybind11-2.10.4-py3-none-any.whl (222 kB)\n",
            "Requirement already satisfied: setuptools>=0.7.0 in /usr/local/lib/python3.10/dist-packages (from fasttext) (67.7.2)\n",
            "Requirement already satisfied: numpy in /usr/local/lib/python3.10/dist-packages (from fasttext) (1.22.4)\n",
            "Building wheels for collected packages: fasttext\n",
            "  Building wheel for fasttext (setup.py) ... \u001b[?25l\u001b[?25hdone\n",
            "  Created wheel for fasttext: filename=fasttext-0.9.2-cp310-cp310-linux_x86_64.whl size=4393199 sha256=3778b8bf13d3aec3fe8bde0ee3113da7bcdb11304762c3f336d8e25735ce9170\n",
            "  Stored in directory: /root/.cache/pip/wheels/a5/13/75/f811c84a8ab36eedbaef977a6a58a98990e8e0f1967f98f394\n",
            "Successfully built fasttext\n",
            "Installing collected packages: pybind11, fasttext\n",
            "Successfully installed fasttext-0.9.2 pybind11-2.10.4\n"
          ]
        }
      ]
    },
    {
      "cell_type": "code",
      "source": [
        "import fasttext.util\n",
        "\n",
        "fasttext.util.download_model('en', if_exists='ignore')\n",
        "ft_en_model = fasttext.load_model('cc.en.300.bin')"
      ],
      "metadata": {
        "colab": {
          "base_uri": "https://localhost:8080/"
        },
        "id": "XW9hze5HCYLR",
        "outputId": "67569a28-a131-41dd-8009-6cf44bc810fd"
      },
      "execution_count": null,
      "outputs": [
        {
          "output_type": "stream",
          "name": "stderr",
          "text": [
            "Warning : `load_model` does not return WordVectorModel or SupervisedModel any more, but a `FastText` object which is very similar.\n"
          ]
        }
      ]
    },
    {
      "cell_type": "code",
      "source": [
        "df[\"Speech_2\"] = df.Speech.apply(lambda x: ft_en_model.get_sentence_vector(x))"
      ],
      "metadata": {
        "id": "36qvr81BI40R"
      },
      "execution_count": null,
      "outputs": []
    },
    {
      "cell_type": "code",
      "source": [],
      "metadata": {
        "colab": {
          "base_uri": "https://localhost:8080/"
        },
        "id": "JuUB7SUeO_E6",
        "outputId": "21be83f7-7f33-4e26-8b38-973912b93494"
      },
      "execution_count": null,
      "outputs": [
        {
          "output_type": "execute_result",
          "data": {
            "text/plain": [
              "array([-1.72587056e-02,  1.71720013e-02,  1.20060649e-02,  4.30931821e-02,\n",
              "       -1.63092948e-02,  2.05988009e-02,  1.46656958e-02, -9.88633558e-03,\n",
              "       -2.80478504e-03,  1.46624178e-03, -9.80364252e-03,  1.91522427e-02,\n",
              "       -2.89090560e-03,  5.91457449e-03, -6.92598551e-05, -7.18937675e-03,\n",
              "        1.86246391e-02,  6.04636641e-03, -2.81356648e-03,  9.67311300e-03,\n",
              "       -6.19378453e-03, -1.45357884e-02, -1.01124169e-02,  3.09263426e-03,\n",
              "       -1.02686714e-02, -1.80286113e-02, -7.40706106e-04, -3.47062072e-04,\n",
              "       -3.75448237e-03,  6.10523671e-02,  1.13530597e-02, -1.03147049e-02,\n",
              "        7.88414758e-03, -2.73852143e-02, -3.21102329e-03,  1.63604319e-02,\n",
              "       -1.21803824e-02,  8.97123106e-03, -6.25055609e-03,  3.66835599e-03,\n",
              "       -1.02892024e-02, -7.55419536e-03,  1.82965049e-03,  5.73860900e-03,\n",
              "       -2.84413937e-02,  6.16862578e-03, -2.80978368e-03, -1.91505998e-02,\n",
              "        6.09848928e-03,  2.09069327e-02,  1.69186126e-02,  9.12964810e-03,\n",
              "        2.46794824e-03, -4.08933545e-03, -1.10595245e-02,  1.13258604e-02,\n",
              "        1.51307592e-02, -4.20710631e-03, -4.63084690e-02,  7.50538253e-04,\n",
              "       -4.01710672e-03, -1.19177932e-02, -1.20609887e-02,  7.34819449e-04,\n",
              "        1.32078230e-02, -1.12471329e-02, -1.72878131e-02,  7.17589213e-03,\n",
              "        3.69915087e-03, -4.15141275e-03, -8.68638046e-03,  4.59227049e-05,\n",
              "        8.93231574e-03, -7.32687768e-03,  2.45063496e-03, -3.57089681e-03,\n",
              "       -1.19812852e-02,  2.95702219e-02,  2.79531348e-03, -1.98511407e-06,\n",
              "       -2.23683547e-02, -8.19326006e-03, -1.98430903e-02,  4.80280211e-03,\n",
              "        1.16251288e-02,  3.99251515e-03, -8.40449892e-03, -5.88324433e-03,\n",
              "        7.47943716e-03,  2.64794976e-02, -9.58882924e-03, -2.25331914e-03,\n",
              "        1.29117453e-02,  1.49686970e-02,  1.41450558e-02,  1.87539645e-02,\n",
              "        8.97413865e-03, -2.90375203e-03,  1.23234815e-03,  1.40093798e-02,\n",
              "        1.61373671e-02, -1.37011157e-02,  7.32788024e-03, -8.46876111e-03,\n",
              "        1.47034379e-03, -1.72097776e-02, -3.66657972e-03, -1.30014084e-02,\n",
              "        6.15599519e-03, -2.81356904e-03,  1.21594220e-02, -4.81357099e-03,\n",
              "        3.67057812e-03,  1.22622540e-02, -1.52000142e-02, -2.71985214e-02,\n",
              "        6.23741746e-03, -7.87566323e-03,  1.25417942e-02, -1.75580811e-02,\n",
              "        6.28116634e-03, -4.86392807e-03,  6.93180412e-03, -4.62137070e-03,\n",
              "       -1.76983303e-03, -3.82976863e-03, -1.53367966e-02, -7.21508684e-03,\n",
              "       -4.04758519e-03,  1.67641472e-02, -4.58750874e-02,  6.53336151e-03,\n",
              "       -1.05643384e-02,  1.52465357e-02,  1.92331690e-02,  4.19477047e-03,\n",
              "        1.58608891e-02,  6.83426997e-03,  1.08226873e-02, -3.62009625e-03,\n",
              "       -2.39708703e-02,  3.94914765e-03,  4.73136641e-03, -4.08572923e-05,\n",
              "       -1.63289458e-02, -9.38048935e-04, -1.42663047e-01,  2.29908479e-03,\n",
              "        2.09414284e-04,  3.42612364e-03, -2.57020518e-02, -1.58050924e-03,\n",
              "        2.13225343e-04, -7.49149919e-03, -8.43406282e-03,  7.47609138e-03,\n",
              "        5.97634986e-02, -2.94275465e-03,  2.08198428e-02,  1.98204312e-02,\n",
              "        1.93623814e-03,  6.56976784e-03, -9.67341755e-03, -9.98096913e-03,\n",
              "       -3.29088327e-03,  6.96403068e-03, -1.96790881e-03,  5.31468214e-03,\n",
              "        1.45933172e-02, -1.82170402e-02, -1.01837972e-02, -7.87970610e-03,\n",
              "        6.57712948e-03, -9.99249052e-03, -1.28680123e-02,  1.47514762e-02,\n",
              "       -1.32162729e-02, -2.66290735e-03,  7.31985143e-04, -1.54341152e-02,\n",
              "       -5.76306367e-03,  1.48674091e-02, -1.99597944e-02, -3.74678266e-03,\n",
              "       -2.07141377e-02, -2.01910199e-03, -1.91583149e-02, -1.69459619e-02,\n",
              "        9.48561169e-03, -4.27682651e-03, -8.64872616e-03,  4.07104194e-03,\n",
              "        6.03086315e-03,  2.87395269e-02,  8.82160943e-03,  1.15689810e-03,\n",
              "       -6.13055797e-03, -6.16173632e-03,  5.58728492e-03,  3.91315967e-02,\n",
              "       -3.29684047e-03,  4.08023298e-02,  4.73139901e-03, -1.60076357e-02,\n",
              "       -9.87643376e-03, -6.68958900e-03,  3.58223170e-03, -1.09654050e-02,\n",
              "        1.84986077e-03,  1.69588607e-02,  1.54846460e-02, -3.22494307e-03,\n",
              "        4.47834004e-03, -1.58665050e-03,  6.35650428e-03,  8.70273355e-03,\n",
              "       -8.87252204e-03,  4.88402275e-03,  5.94133092e-03,  1.13138100e-02,\n",
              "        1.27120856e-02,  1.06911231e-02, -2.03286577e-02,  1.17167151e-02,\n",
              "        9.06563271e-03,  5.32557443e-03,  1.42350292e-03, -1.85604824e-03,\n",
              "        1.22243268e-02, -2.01665750e-03,  2.51122843e-03, -3.52891572e-02,\n",
              "       -1.22102099e-02,  1.74065363e-02, -1.20906439e-03, -5.99635486e-03,\n",
              "        1.24946553e-02,  3.46493139e-03,  4.21935273e-03, -4.93858522e-03,\n",
              "        5.37889828e-05,  1.01943975e-02, -2.65137311e-02, -7.22047463e-02,\n",
              "        1.49715751e-01,  2.70054606e-03,  2.34976392e-02, -8.18987098e-03,\n",
              "        3.10930330e-03, -5.35328686e-03,  1.48654999e-02, -6.12947112e-03,\n",
              "        2.07315553e-02, -1.73930731e-02,  1.59483415e-03,  1.13780722e-02,\n",
              "       -2.14919355e-02, -1.92688555e-02,  1.98139306e-02, -1.13033624e-02,\n",
              "       -1.17040621e-02,  1.49825559e-04, -2.45271530e-02,  5.51788695e-03,\n",
              "       -2.58171782e-02, -4.43191355e-04,  1.33165661e-02, -2.77495687e-03,\n",
              "       -2.72839610e-03,  1.24066405e-03, -9.34070162e-03, -7.08171120e-03,\n",
              "       -1.23125389e-02, -1.37125747e-02,  8.23292788e-03, -2.21072994e-02,\n",
              "       -1.18047222e-02,  1.79536792e-03, -1.59832463e-02,  1.80264264e-02,\n",
              "       -4.38514398e-03, -1.14567494e-02, -5.94756268e-02,  1.71598047e-02,\n",
              "       -1.45960143e-02, -1.07922954e-02,  1.51787570e-03, -2.22935881e-02,\n",
              "       -3.12190340e-03, -9.49728582e-03,  1.44603187e-02,  4.85134963e-03,\n",
              "       -2.59565022e-02,  3.50428629e-03,  4.07056278e-03,  3.26881884e-03,\n",
              "       -6.55278517e-03,  7.38923028e-02,  3.29755223e-03,  1.88247929e-03],\n",
              "      dtype=float32)"
            ]
          },
          "metadata": {},
          "execution_count": 25
        }
      ]
    }
  ],
  "metadata": {
    "accelerator": "GPU",
    "colab": {
      "provenance": [],
      "toc_visible": true,
      "collapsed_sections": [
        "csXqjSiNynQA"
      ]
    },
    "gpuClass": "standard",
    "kernelspec": {
      "display_name": "Python 3",
      "name": "python3"
    },
    "language_info": {
      "name": "python"
    },
    "widgets": {
      "application/vnd.jupyter.widget-state+json": {
        "0167a8521f29439f85bede2d12d09646": {
          "model_module": "@jupyter-widgets/controls",
          "model_module_version": "1.5.0",
          "model_name": "DescriptionStyleModel",
          "state": {
            "_model_module": "@jupyter-widgets/controls",
            "_model_module_version": "1.5.0",
            "_model_name": "DescriptionStyleModel",
            "_view_count": null,
            "_view_module": "@jupyter-widgets/base",
            "_view_module_version": "1.2.0",
            "_view_name": "StyleView",
            "description_width": ""
          }
        },
        "048966ef263f4840bb081159fbabad73": {
          "model_module": "@jupyter-widgets/base",
          "model_module_version": "1.2.0",
          "model_name": "LayoutModel",
          "state": {
            "_model_module": "@jupyter-widgets/base",
            "_model_module_version": "1.2.0",
            "_model_name": "LayoutModel",
            "_view_count": null,
            "_view_module": "@jupyter-widgets/base",
            "_view_module_version": "1.2.0",
            "_view_name": "LayoutView",
            "align_content": null,
            "align_items": null,
            "align_self": null,
            "border": null,
            "bottom": null,
            "display": null,
            "flex": null,
            "flex_flow": null,
            "grid_area": null,
            "grid_auto_columns": null,
            "grid_auto_flow": null,
            "grid_auto_rows": null,
            "grid_column": null,
            "grid_gap": null,
            "grid_row": null,
            "grid_template_areas": null,
            "grid_template_columns": null,
            "grid_template_rows": null,
            "height": null,
            "justify_content": null,
            "justify_items": null,
            "left": null,
            "margin": null,
            "max_height": null,
            "max_width": null,
            "min_height": null,
            "min_width": null,
            "object_fit": null,
            "object_position": null,
            "order": null,
            "overflow": null,
            "overflow_x": null,
            "overflow_y": null,
            "padding": null,
            "right": null,
            "top": null,
            "visibility": null,
            "width": null
          }
        },
        "0588073aa0b0494784b5c77ef9d24a93": {
          "model_module": "@jupyter-widgets/controls",
          "model_module_version": "1.5.0",
          "model_name": "FloatProgressModel",
          "state": {
            "_dom_classes": [],
            "_model_module": "@jupyter-widgets/controls",
            "_model_module_version": "1.5.0",
            "_model_name": "FloatProgressModel",
            "_view_count": null,
            "_view_module": "@jupyter-widgets/controls",
            "_view_module_version": "1.5.0",
            "_view_name": "ProgressView",
            "bar_style": "success",
            "description": "",
            "description_tooltip": null,
            "layout": "IPY_MODEL_5664bc76fa3443a592be868719ac8608",
            "max": 1222317369,
            "min": 0,
            "orientation": "horizontal",
            "style": "IPY_MODEL_8b446003cf1d4aec9bbbadeb48d79931",
            "value": 1222317369
          }
        },
        "0e2cc41dec934b6bb0bfb23ffd829f44": {
          "model_module": "@jupyter-widgets/controls",
          "model_module_version": "1.5.0",
          "model_name": "FloatProgressModel",
          "state": {
            "_dom_classes": [],
            "_model_module": "@jupyter-widgets/controls",
            "_model_module_version": "1.5.0",
            "_model_name": "FloatProgressModel",
            "_view_count": null,
            "_view_module": "@jupyter-widgets/controls",
            "_view_module_version": "1.5.0",
            "_view_name": "ProgressView",
            "bar_style": "success",
            "description": "",
            "description_tooltip": null,
            "layout": "IPY_MODEL_ec8a33690edb48c3aaebc46848238517",
            "max": 533,
            "min": 0,
            "orientation": "horizontal",
            "style": "IPY_MODEL_aacfe59e46b9465d96306cdf433a5a33",
            "value": 533
          }
        },
        "10d7a0c727494ad1969eb7300cf6bb92": {
          "model_module": "@jupyter-widgets/base",
          "model_module_version": "1.2.0",
          "model_name": "LayoutModel",
          "state": {
            "_model_module": "@jupyter-widgets/base",
            "_model_module_version": "1.2.0",
            "_model_name": "LayoutModel",
            "_view_count": null,
            "_view_module": "@jupyter-widgets/base",
            "_view_module_version": "1.2.0",
            "_view_name": "LayoutView",
            "align_content": null,
            "align_items": null,
            "align_self": null,
            "border": null,
            "bottom": null,
            "display": null,
            "flex": null,
            "flex_flow": null,
            "grid_area": null,
            "grid_auto_columns": null,
            "grid_auto_flow": null,
            "grid_auto_rows": null,
            "grid_column": null,
            "grid_gap": null,
            "grid_row": null,
            "grid_template_areas": null,
            "grid_template_columns": null,
            "grid_template_rows": null,
            "height": null,
            "justify_content": null,
            "justify_items": null,
            "left": null,
            "margin": null,
            "max_height": null,
            "max_width": null,
            "min_height": null,
            "min_width": null,
            "object_fit": null,
            "object_position": null,
            "order": null,
            "overflow": null,
            "overflow_x": null,
            "overflow_y": null,
            "padding": null,
            "right": null,
            "top": null,
            "visibility": null,
            "width": null
          }
        },
        "1635f8d0663b4e719d7dacb1a9f28a18": {
          "model_module": "@jupyter-widgets/base",
          "model_module_version": "1.2.0",
          "model_name": "LayoutModel",
          "state": {
            "_model_module": "@jupyter-widgets/base",
            "_model_module_version": "1.2.0",
            "_model_name": "LayoutModel",
            "_view_count": null,
            "_view_module": "@jupyter-widgets/base",
            "_view_module_version": "1.2.0",
            "_view_name": "LayoutView",
            "align_content": null,
            "align_items": null,
            "align_self": null,
            "border": null,
            "bottom": null,
            "display": null,
            "flex": null,
            "flex_flow": null,
            "grid_area": null,
            "grid_auto_columns": null,
            "grid_auto_flow": null,
            "grid_auto_rows": null,
            "grid_column": null,
            "grid_gap": null,
            "grid_row": null,
            "grid_template_areas": null,
            "grid_template_columns": null,
            "grid_template_rows": null,
            "height": null,
            "justify_content": null,
            "justify_items": null,
            "left": null,
            "margin": null,
            "max_height": null,
            "max_width": null,
            "min_height": null,
            "min_width": null,
            "object_fit": null,
            "object_position": null,
            "order": null,
            "overflow": null,
            "overflow_x": null,
            "overflow_y": null,
            "padding": null,
            "right": null,
            "top": null,
            "visibility": null,
            "width": null
          }
        },
        "17e5a633eb934445b9a4bf3394454b4b": {
          "model_module": "@jupyter-widgets/controls",
          "model_module_version": "1.5.0",
          "model_name": "HTMLModel",
          "state": {
            "_dom_classes": [],
            "_model_module": "@jupyter-widgets/controls",
            "_model_module_version": "1.5.0",
            "_model_name": "HTMLModel",
            "_view_count": null,
            "_view_module": "@jupyter-widgets/controls",
            "_view_module_version": "1.5.0",
            "_view_name": "HTMLView",
            "description": "",
            "description_tooltip": null,
            "layout": "IPY_MODEL_ac99ae210ac942cab2d2a79b57fd0deb",
            "placeholder": "​",
            "style": "IPY_MODEL_f4d1ecc7fab943e4b35fa77b35e523f4",
            "value": "Downloading (…)olve/main/vocab.json: 100%"
          }
        },
        "18e2dbc3146e45eb9237f314ae63934d": {
          "model_module": "@jupyter-widgets/controls",
          "model_module_version": "1.5.0",
          "model_name": "DescriptionStyleModel",
          "state": {
            "_model_module": "@jupyter-widgets/controls",
            "_model_module_version": "1.5.0",
            "_model_name": "DescriptionStyleModel",
            "_view_count": null,
            "_view_module": "@jupyter-widgets/base",
            "_view_module_version": "1.2.0",
            "_view_name": "StyleView",
            "description_width": ""
          }
        },
        "20a06c9e24064803a8da21bf1280bbfe": {
          "model_module": "@jupyter-widgets/controls",
          "model_module_version": "1.5.0",
          "model_name": "ProgressStyleModel",
          "state": {
            "_model_module": "@jupyter-widgets/controls",
            "_model_module_version": "1.5.0",
            "_model_name": "ProgressStyleModel",
            "_view_count": null,
            "_view_module": "@jupyter-widgets/base",
            "_view_module_version": "1.2.0",
            "_view_name": "StyleView",
            "bar_color": null,
            "description_width": ""
          }
        },
        "25270c7ebd9747b9b371b94425081f69": {
          "model_module": "@jupyter-widgets/base",
          "model_module_version": "1.2.0",
          "model_name": "LayoutModel",
          "state": {
            "_model_module": "@jupyter-widgets/base",
            "_model_module_version": "1.2.0",
            "_model_name": "LayoutModel",
            "_view_count": null,
            "_view_module": "@jupyter-widgets/base",
            "_view_module_version": "1.2.0",
            "_view_name": "LayoutView",
            "align_content": null,
            "align_items": null,
            "align_self": null,
            "border": null,
            "bottom": null,
            "display": null,
            "flex": null,
            "flex_flow": null,
            "grid_area": null,
            "grid_auto_columns": null,
            "grid_auto_flow": null,
            "grid_auto_rows": null,
            "grid_column": null,
            "grid_gap": null,
            "grid_row": null,
            "grid_template_areas": null,
            "grid_template_columns": null,
            "grid_template_rows": null,
            "height": null,
            "justify_content": null,
            "justify_items": null,
            "left": null,
            "margin": null,
            "max_height": null,
            "max_width": null,
            "min_height": null,
            "min_width": null,
            "object_fit": null,
            "object_position": null,
            "order": null,
            "overflow": null,
            "overflow_x": null,
            "overflow_y": null,
            "padding": null,
            "right": null,
            "top": null,
            "visibility": null,
            "width": null
          }
        },
        "2f36bd34b8ab4643abb7cb8c90e865b2": {
          "model_module": "@jupyter-widgets/controls",
          "model_module_version": "1.5.0",
          "model_name": "ProgressStyleModel",
          "state": {
            "_model_module": "@jupyter-widgets/controls",
            "_model_module_version": "1.5.0",
            "_model_name": "ProgressStyleModel",
            "_view_count": null,
            "_view_module": "@jupyter-widgets/base",
            "_view_module_version": "1.2.0",
            "_view_name": "StyleView",
            "bar_color": null,
            "description_width": ""
          }
        },
        "2f4fb41d9ee14e62b8e2790d4eab13e6": {
          "model_module": "@jupyter-widgets/controls",
          "model_module_version": "1.5.0",
          "model_name": "HTMLModel",
          "state": {
            "_dom_classes": [],
            "_model_module": "@jupyter-widgets/controls",
            "_model_module_version": "1.5.0",
            "_model_name": "HTMLModel",
            "_view_count": null,
            "_view_module": "@jupyter-widgets/controls",
            "_view_module_version": "1.5.0",
            "_view_name": "HTMLView",
            "description": "",
            "description_tooltip": null,
            "layout": "IPY_MODEL_aeecc5b4c70b4dc9b52fa54780ab29f4",
            "placeholder": "​",
            "style": "IPY_MODEL_ff01e073bb8646d6adc344a3b4e41736",
            "value": " 439M/439M [00:20&lt;00:00, 21.4MB/s]"
          }
        },
        "2f8b2fa019204b61bfd966793c40ca9c": {
          "model_module": "@jupyter-widgets/controls",
          "model_module_version": "1.5.0",
          "model_name": "HTMLModel",
          "state": {
            "_dom_classes": [],
            "_model_module": "@jupyter-widgets/controls",
            "_model_module_version": "1.5.0",
            "_model_name": "HTMLModel",
            "_view_count": null,
            "_view_module": "@jupyter-widgets/controls",
            "_view_module_version": "1.5.0",
            "_view_name": "HTMLView",
            "description": "",
            "description_tooltip": null,
            "layout": "IPY_MODEL_4cf230bcd8c84e488afdd75247d38e31",
            "placeholder": "​",
            "style": "IPY_MODEL_77515f63ad3c42129398c0315ce14b85",
            "value": " 226k/226k [00:00&lt;00:00, 659kB/s]"
          }
        },
        "3006d29063e1425a8b5c70b8890c47bd": {
          "model_module": "@jupyter-widgets/base",
          "model_module_version": "1.2.0",
          "model_name": "LayoutModel",
          "state": {
            "_model_module": "@jupyter-widgets/base",
            "_model_module_version": "1.2.0",
            "_model_name": "LayoutModel",
            "_view_count": null,
            "_view_module": "@jupyter-widgets/base",
            "_view_module_version": "1.2.0",
            "_view_name": "LayoutView",
            "align_content": null,
            "align_items": null,
            "align_self": null,
            "border": null,
            "bottom": null,
            "display": null,
            "flex": null,
            "flex_flow": null,
            "grid_area": null,
            "grid_auto_columns": null,
            "grid_auto_flow": null,
            "grid_auto_rows": null,
            "grid_column": null,
            "grid_gap": null,
            "grid_row": null,
            "grid_template_areas": null,
            "grid_template_columns": null,
            "grid_template_rows": null,
            "height": null,
            "justify_content": null,
            "justify_items": null,
            "left": null,
            "margin": null,
            "max_height": null,
            "max_width": null,
            "min_height": null,
            "min_width": null,
            "object_fit": null,
            "object_position": null,
            "order": null,
            "overflow": null,
            "overflow_x": null,
            "overflow_y": null,
            "padding": null,
            "right": null,
            "top": null,
            "visibility": null,
            "width": null
          }
        },
        "309a995ae2764096a722c0ed40d0bb8b": {
          "model_module": "@jupyter-widgets/base",
          "model_module_version": "1.2.0",
          "model_name": "LayoutModel",
          "state": {
            "_model_module": "@jupyter-widgets/base",
            "_model_module_version": "1.2.0",
            "_model_name": "LayoutModel",
            "_view_count": null,
            "_view_module": "@jupyter-widgets/base",
            "_view_module_version": "1.2.0",
            "_view_name": "LayoutView",
            "align_content": null,
            "align_items": null,
            "align_self": null,
            "border": null,
            "bottom": null,
            "display": null,
            "flex": null,
            "flex_flow": null,
            "grid_area": null,
            "grid_auto_columns": null,
            "grid_auto_flow": null,
            "grid_auto_rows": null,
            "grid_column": null,
            "grid_gap": null,
            "grid_row": null,
            "grid_template_areas": null,
            "grid_template_columns": null,
            "grid_template_rows": null,
            "height": null,
            "justify_content": null,
            "justify_items": null,
            "left": null,
            "margin": null,
            "max_height": null,
            "max_width": null,
            "min_height": null,
            "min_width": null,
            "object_fit": null,
            "object_position": null,
            "order": null,
            "overflow": null,
            "overflow_x": null,
            "overflow_y": null,
            "padding": null,
            "right": null,
            "top": null,
            "visibility": null,
            "width": null
          }
        },
        "3367657bfe3c4c678fd445595356f537": {
          "model_module": "@jupyter-widgets/base",
          "model_module_version": "1.2.0",
          "model_name": "LayoutModel",
          "state": {
            "_model_module": "@jupyter-widgets/base",
            "_model_module_version": "1.2.0",
            "_model_name": "LayoutModel",
            "_view_count": null,
            "_view_module": "@jupyter-widgets/base",
            "_view_module_version": "1.2.0",
            "_view_name": "LayoutView",
            "align_content": null,
            "align_items": null,
            "align_self": null,
            "border": null,
            "bottom": null,
            "display": null,
            "flex": null,
            "flex_flow": null,
            "grid_area": null,
            "grid_auto_columns": null,
            "grid_auto_flow": null,
            "grid_auto_rows": null,
            "grid_column": null,
            "grid_gap": null,
            "grid_row": null,
            "grid_template_areas": null,
            "grid_template_columns": null,
            "grid_template_rows": null,
            "height": null,
            "justify_content": null,
            "justify_items": null,
            "left": null,
            "margin": null,
            "max_height": null,
            "max_width": null,
            "min_height": null,
            "min_width": null,
            "object_fit": null,
            "object_position": null,
            "order": null,
            "overflow": null,
            "overflow_x": null,
            "overflow_y": null,
            "padding": null,
            "right": null,
            "top": null,
            "visibility": null,
            "width": null
          }
        },
        "3576098927af4488800d33f5f92bbf96": {
          "model_module": "@jupyter-widgets/controls",
          "model_module_version": "1.5.0",
          "model_name": "FloatProgressModel",
          "state": {
            "_dom_classes": [],
            "_model_module": "@jupyter-widgets/controls",
            "_model_module_version": "1.5.0",
            "_model_name": "FloatProgressModel",
            "_view_count": null,
            "_view_module": "@jupyter-widgets/controls",
            "_view_module_version": "1.5.0",
            "_view_name": "ProgressView",
            "bar_style": "success",
            "description": "",
            "description_tooltip": null,
            "layout": "IPY_MODEL_5a4d74273f104920926fd44d54034e12",
            "max": 456318,
            "min": 0,
            "orientation": "horizontal",
            "style": "IPY_MODEL_88e2661ae4534505bf9f04016d4f65ce",
            "value": 456318
          }
        },
        "35e567c82ef14e9cb96d0809c8198d40": {
          "model_module": "@jupyter-widgets/base",
          "model_module_version": "1.2.0",
          "model_name": "LayoutModel",
          "state": {
            "_model_module": "@jupyter-widgets/base",
            "_model_module_version": "1.2.0",
            "_model_name": "LayoutModel",
            "_view_count": null,
            "_view_module": "@jupyter-widgets/base",
            "_view_module_version": "1.2.0",
            "_view_name": "LayoutView",
            "align_content": null,
            "align_items": null,
            "align_self": null,
            "border": null,
            "bottom": null,
            "display": null,
            "flex": null,
            "flex_flow": null,
            "grid_area": null,
            "grid_auto_columns": null,
            "grid_auto_flow": null,
            "grid_auto_rows": null,
            "grid_column": null,
            "grid_gap": null,
            "grid_row": null,
            "grid_template_areas": null,
            "grid_template_columns": null,
            "grid_template_rows": null,
            "height": null,
            "justify_content": null,
            "justify_items": null,
            "left": null,
            "margin": null,
            "max_height": null,
            "max_width": null,
            "min_height": null,
            "min_width": null,
            "object_fit": null,
            "object_position": null,
            "order": null,
            "overflow": null,
            "overflow_x": null,
            "overflow_y": null,
            "padding": null,
            "right": null,
            "top": null,
            "visibility": null,
            "width": null
          }
        },
        "363108096d7e44ab9a259bbef4d1388b": {
          "model_module": "@jupyter-widgets/base",
          "model_module_version": "1.2.0",
          "model_name": "LayoutModel",
          "state": {
            "_model_module": "@jupyter-widgets/base",
            "_model_module_version": "1.2.0",
            "_model_name": "LayoutModel",
            "_view_count": null,
            "_view_module": "@jupyter-widgets/base",
            "_view_module_version": "1.2.0",
            "_view_name": "LayoutView",
            "align_content": null,
            "align_items": null,
            "align_self": null,
            "border": null,
            "bottom": null,
            "display": null,
            "flex": null,
            "flex_flow": null,
            "grid_area": null,
            "grid_auto_columns": null,
            "grid_auto_flow": null,
            "grid_auto_rows": null,
            "grid_column": null,
            "grid_gap": null,
            "grid_row": null,
            "grid_template_areas": null,
            "grid_template_columns": null,
            "grid_template_rows": null,
            "height": null,
            "justify_content": null,
            "justify_items": null,
            "left": null,
            "margin": null,
            "max_height": null,
            "max_width": null,
            "min_height": null,
            "min_width": null,
            "object_fit": null,
            "object_position": null,
            "order": null,
            "overflow": null,
            "overflow_x": null,
            "overflow_y": null,
            "padding": null,
            "right": null,
            "top": null,
            "visibility": null,
            "width": null
          }
        },
        "398f82789e814018a59c62949d495fc9": {
          "model_module": "@jupyter-widgets/controls",
          "model_module_version": "1.5.0",
          "model_name": "ProgressStyleModel",
          "state": {
            "_model_module": "@jupyter-widgets/controls",
            "_model_module_version": "1.5.0",
            "_model_name": "ProgressStyleModel",
            "_view_count": null,
            "_view_module": "@jupyter-widgets/base",
            "_view_module_version": "1.2.0",
            "_view_name": "StyleView",
            "bar_color": null,
            "description_width": ""
          }
        },
        "39b1d8c9c72c4a4aa35ce993b46f64a6": {
          "model_module": "@jupyter-widgets/base",
          "model_module_version": "1.2.0",
          "model_name": "LayoutModel",
          "state": {
            "_model_module": "@jupyter-widgets/base",
            "_model_module_version": "1.2.0",
            "_model_name": "LayoutModel",
            "_view_count": null,
            "_view_module": "@jupyter-widgets/base",
            "_view_module_version": "1.2.0",
            "_view_name": "LayoutView",
            "align_content": null,
            "align_items": null,
            "align_self": null,
            "border": null,
            "bottom": null,
            "display": null,
            "flex": null,
            "flex_flow": null,
            "grid_area": null,
            "grid_auto_columns": null,
            "grid_auto_flow": null,
            "grid_auto_rows": null,
            "grid_column": null,
            "grid_gap": null,
            "grid_row": null,
            "grid_template_areas": null,
            "grid_template_columns": null,
            "grid_template_rows": null,
            "height": null,
            "justify_content": null,
            "justify_items": null,
            "left": null,
            "margin": null,
            "max_height": null,
            "max_width": null,
            "min_height": null,
            "min_width": null,
            "object_fit": null,
            "object_position": null,
            "order": null,
            "overflow": null,
            "overflow_x": null,
            "overflow_y": null,
            "padding": null,
            "right": null,
            "top": null,
            "visibility": null,
            "width": null
          }
        },
        "3bcab13044164ca2b679f8b8f1ffbf61": {
          "model_module": "@jupyter-widgets/controls",
          "model_module_version": "1.5.0",
          "model_name": "HTMLModel",
          "state": {
            "_dom_classes": [],
            "_model_module": "@jupyter-widgets/controls",
            "_model_module_version": "1.5.0",
            "_model_name": "HTMLModel",
            "_view_count": null,
            "_view_module": "@jupyter-widgets/controls",
            "_view_module_version": "1.5.0",
            "_view_name": "HTMLView",
            "description": "",
            "description_tooltip": null,
            "layout": "IPY_MODEL_3006d29063e1425a8b5c70b8890c47bd",
            "placeholder": "​",
            "style": "IPY_MODEL_e45edd65c3bb484a808876754402f7ad",
            "value": "Downloading pytorch_model.bin: 100%"
          }
        },
        "42222c32be13483c8b9a04dd1497b8bc": {
          "model_module": "@jupyter-widgets/controls",
          "model_module_version": "1.5.0",
          "model_name": "HTMLModel",
          "state": {
            "_dom_classes": [],
            "_model_module": "@jupyter-widgets/controls",
            "_model_module_version": "1.5.0",
            "_model_name": "HTMLModel",
            "_view_count": null,
            "_view_module": "@jupyter-widgets/controls",
            "_view_module_version": "1.5.0",
            "_view_name": "HTMLView",
            "description": "",
            "description_tooltip": null,
            "layout": "IPY_MODEL_25270c7ebd9747b9b371b94425081f69",
            "placeholder": "​",
            "style": "IPY_MODEL_82d3bf37786940238fe3bb4f95c64ec1",
            "value": " 1.80k/1.80k [00:00&lt;00:00, 117kB/s]"
          }
        },
        "4232a5ee336b42daab4bec22b69fd38a": {
          "model_module": "@jupyter-widgets/controls",
          "model_module_version": "1.5.0",
          "model_name": "HTMLModel",
          "state": {
            "_dom_classes": [],
            "_model_module": "@jupyter-widgets/controls",
            "_model_module_version": "1.5.0",
            "_model_name": "HTMLModel",
            "_view_count": null,
            "_view_module": "@jupyter-widgets/controls",
            "_view_module_version": "1.5.0",
            "_view_name": "HTMLView",
            "description": "",
            "description_tooltip": null,
            "layout": "IPY_MODEL_ccbe201afd214fe384027b4c463f96fc",
            "placeholder": "​",
            "style": "IPY_MODEL_0167a8521f29439f85bede2d12d09646",
            "value": " 456k/456k [00:00&lt;00:00, 886kB/s]"
          }
        },
        "43de4ff066194c509dc1a8a8a23d2f45": {
          "model_module": "@jupyter-widgets/base",
          "model_module_version": "1.2.0",
          "model_name": "LayoutModel",
          "state": {
            "_model_module": "@jupyter-widgets/base",
            "_model_module_version": "1.2.0",
            "_model_name": "LayoutModel",
            "_view_count": null,
            "_view_module": "@jupyter-widgets/base",
            "_view_module_version": "1.2.0",
            "_view_name": "LayoutView",
            "align_content": null,
            "align_items": null,
            "align_self": null,
            "border": null,
            "bottom": null,
            "display": null,
            "flex": null,
            "flex_flow": null,
            "grid_area": null,
            "grid_auto_columns": null,
            "grid_auto_flow": null,
            "grid_auto_rows": null,
            "grid_column": null,
            "grid_gap": null,
            "grid_row": null,
            "grid_template_areas": null,
            "grid_template_columns": null,
            "grid_template_rows": null,
            "height": null,
            "justify_content": null,
            "justify_items": null,
            "left": null,
            "margin": null,
            "max_height": null,
            "max_width": null,
            "min_height": null,
            "min_width": null,
            "object_fit": null,
            "object_position": null,
            "order": null,
            "overflow": null,
            "overflow_x": null,
            "overflow_y": null,
            "padding": null,
            "right": null,
            "top": null,
            "visibility": null,
            "width": null
          }
        },
        "4675b0e965124f5e92f25ecd1db48ad5": {
          "model_module": "@jupyter-widgets/base",
          "model_module_version": "1.2.0",
          "model_name": "LayoutModel",
          "state": {
            "_model_module": "@jupyter-widgets/base",
            "_model_module_version": "1.2.0",
            "_model_name": "LayoutModel",
            "_view_count": null,
            "_view_module": "@jupyter-widgets/base",
            "_view_module_version": "1.2.0",
            "_view_name": "LayoutView",
            "align_content": null,
            "align_items": null,
            "align_self": null,
            "border": null,
            "bottom": null,
            "display": null,
            "flex": null,
            "flex_flow": null,
            "grid_area": null,
            "grid_auto_columns": null,
            "grid_auto_flow": null,
            "grid_auto_rows": null,
            "grid_column": null,
            "grid_gap": null,
            "grid_row": null,
            "grid_template_areas": null,
            "grid_template_columns": null,
            "grid_template_rows": null,
            "height": null,
            "justify_content": null,
            "justify_items": null,
            "left": null,
            "margin": null,
            "max_height": null,
            "max_width": null,
            "min_height": null,
            "min_width": null,
            "object_fit": null,
            "object_position": null,
            "order": null,
            "overflow": null,
            "overflow_x": null,
            "overflow_y": null,
            "padding": null,
            "right": null,
            "top": null,
            "visibility": null,
            "width": null
          }
        },
        "4838eb2afea74f0fb2a2e97bdd23b43f": {
          "model_module": "@jupyter-widgets/base",
          "model_module_version": "1.2.0",
          "model_name": "LayoutModel",
          "state": {
            "_model_module": "@jupyter-widgets/base",
            "_model_module_version": "1.2.0",
            "_model_name": "LayoutModel",
            "_view_count": null,
            "_view_module": "@jupyter-widgets/base",
            "_view_module_version": "1.2.0",
            "_view_name": "LayoutView",
            "align_content": null,
            "align_items": null,
            "align_self": null,
            "border": null,
            "bottom": null,
            "display": null,
            "flex": null,
            "flex_flow": null,
            "grid_area": null,
            "grid_auto_columns": null,
            "grid_auto_flow": null,
            "grid_auto_rows": null,
            "grid_column": null,
            "grid_gap": null,
            "grid_row": null,
            "grid_template_areas": null,
            "grid_template_columns": null,
            "grid_template_rows": null,
            "height": null,
            "justify_content": null,
            "justify_items": null,
            "left": null,
            "margin": null,
            "max_height": null,
            "max_width": null,
            "min_height": null,
            "min_width": null,
            "object_fit": null,
            "object_position": null,
            "order": null,
            "overflow": null,
            "overflow_x": null,
            "overflow_y": null,
            "padding": null,
            "right": null,
            "top": null,
            "visibility": null,
            "width": null
          }
        },
        "4cf230bcd8c84e488afdd75247d38e31": {
          "model_module": "@jupyter-widgets/base",
          "model_module_version": "1.2.0",
          "model_name": "LayoutModel",
          "state": {
            "_model_module": "@jupyter-widgets/base",
            "_model_module_version": "1.2.0",
            "_model_name": "LayoutModel",
            "_view_count": null,
            "_view_module": "@jupyter-widgets/base",
            "_view_module_version": "1.2.0",
            "_view_name": "LayoutView",
            "align_content": null,
            "align_items": null,
            "align_self": null,
            "border": null,
            "bottom": null,
            "display": null,
            "flex": null,
            "flex_flow": null,
            "grid_area": null,
            "grid_auto_columns": null,
            "grid_auto_flow": null,
            "grid_auto_rows": null,
            "grid_column": null,
            "grid_gap": null,
            "grid_row": null,
            "grid_template_areas": null,
            "grid_template_columns": null,
            "grid_template_rows": null,
            "height": null,
            "justify_content": null,
            "justify_items": null,
            "left": null,
            "margin": null,
            "max_height": null,
            "max_width": null,
            "min_height": null,
            "min_width": null,
            "object_fit": null,
            "object_position": null,
            "order": null,
            "overflow": null,
            "overflow_x": null,
            "overflow_y": null,
            "padding": null,
            "right": null,
            "top": null,
            "visibility": null,
            "width": null
          }
        },
        "4dd16845e314499aa9f9d85da4de926e": {
          "model_module": "@jupyter-widgets/controls",
          "model_module_version": "1.5.0",
          "model_name": "HTMLModel",
          "state": {
            "_dom_classes": [],
            "_model_module": "@jupyter-widgets/controls",
            "_model_module_version": "1.5.0",
            "_model_name": "HTMLModel",
            "_view_count": null,
            "_view_module": "@jupyter-widgets/controls",
            "_view_module_version": "1.5.0",
            "_view_name": "HTMLView",
            "description": "",
            "description_tooltip": null,
            "layout": "IPY_MODEL_048966ef263f4840bb081159fbabad73",
            "placeholder": "​",
            "style": "IPY_MODEL_99c59619e75c40faa4a2b09c6bae25db",
            "value": " 533/533 [00:00&lt;00:00, 34.1kB/s]"
          }
        },
        "5055e8507f23426a93da0b89f337ad92": {
          "model_module": "@jupyter-widgets/base",
          "model_module_version": "1.2.0",
          "model_name": "LayoutModel",
          "state": {
            "_model_module": "@jupyter-widgets/base",
            "_model_module_version": "1.2.0",
            "_model_name": "LayoutModel",
            "_view_count": null,
            "_view_module": "@jupyter-widgets/base",
            "_view_module_version": "1.2.0",
            "_view_name": "LayoutView",
            "align_content": null,
            "align_items": null,
            "align_self": null,
            "border": null,
            "bottom": null,
            "display": null,
            "flex": null,
            "flex_flow": null,
            "grid_area": null,
            "grid_auto_columns": null,
            "grid_auto_flow": null,
            "grid_auto_rows": null,
            "grid_column": null,
            "grid_gap": null,
            "grid_row": null,
            "grid_template_areas": null,
            "grid_template_columns": null,
            "grid_template_rows": null,
            "height": null,
            "justify_content": null,
            "justify_items": null,
            "left": null,
            "margin": null,
            "max_height": null,
            "max_width": null,
            "min_height": null,
            "min_width": null,
            "object_fit": null,
            "object_position": null,
            "order": null,
            "overflow": null,
            "overflow_x": null,
            "overflow_y": null,
            "padding": null,
            "right": null,
            "top": null,
            "visibility": null,
            "width": null
          }
        },
        "53593a14aae84b8ab3013c576532b54f": {
          "model_module": "@jupyter-widgets/controls",
          "model_module_version": "1.5.0",
          "model_name": "HBoxModel",
          "state": {
            "_dom_classes": [],
            "_model_module": "@jupyter-widgets/controls",
            "_model_module_version": "1.5.0",
            "_model_name": "HBoxModel",
            "_view_count": null,
            "_view_module": "@jupyter-widgets/controls",
            "_view_module_version": "1.5.0",
            "_view_name": "HBoxView",
            "box_style": "",
            "children": [
              "IPY_MODEL_17e5a633eb934445b9a4bf3394454b4b",
              "IPY_MODEL_85f0d1987f6340769a6f094f66ce339a",
              "IPY_MODEL_83bd6aeedca04b25b1691d2a991928d2"
            ],
            "layout": "IPY_MODEL_bee8b556e4cf4781a41b4682b4048892"
          }
        },
        "5664bc76fa3443a592be868719ac8608": {
          "model_module": "@jupyter-widgets/base",
          "model_module_version": "1.2.0",
          "model_name": "LayoutModel",
          "state": {
            "_model_module": "@jupyter-widgets/base",
            "_model_module_version": "1.2.0",
            "_model_name": "LayoutModel",
            "_view_count": null,
            "_view_module": "@jupyter-widgets/base",
            "_view_module_version": "1.2.0",
            "_view_name": "LayoutView",
            "align_content": null,
            "align_items": null,
            "align_self": null,
            "border": null,
            "bottom": null,
            "display": null,
            "flex": null,
            "flex_flow": null,
            "grid_area": null,
            "grid_auto_columns": null,
            "grid_auto_flow": null,
            "grid_auto_rows": null,
            "grid_column": null,
            "grid_gap": null,
            "grid_row": null,
            "grid_template_areas": null,
            "grid_template_columns": null,
            "grid_template_rows": null,
            "height": null,
            "justify_content": null,
            "justify_items": null,
            "left": null,
            "margin": null,
            "max_height": null,
            "max_width": null,
            "min_height": null,
            "min_width": null,
            "object_fit": null,
            "object_position": null,
            "order": null,
            "overflow": null,
            "overflow_x": null,
            "overflow_y": null,
            "padding": null,
            "right": null,
            "top": null,
            "visibility": null,
            "width": null
          }
        },
        "5a4d74273f104920926fd44d54034e12": {
          "model_module": "@jupyter-widgets/base",
          "model_module_version": "1.2.0",
          "model_name": "LayoutModel",
          "state": {
            "_model_module": "@jupyter-widgets/base",
            "_model_module_version": "1.2.0",
            "_model_name": "LayoutModel",
            "_view_count": null,
            "_view_module": "@jupyter-widgets/base",
            "_view_module_version": "1.2.0",
            "_view_name": "LayoutView",
            "align_content": null,
            "align_items": null,
            "align_self": null,
            "border": null,
            "bottom": null,
            "display": null,
            "flex": null,
            "flex_flow": null,
            "grid_area": null,
            "grid_auto_columns": null,
            "grid_auto_flow": null,
            "grid_auto_rows": null,
            "grid_column": null,
            "grid_gap": null,
            "grid_row": null,
            "grid_template_areas": null,
            "grid_template_columns": null,
            "grid_template_rows": null,
            "height": null,
            "justify_content": null,
            "justify_items": null,
            "left": null,
            "margin": null,
            "max_height": null,
            "max_width": null,
            "min_height": null,
            "min_width": null,
            "object_fit": null,
            "object_position": null,
            "order": null,
            "overflow": null,
            "overflow_x": null,
            "overflow_y": null,
            "padding": null,
            "right": null,
            "top": null,
            "visibility": null,
            "width": null
          }
        },
        "602b99ae37564ee788499ac613927e79": {
          "model_module": "@jupyter-widgets/controls",
          "model_module_version": "1.5.0",
          "model_name": "HBoxModel",
          "state": {
            "_dom_classes": [],
            "_model_module": "@jupyter-widgets/controls",
            "_model_module_version": "1.5.0",
            "_model_name": "HBoxModel",
            "_view_count": null,
            "_view_module": "@jupyter-widgets/controls",
            "_view_module_version": "1.5.0",
            "_view_name": "HBoxView",
            "box_style": "",
            "children": [
              "IPY_MODEL_c4a801795420428db431276580d04372",
              "IPY_MODEL_65ba88db2e3f467aa2b6428a90e80d01",
              "IPY_MODEL_7ebb6c2f174742ee90e1c90d76d89079"
            ],
            "layout": "IPY_MODEL_10d7a0c727494ad1969eb7300cf6bb92"
          }
        },
        "64cbcb21884e463c959d495bfb7cec92": {
          "model_module": "@jupyter-widgets/controls",
          "model_module_version": "1.5.0",
          "model_name": "DescriptionStyleModel",
          "state": {
            "_model_module": "@jupyter-widgets/controls",
            "_model_module_version": "1.5.0",
            "_model_name": "DescriptionStyleModel",
            "_view_count": null,
            "_view_module": "@jupyter-widgets/base",
            "_view_module_version": "1.2.0",
            "_view_name": "StyleView",
            "description_width": ""
          }
        },
        "65ba88db2e3f467aa2b6428a90e80d01": {
          "model_module": "@jupyter-widgets/controls",
          "model_module_version": "1.5.0",
          "model_name": "FloatProgressModel",
          "state": {
            "_dom_classes": [],
            "_model_module": "@jupyter-widgets/controls",
            "_model_module_version": "1.5.0",
            "_model_name": "FloatProgressModel",
            "_view_count": null,
            "_view_module": "@jupyter-widgets/controls",
            "_view_module_version": "1.5.0",
            "_view_name": "ProgressView",
            "bar_style": "success",
            "description": "",
            "description_tooltip": null,
            "layout": "IPY_MODEL_b51c8ca5ac5541d798316672dd7fdab0",
            "max": 26,
            "min": 0,
            "orientation": "horizontal",
            "style": "IPY_MODEL_398f82789e814018a59c62949d495fc9",
            "value": 26
          }
        },
        "671b8ba6dd914984aaca88410dc24764": {
          "model_module": "@jupyter-widgets/base",
          "model_module_version": "1.2.0",
          "model_name": "LayoutModel",
          "state": {
            "_model_module": "@jupyter-widgets/base",
            "_model_module_version": "1.2.0",
            "_model_name": "LayoutModel",
            "_view_count": null,
            "_view_module": "@jupyter-widgets/base",
            "_view_module_version": "1.2.0",
            "_view_name": "LayoutView",
            "align_content": null,
            "align_items": null,
            "align_self": null,
            "border": null,
            "bottom": null,
            "display": null,
            "flex": null,
            "flex_flow": null,
            "grid_area": null,
            "grid_auto_columns": null,
            "grid_auto_flow": null,
            "grid_auto_rows": null,
            "grid_column": null,
            "grid_gap": null,
            "grid_row": null,
            "grid_template_areas": null,
            "grid_template_columns": null,
            "grid_template_rows": null,
            "height": null,
            "justify_content": null,
            "justify_items": null,
            "left": null,
            "margin": null,
            "max_height": null,
            "max_width": null,
            "min_height": null,
            "min_width": null,
            "object_fit": null,
            "object_position": null,
            "order": null,
            "overflow": null,
            "overflow_x": null,
            "overflow_y": null,
            "padding": null,
            "right": null,
            "top": null,
            "visibility": null,
            "width": null
          }
        },
        "68af7568612a4aaab39360d7a2d60250": {
          "model_module": "@jupyter-widgets/controls",
          "model_module_version": "1.5.0",
          "model_name": "DescriptionStyleModel",
          "state": {
            "_model_module": "@jupyter-widgets/controls",
            "_model_module_version": "1.5.0",
            "_model_name": "DescriptionStyleModel",
            "_view_count": null,
            "_view_module": "@jupyter-widgets/base",
            "_view_module_version": "1.2.0",
            "_view_name": "StyleView",
            "description_width": ""
          }
        },
        "6c383dae153742c38045505417c508cd": {
          "model_module": "@jupyter-widgets/controls",
          "model_module_version": "1.5.0",
          "model_name": "DescriptionStyleModel",
          "state": {
            "_model_module": "@jupyter-widgets/controls",
            "_model_module_version": "1.5.0",
            "_model_name": "DescriptionStyleModel",
            "_view_count": null,
            "_view_module": "@jupyter-widgets/base",
            "_view_module_version": "1.2.0",
            "_view_name": "StyleView",
            "description_width": ""
          }
        },
        "6dddf4f324d5433ab433b1784d7f0139": {
          "model_module": "@jupyter-widgets/controls",
          "model_module_version": "1.5.0",
          "model_name": "HBoxModel",
          "state": {
            "_dom_classes": [],
            "_model_module": "@jupyter-widgets/controls",
            "_model_module_version": "1.5.0",
            "_model_name": "HBoxModel",
            "_view_count": null,
            "_view_module": "@jupyter-widgets/controls",
            "_view_module_version": "1.5.0",
            "_view_name": "HBoxView",
            "box_style": "",
            "children": [
              "IPY_MODEL_7cb38958fcf54cc08d5fb3dbbd212695",
              "IPY_MODEL_ce91e0a5bfb44838b871e3b429ce2831",
              "IPY_MODEL_2f8b2fa019204b61bfd966793c40ca9c"
            ],
            "layout": "IPY_MODEL_1635f8d0663b4e719d7dacb1a9f28a18"
          }
        },
        "77515f63ad3c42129398c0315ce14b85": {
          "model_module": "@jupyter-widgets/controls",
          "model_module_version": "1.5.0",
          "model_name": "DescriptionStyleModel",
          "state": {
            "_model_module": "@jupyter-widgets/controls",
            "_model_module_version": "1.5.0",
            "_model_name": "DescriptionStyleModel",
            "_view_count": null,
            "_view_module": "@jupyter-widgets/base",
            "_view_module_version": "1.2.0",
            "_view_name": "StyleView",
            "description_width": ""
          }
        },
        "7cb38958fcf54cc08d5fb3dbbd212695": {
          "model_module": "@jupyter-widgets/controls",
          "model_module_version": "1.5.0",
          "model_name": "HTMLModel",
          "state": {
            "_dom_classes": [],
            "_model_module": "@jupyter-widgets/controls",
            "_model_module_version": "1.5.0",
            "_model_name": "HTMLModel",
            "_view_count": null,
            "_view_module": "@jupyter-widgets/controls",
            "_view_module_version": "1.5.0",
            "_view_name": "HTMLView",
            "description": "",
            "description_tooltip": null,
            "layout": "IPY_MODEL_671b8ba6dd914984aaca88410dc24764",
            "placeholder": "​",
            "style": "IPY_MODEL_18e2dbc3146e45eb9237f314ae63934d",
            "value": "Downloading (…)solve/main/vocab.txt: 100%"
          }
        },
        "7ebb6c2f174742ee90e1c90d76d89079": {
          "model_module": "@jupyter-widgets/controls",
          "model_module_version": "1.5.0",
          "model_name": "HTMLModel",
          "state": {
            "_dom_classes": [],
            "_model_module": "@jupyter-widgets/controls",
            "_model_module_version": "1.5.0",
            "_model_name": "HTMLModel",
            "_view_count": null,
            "_view_module": "@jupyter-widgets/controls",
            "_view_module_version": "1.5.0",
            "_view_name": "HTMLView",
            "description": "",
            "description_tooltip": null,
            "layout": "IPY_MODEL_363108096d7e44ab9a259bbef4d1388b",
            "placeholder": "​",
            "style": "IPY_MODEL_68af7568612a4aaab39360d7a2d60250",
            "value": " 26.0/26.0 [00:00&lt;00:00, 1.75kB/s]"
          }
        },
        "80e41e66d6234d8e96fc6517b46b3892": {
          "model_module": "@jupyter-widgets/controls",
          "model_module_version": "1.5.0",
          "model_name": "HBoxModel",
          "state": {
            "_dom_classes": [],
            "_model_module": "@jupyter-widgets/controls",
            "_model_module_version": "1.5.0",
            "_model_name": "HBoxModel",
            "_view_count": null,
            "_view_module": "@jupyter-widgets/controls",
            "_view_module_version": "1.5.0",
            "_view_name": "HBoxView",
            "box_style": "",
            "children": [
              "IPY_MODEL_3bcab13044164ca2b679f8b8f1ffbf61",
              "IPY_MODEL_0588073aa0b0494784b5c77ef9d24a93",
              "IPY_MODEL_f2657cc28bf549edb1b238b349e4fed0"
            ],
            "layout": "IPY_MODEL_86e191aede9e4081aa8c6c500a8cc683"
          }
        },
        "82d3bf37786940238fe3bb4f95c64ec1": {
          "model_module": "@jupyter-widgets/controls",
          "model_module_version": "1.5.0",
          "model_name": "DescriptionStyleModel",
          "state": {
            "_model_module": "@jupyter-widgets/controls",
            "_model_module_version": "1.5.0",
            "_model_name": "DescriptionStyleModel",
            "_view_count": null,
            "_view_module": "@jupyter-widgets/base",
            "_view_module_version": "1.2.0",
            "_view_name": "StyleView",
            "description_width": ""
          }
        },
        "83bd6aeedca04b25b1691d2a991928d2": {
          "model_module": "@jupyter-widgets/controls",
          "model_module_version": "1.5.0",
          "model_name": "HTMLModel",
          "state": {
            "_dom_classes": [],
            "_model_module": "@jupyter-widgets/controls",
            "_model_module_version": "1.5.0",
            "_model_name": "HTMLModel",
            "_view_count": null,
            "_view_module": "@jupyter-widgets/controls",
            "_view_module_version": "1.5.0",
            "_view_name": "HTMLView",
            "description": "",
            "description_tooltip": null,
            "layout": "IPY_MODEL_39b1d8c9c72c4a4aa35ce993b46f64a6",
            "placeholder": "​",
            "style": "IPY_MODEL_f4d6e67a6f7642e88990cfc09fbbff58",
            "value": " 899k/899k [00:00&lt;00:00, 1.31MB/s]"
          }
        },
        "85f0d1987f6340769a6f094f66ce339a": {
          "model_module": "@jupyter-widgets/controls",
          "model_module_version": "1.5.0",
          "model_name": "FloatProgressModel",
          "state": {
            "_dom_classes": [],
            "_model_module": "@jupyter-widgets/controls",
            "_model_module_version": "1.5.0",
            "_model_name": "FloatProgressModel",
            "_view_count": null,
            "_view_module": "@jupyter-widgets/controls",
            "_view_module_version": "1.5.0",
            "_view_name": "ProgressView",
            "bar_style": "success",
            "description": "",
            "description_tooltip": null,
            "layout": "IPY_MODEL_4838eb2afea74f0fb2a2e97bdd23b43f",
            "max": 898822,
            "min": 0,
            "orientation": "horizontal",
            "style": "IPY_MODEL_20a06c9e24064803a8da21bf1280bbfe",
            "value": 898822
          }
        },
        "86e191aede9e4081aa8c6c500a8cc683": {
          "model_module": "@jupyter-widgets/base",
          "model_module_version": "1.2.0",
          "model_name": "LayoutModel",
          "state": {
            "_model_module": "@jupyter-widgets/base",
            "_model_module_version": "1.2.0",
            "_model_name": "LayoutModel",
            "_view_count": null,
            "_view_module": "@jupyter-widgets/base",
            "_view_module_version": "1.2.0",
            "_view_name": "LayoutView",
            "align_content": null,
            "align_items": null,
            "align_self": null,
            "border": null,
            "bottom": null,
            "display": null,
            "flex": null,
            "flex_flow": null,
            "grid_area": null,
            "grid_auto_columns": null,
            "grid_auto_flow": null,
            "grid_auto_rows": null,
            "grid_column": null,
            "grid_gap": null,
            "grid_row": null,
            "grid_template_areas": null,
            "grid_template_columns": null,
            "grid_template_rows": null,
            "height": null,
            "justify_content": null,
            "justify_items": null,
            "left": null,
            "margin": null,
            "max_height": null,
            "max_width": null,
            "min_height": null,
            "min_width": null,
            "object_fit": null,
            "object_position": null,
            "order": null,
            "overflow": null,
            "overflow_x": null,
            "overflow_y": null,
            "padding": null,
            "right": null,
            "top": null,
            "visibility": null,
            "width": null
          }
        },
        "88e2661ae4534505bf9f04016d4f65ce": {
          "model_module": "@jupyter-widgets/controls",
          "model_module_version": "1.5.0",
          "model_name": "ProgressStyleModel",
          "state": {
            "_model_module": "@jupyter-widgets/controls",
            "_model_module_version": "1.5.0",
            "_model_name": "ProgressStyleModel",
            "_view_count": null,
            "_view_module": "@jupyter-widgets/base",
            "_view_module_version": "1.2.0",
            "_view_name": "StyleView",
            "bar_color": null,
            "description_width": ""
          }
        },
        "8b446003cf1d4aec9bbbadeb48d79931": {
          "model_module": "@jupyter-widgets/controls",
          "model_module_version": "1.5.0",
          "model_name": "ProgressStyleModel",
          "state": {
            "_model_module": "@jupyter-widgets/controls",
            "_model_module_version": "1.5.0",
            "_model_name": "ProgressStyleModel",
            "_view_count": null,
            "_view_module": "@jupyter-widgets/base",
            "_view_module_version": "1.2.0",
            "_view_name": "StyleView",
            "bar_color": null,
            "description_width": ""
          }
        },
        "91ae4e99429f4c6d915da01c355893a0": {
          "model_module": "@jupyter-widgets/controls",
          "model_module_version": "1.5.0",
          "model_name": "DescriptionStyleModel",
          "state": {
            "_model_module": "@jupyter-widgets/controls",
            "_model_module_version": "1.5.0",
            "_model_name": "DescriptionStyleModel",
            "_view_count": null,
            "_view_module": "@jupyter-widgets/base",
            "_view_module_version": "1.2.0",
            "_view_name": "StyleView",
            "description_width": ""
          }
        },
        "986890fc6ee34573a823218b5d6164d8": {
          "model_module": "@jupyter-widgets/controls",
          "model_module_version": "1.5.0",
          "model_name": "FloatProgressModel",
          "state": {
            "_dom_classes": [],
            "_model_module": "@jupyter-widgets/controls",
            "_model_module_version": "1.5.0",
            "_model_name": "FloatProgressModel",
            "_view_count": null,
            "_view_module": "@jupyter-widgets/controls",
            "_view_module_version": "1.5.0",
            "_view_name": "ProgressView",
            "bar_style": "success",
            "description": "",
            "description_tooltip": null,
            "layout": "IPY_MODEL_35e567c82ef14e9cb96d0809c8198d40",
            "max": 439101405,
            "min": 0,
            "orientation": "horizontal",
            "style": "IPY_MODEL_a737eeed54834502b80d86520cce4c07",
            "value": 439101405
          }
        },
        "99c59619e75c40faa4a2b09c6bae25db": {
          "model_module": "@jupyter-widgets/controls",
          "model_module_version": "1.5.0",
          "model_name": "DescriptionStyleModel",
          "state": {
            "_model_module": "@jupyter-widgets/controls",
            "_model_module_version": "1.5.0",
            "_model_name": "DescriptionStyleModel",
            "_view_count": null,
            "_view_module": "@jupyter-widgets/base",
            "_view_module_version": "1.2.0",
            "_view_name": "StyleView",
            "description_width": ""
          }
        },
        "9ae51f2ea0e84d3f923218f2157f62f9": {
          "model_module": "@jupyter-widgets/controls",
          "model_module_version": "1.5.0",
          "model_name": "DescriptionStyleModel",
          "state": {
            "_model_module": "@jupyter-widgets/controls",
            "_model_module_version": "1.5.0",
            "_model_name": "DescriptionStyleModel",
            "_view_count": null,
            "_view_module": "@jupyter-widgets/base",
            "_view_module_version": "1.2.0",
            "_view_name": "StyleView",
            "description_width": ""
          }
        },
        "9b79aeb633724cb6b6a83ccad41642a9": {
          "model_module": "@jupyter-widgets/base",
          "model_module_version": "1.2.0",
          "model_name": "LayoutModel",
          "state": {
            "_model_module": "@jupyter-widgets/base",
            "_model_module_version": "1.2.0",
            "_model_name": "LayoutModel",
            "_view_count": null,
            "_view_module": "@jupyter-widgets/base",
            "_view_module_version": "1.2.0",
            "_view_name": "LayoutView",
            "align_content": null,
            "align_items": null,
            "align_self": null,
            "border": null,
            "bottom": null,
            "display": null,
            "flex": null,
            "flex_flow": null,
            "grid_area": null,
            "grid_auto_columns": null,
            "grid_auto_flow": null,
            "grid_auto_rows": null,
            "grid_column": null,
            "grid_gap": null,
            "grid_row": null,
            "grid_template_areas": null,
            "grid_template_columns": null,
            "grid_template_rows": null,
            "height": null,
            "justify_content": null,
            "justify_items": null,
            "left": null,
            "margin": null,
            "max_height": null,
            "max_width": null,
            "min_height": null,
            "min_width": null,
            "object_fit": null,
            "object_position": null,
            "order": null,
            "overflow": null,
            "overflow_x": null,
            "overflow_y": null,
            "padding": null,
            "right": null,
            "top": null,
            "visibility": null,
            "width": null
          }
        },
        "9e65996908d24564a6b6db65d6a8996d": {
          "model_module": "@jupyter-widgets/controls",
          "model_module_version": "1.5.0",
          "model_name": "HBoxModel",
          "state": {
            "_dom_classes": [],
            "_model_module": "@jupyter-widgets/controls",
            "_model_module_version": "1.5.0",
            "_model_name": "HBoxModel",
            "_view_count": null,
            "_view_module": "@jupyter-widgets/controls",
            "_view_module_version": "1.5.0",
            "_view_name": "HBoxView",
            "box_style": "",
            "children": [
              "IPY_MODEL_fa7dda568ab74675a0c9c06650e72850",
              "IPY_MODEL_e14e551e731c474885aa8b4babf7a963",
              "IPY_MODEL_42222c32be13483c8b9a04dd1497b8bc"
            ],
            "layout": "IPY_MODEL_e5b23752f7ac4314860234d7b0572490"
          }
        },
        "a180534e22524b1db1115888d8e481f4": {
          "model_module": "@jupyter-widgets/base",
          "model_module_version": "1.2.0",
          "model_name": "LayoutModel",
          "state": {
            "_model_module": "@jupyter-widgets/base",
            "_model_module_version": "1.2.0",
            "_model_name": "LayoutModel",
            "_view_count": null,
            "_view_module": "@jupyter-widgets/base",
            "_view_module_version": "1.2.0",
            "_view_name": "LayoutView",
            "align_content": null,
            "align_items": null,
            "align_self": null,
            "border": null,
            "bottom": null,
            "display": null,
            "flex": null,
            "flex_flow": null,
            "grid_area": null,
            "grid_auto_columns": null,
            "grid_auto_flow": null,
            "grid_auto_rows": null,
            "grid_column": null,
            "grid_gap": null,
            "grid_row": null,
            "grid_template_areas": null,
            "grid_template_columns": null,
            "grid_template_rows": null,
            "height": null,
            "justify_content": null,
            "justify_items": null,
            "left": null,
            "margin": null,
            "max_height": null,
            "max_width": null,
            "min_height": null,
            "min_width": null,
            "object_fit": null,
            "object_position": null,
            "order": null,
            "overflow": null,
            "overflow_x": null,
            "overflow_y": null,
            "padding": null,
            "right": null,
            "top": null,
            "visibility": null,
            "width": null
          }
        },
        "a4324bd9b26b43a5bf6e932541a0382f": {
          "model_module": "@jupyter-widgets/controls",
          "model_module_version": "1.5.0",
          "model_name": "DescriptionStyleModel",
          "state": {
            "_model_module": "@jupyter-widgets/controls",
            "_model_module_version": "1.5.0",
            "_model_name": "DescriptionStyleModel",
            "_view_count": null,
            "_view_module": "@jupyter-widgets/base",
            "_view_module_version": "1.2.0",
            "_view_name": "StyleView",
            "description_width": ""
          }
        },
        "a737eeed54834502b80d86520cce4c07": {
          "model_module": "@jupyter-widgets/controls",
          "model_module_version": "1.5.0",
          "model_name": "ProgressStyleModel",
          "state": {
            "_model_module": "@jupyter-widgets/controls",
            "_model_module_version": "1.5.0",
            "_model_name": "ProgressStyleModel",
            "_view_count": null,
            "_view_module": "@jupyter-widgets/base",
            "_view_module_version": "1.2.0",
            "_view_name": "StyleView",
            "bar_color": null,
            "description_width": ""
          }
        },
        "aacfe59e46b9465d96306cdf433a5a33": {
          "model_module": "@jupyter-widgets/controls",
          "model_module_version": "1.5.0",
          "model_name": "ProgressStyleModel",
          "state": {
            "_model_module": "@jupyter-widgets/controls",
            "_model_module_version": "1.5.0",
            "_model_name": "ProgressStyleModel",
            "_view_count": null,
            "_view_module": "@jupyter-widgets/base",
            "_view_module_version": "1.2.0",
            "_view_name": "StyleView",
            "bar_color": null,
            "description_width": ""
          }
        },
        "ac99ae210ac942cab2d2a79b57fd0deb": {
          "model_module": "@jupyter-widgets/base",
          "model_module_version": "1.2.0",
          "model_name": "LayoutModel",
          "state": {
            "_model_module": "@jupyter-widgets/base",
            "_model_module_version": "1.2.0",
            "_model_name": "LayoutModel",
            "_view_count": null,
            "_view_module": "@jupyter-widgets/base",
            "_view_module_version": "1.2.0",
            "_view_name": "LayoutView",
            "align_content": null,
            "align_items": null,
            "align_self": null,
            "border": null,
            "bottom": null,
            "display": null,
            "flex": null,
            "flex_flow": null,
            "grid_area": null,
            "grid_auto_columns": null,
            "grid_auto_flow": null,
            "grid_auto_rows": null,
            "grid_column": null,
            "grid_gap": null,
            "grid_row": null,
            "grid_template_areas": null,
            "grid_template_columns": null,
            "grid_template_rows": null,
            "height": null,
            "justify_content": null,
            "justify_items": null,
            "left": null,
            "margin": null,
            "max_height": null,
            "max_width": null,
            "min_height": null,
            "min_width": null,
            "object_fit": null,
            "object_position": null,
            "order": null,
            "overflow": null,
            "overflow_x": null,
            "overflow_y": null,
            "padding": null,
            "right": null,
            "top": null,
            "visibility": null,
            "width": null
          }
        },
        "aeecc5b4c70b4dc9b52fa54780ab29f4": {
          "model_module": "@jupyter-widgets/base",
          "model_module_version": "1.2.0",
          "model_name": "LayoutModel",
          "state": {
            "_model_module": "@jupyter-widgets/base",
            "_model_module_version": "1.2.0",
            "_model_name": "LayoutModel",
            "_view_count": null,
            "_view_module": "@jupyter-widgets/base",
            "_view_module_version": "1.2.0",
            "_view_name": "LayoutView",
            "align_content": null,
            "align_items": null,
            "align_self": null,
            "border": null,
            "bottom": null,
            "display": null,
            "flex": null,
            "flex_flow": null,
            "grid_area": null,
            "grid_auto_columns": null,
            "grid_auto_flow": null,
            "grid_auto_rows": null,
            "grid_column": null,
            "grid_gap": null,
            "grid_row": null,
            "grid_template_areas": null,
            "grid_template_columns": null,
            "grid_template_rows": null,
            "height": null,
            "justify_content": null,
            "justify_items": null,
            "left": null,
            "margin": null,
            "max_height": null,
            "max_width": null,
            "min_height": null,
            "min_width": null,
            "object_fit": null,
            "object_position": null,
            "order": null,
            "overflow": null,
            "overflow_x": null,
            "overflow_y": null,
            "padding": null,
            "right": null,
            "top": null,
            "visibility": null,
            "width": null
          }
        },
        "b38b97b3d4d54d3fb85a747f6ccfbfe5": {
          "model_module": "@jupyter-widgets/controls",
          "model_module_version": "1.5.0",
          "model_name": "ProgressStyleModel",
          "state": {
            "_model_module": "@jupyter-widgets/controls",
            "_model_module_version": "1.5.0",
            "_model_name": "ProgressStyleModel",
            "_view_count": null,
            "_view_module": "@jupyter-widgets/base",
            "_view_module_version": "1.2.0",
            "_view_name": "StyleView",
            "bar_color": null,
            "description_width": ""
          }
        },
        "b51c8ca5ac5541d798316672dd7fdab0": {
          "model_module": "@jupyter-widgets/base",
          "model_module_version": "1.2.0",
          "model_name": "LayoutModel",
          "state": {
            "_model_module": "@jupyter-widgets/base",
            "_model_module_version": "1.2.0",
            "_model_name": "LayoutModel",
            "_view_count": null,
            "_view_module": "@jupyter-widgets/base",
            "_view_module_version": "1.2.0",
            "_view_name": "LayoutView",
            "align_content": null,
            "align_items": null,
            "align_self": null,
            "border": null,
            "bottom": null,
            "display": null,
            "flex": null,
            "flex_flow": null,
            "grid_area": null,
            "grid_auto_columns": null,
            "grid_auto_flow": null,
            "grid_auto_rows": null,
            "grid_column": null,
            "grid_gap": null,
            "grid_row": null,
            "grid_template_areas": null,
            "grid_template_columns": null,
            "grid_template_rows": null,
            "height": null,
            "justify_content": null,
            "justify_items": null,
            "left": null,
            "margin": null,
            "max_height": null,
            "max_width": null,
            "min_height": null,
            "min_width": null,
            "object_fit": null,
            "object_position": null,
            "order": null,
            "overflow": null,
            "overflow_x": null,
            "overflow_y": null,
            "padding": null,
            "right": null,
            "top": null,
            "visibility": null,
            "width": null
          }
        },
        "b68e75a3fc3c4a188a0745b4b531c828": {
          "model_module": "@jupyter-widgets/base",
          "model_module_version": "1.2.0",
          "model_name": "LayoutModel",
          "state": {
            "_model_module": "@jupyter-widgets/base",
            "_model_module_version": "1.2.0",
            "_model_name": "LayoutModel",
            "_view_count": null,
            "_view_module": "@jupyter-widgets/base",
            "_view_module_version": "1.2.0",
            "_view_name": "LayoutView",
            "align_content": null,
            "align_items": null,
            "align_self": null,
            "border": null,
            "bottom": null,
            "display": null,
            "flex": null,
            "flex_flow": null,
            "grid_area": null,
            "grid_auto_columns": null,
            "grid_auto_flow": null,
            "grid_auto_rows": null,
            "grid_column": null,
            "grid_gap": null,
            "grid_row": null,
            "grid_template_areas": null,
            "grid_template_columns": null,
            "grid_template_rows": null,
            "height": null,
            "justify_content": null,
            "justify_items": null,
            "left": null,
            "margin": null,
            "max_height": null,
            "max_width": null,
            "min_height": null,
            "min_width": null,
            "object_fit": null,
            "object_position": null,
            "order": null,
            "overflow": null,
            "overflow_x": null,
            "overflow_y": null,
            "padding": null,
            "right": null,
            "top": null,
            "visibility": null,
            "width": null
          }
        },
        "bee8b556e4cf4781a41b4682b4048892": {
          "model_module": "@jupyter-widgets/base",
          "model_module_version": "1.2.0",
          "model_name": "LayoutModel",
          "state": {
            "_model_module": "@jupyter-widgets/base",
            "_model_module_version": "1.2.0",
            "_model_name": "LayoutModel",
            "_view_count": null,
            "_view_module": "@jupyter-widgets/base",
            "_view_module_version": "1.2.0",
            "_view_name": "LayoutView",
            "align_content": null,
            "align_items": null,
            "align_self": null,
            "border": null,
            "bottom": null,
            "display": null,
            "flex": null,
            "flex_flow": null,
            "grid_area": null,
            "grid_auto_columns": null,
            "grid_auto_flow": null,
            "grid_auto_rows": null,
            "grid_column": null,
            "grid_gap": null,
            "grid_row": null,
            "grid_template_areas": null,
            "grid_template_columns": null,
            "grid_template_rows": null,
            "height": null,
            "justify_content": null,
            "justify_items": null,
            "left": null,
            "margin": null,
            "max_height": null,
            "max_width": null,
            "min_height": null,
            "min_width": null,
            "object_fit": null,
            "object_position": null,
            "order": null,
            "overflow": null,
            "overflow_x": null,
            "overflow_y": null,
            "padding": null,
            "right": null,
            "top": null,
            "visibility": null,
            "width": null
          }
        },
        "c26740e1d4044f3aa9de7286efff6f1a": {
          "model_module": "@jupyter-widgets/controls",
          "model_module_version": "1.5.0",
          "model_name": "HBoxModel",
          "state": {
            "_dom_classes": [],
            "_model_module": "@jupyter-widgets/controls",
            "_model_module_version": "1.5.0",
            "_model_name": "HBoxModel",
            "_view_count": null,
            "_view_module": "@jupyter-widgets/controls",
            "_view_module_version": "1.5.0",
            "_view_name": "HBoxView",
            "box_style": "",
            "children": [
              "IPY_MODEL_f5f4ee6d0db740279524d155e9f78146",
              "IPY_MODEL_3576098927af4488800d33f5f92bbf96",
              "IPY_MODEL_4232a5ee336b42daab4bec22b69fd38a"
            ],
            "layout": "IPY_MODEL_5055e8507f23426a93da0b89f337ad92"
          }
        },
        "c3767fad501f4424a6ce18abb71ac1a4": {
          "model_module": "@jupyter-widgets/controls",
          "model_module_version": "1.5.0",
          "model_name": "HTMLModel",
          "state": {
            "_dom_classes": [],
            "_model_module": "@jupyter-widgets/controls",
            "_model_module_version": "1.5.0",
            "_model_name": "HTMLModel",
            "_view_count": null,
            "_view_module": "@jupyter-widgets/controls",
            "_view_module_version": "1.5.0",
            "_view_name": "HTMLView",
            "description": "",
            "description_tooltip": null,
            "layout": "IPY_MODEL_ea53287e9f26404dbe2c87c196433181",
            "placeholder": "​",
            "style": "IPY_MODEL_a4324bd9b26b43a5bf6e932541a0382f",
            "value": "Downloading (…)lve/main/config.json: 100%"
          }
        },
        "c4a801795420428db431276580d04372": {
          "model_module": "@jupyter-widgets/controls",
          "model_module_version": "1.5.0",
          "model_name": "HTMLModel",
          "state": {
            "_dom_classes": [],
            "_model_module": "@jupyter-widgets/controls",
            "_model_module_version": "1.5.0",
            "_model_name": "HTMLModel",
            "_view_count": null,
            "_view_module": "@jupyter-widgets/controls",
            "_view_module_version": "1.5.0",
            "_view_name": "HTMLView",
            "description": "",
            "description_tooltip": null,
            "layout": "IPY_MODEL_43de4ff066194c509dc1a8a8a23d2f45",
            "placeholder": "​",
            "style": "IPY_MODEL_6c383dae153742c38045505417c508cd",
            "value": "Downloading (…)okenizer_config.json: 100%"
          }
        },
        "ccbe201afd214fe384027b4c463f96fc": {
          "model_module": "@jupyter-widgets/base",
          "model_module_version": "1.2.0",
          "model_name": "LayoutModel",
          "state": {
            "_model_module": "@jupyter-widgets/base",
            "_model_module_version": "1.2.0",
            "_model_name": "LayoutModel",
            "_view_count": null,
            "_view_module": "@jupyter-widgets/base",
            "_view_module_version": "1.2.0",
            "_view_name": "LayoutView",
            "align_content": null,
            "align_items": null,
            "align_self": null,
            "border": null,
            "bottom": null,
            "display": null,
            "flex": null,
            "flex_flow": null,
            "grid_area": null,
            "grid_auto_columns": null,
            "grid_auto_flow": null,
            "grid_auto_rows": null,
            "grid_column": null,
            "grid_gap": null,
            "grid_row": null,
            "grid_template_areas": null,
            "grid_template_columns": null,
            "grid_template_rows": null,
            "height": null,
            "justify_content": null,
            "justify_items": null,
            "left": null,
            "margin": null,
            "max_height": null,
            "max_width": null,
            "min_height": null,
            "min_width": null,
            "object_fit": null,
            "object_position": null,
            "order": null,
            "overflow": null,
            "overflow_x": null,
            "overflow_y": null,
            "padding": null,
            "right": null,
            "top": null,
            "visibility": null,
            "width": null
          }
        },
        "ce91e0a5bfb44838b871e3b429ce2831": {
          "model_module": "@jupyter-widgets/controls",
          "model_module_version": "1.5.0",
          "model_name": "FloatProgressModel",
          "state": {
            "_dom_classes": [],
            "_model_module": "@jupyter-widgets/controls",
            "_model_module_version": "1.5.0",
            "_model_name": "FloatProgressModel",
            "_view_count": null,
            "_view_module": "@jupyter-widgets/controls",
            "_view_module_version": "1.5.0",
            "_view_name": "ProgressView",
            "bar_style": "success",
            "description": "",
            "description_tooltip": null,
            "layout": "IPY_MODEL_a180534e22524b1db1115888d8e481f4",
            "max": 226122,
            "min": 0,
            "orientation": "horizontal",
            "style": "IPY_MODEL_2f36bd34b8ab4643abb7cb8c90e865b2",
            "value": 226122
          }
        },
        "d3a2a5a0c6364754b2644d4beb847b09": {
          "model_module": "@jupyter-widgets/base",
          "model_module_version": "1.2.0",
          "model_name": "LayoutModel",
          "state": {
            "_model_module": "@jupyter-widgets/base",
            "_model_module_version": "1.2.0",
            "_model_name": "LayoutModel",
            "_view_count": null,
            "_view_module": "@jupyter-widgets/base",
            "_view_module_version": "1.2.0",
            "_view_name": "LayoutView",
            "align_content": null,
            "align_items": null,
            "align_self": null,
            "border": null,
            "bottom": null,
            "display": null,
            "flex": null,
            "flex_flow": null,
            "grid_area": null,
            "grid_auto_columns": null,
            "grid_auto_flow": null,
            "grid_auto_rows": null,
            "grid_column": null,
            "grid_gap": null,
            "grid_row": null,
            "grid_template_areas": null,
            "grid_template_columns": null,
            "grid_template_rows": null,
            "height": null,
            "justify_content": null,
            "justify_items": null,
            "left": null,
            "margin": null,
            "max_height": null,
            "max_width": null,
            "min_height": null,
            "min_width": null,
            "object_fit": null,
            "object_position": null,
            "order": null,
            "overflow": null,
            "overflow_x": null,
            "overflow_y": null,
            "padding": null,
            "right": null,
            "top": null,
            "visibility": null,
            "width": null
          }
        },
        "d999f3b8e0df469a98f82b6d80fa7236": {
          "model_module": "@jupyter-widgets/controls",
          "model_module_version": "1.5.0",
          "model_name": "HBoxModel",
          "state": {
            "_dom_classes": [],
            "_model_module": "@jupyter-widgets/controls",
            "_model_module_version": "1.5.0",
            "_model_name": "HBoxModel",
            "_view_count": null,
            "_view_module": "@jupyter-widgets/controls",
            "_view_module_version": "1.5.0",
            "_view_name": "HBoxView",
            "box_style": "",
            "children": [
              "IPY_MODEL_c3767fad501f4424a6ce18abb71ac1a4",
              "IPY_MODEL_0e2cc41dec934b6bb0bfb23ffd829f44",
              "IPY_MODEL_4dd16845e314499aa9f9d85da4de926e"
            ],
            "layout": "IPY_MODEL_3367657bfe3c4c678fd445595356f537"
          }
        },
        "e14e551e731c474885aa8b4babf7a963": {
          "model_module": "@jupyter-widgets/controls",
          "model_module_version": "1.5.0",
          "model_name": "FloatProgressModel",
          "state": {
            "_dom_classes": [],
            "_model_module": "@jupyter-widgets/controls",
            "_model_module_version": "1.5.0",
            "_model_name": "FloatProgressModel",
            "_view_count": null,
            "_view_module": "@jupyter-widgets/controls",
            "_view_module_version": "1.5.0",
            "_view_name": "ProgressView",
            "bar_style": "success",
            "description": "",
            "description_tooltip": null,
            "layout": "IPY_MODEL_309a995ae2764096a722c0ed40d0bb8b",
            "max": 1802,
            "min": 0,
            "orientation": "horizontal",
            "style": "IPY_MODEL_b38b97b3d4d54d3fb85a747f6ccfbfe5",
            "value": 1802
          }
        },
        "e15bc859179242699bce3663f931f10b": {
          "model_module": "@jupyter-widgets/controls",
          "model_module_version": "1.5.0",
          "model_name": "HBoxModel",
          "state": {
            "_dom_classes": [],
            "_model_module": "@jupyter-widgets/controls",
            "_model_module_version": "1.5.0",
            "_model_name": "HBoxModel",
            "_view_count": null,
            "_view_module": "@jupyter-widgets/controls",
            "_view_module_version": "1.5.0",
            "_view_name": "HBoxView",
            "box_style": "",
            "children": [
              "IPY_MODEL_f2ee5d0ef56d4d3fa9ad30758eec7019",
              "IPY_MODEL_986890fc6ee34573a823218b5d6164d8",
              "IPY_MODEL_2f4fb41d9ee14e62b8e2790d4eab13e6"
            ],
            "layout": "IPY_MODEL_d3a2a5a0c6364754b2644d4beb847b09"
          }
        },
        "e45edd65c3bb484a808876754402f7ad": {
          "model_module": "@jupyter-widgets/controls",
          "model_module_version": "1.5.0",
          "model_name": "DescriptionStyleModel",
          "state": {
            "_model_module": "@jupyter-widgets/controls",
            "_model_module_version": "1.5.0",
            "_model_name": "DescriptionStyleModel",
            "_view_count": null,
            "_view_module": "@jupyter-widgets/base",
            "_view_module_version": "1.2.0",
            "_view_name": "StyleView",
            "description_width": ""
          }
        },
        "e5b23752f7ac4314860234d7b0572490": {
          "model_module": "@jupyter-widgets/base",
          "model_module_version": "1.2.0",
          "model_name": "LayoutModel",
          "state": {
            "_model_module": "@jupyter-widgets/base",
            "_model_module_version": "1.2.0",
            "_model_name": "LayoutModel",
            "_view_count": null,
            "_view_module": "@jupyter-widgets/base",
            "_view_module_version": "1.2.0",
            "_view_name": "LayoutView",
            "align_content": null,
            "align_items": null,
            "align_self": null,
            "border": null,
            "bottom": null,
            "display": null,
            "flex": null,
            "flex_flow": null,
            "grid_area": null,
            "grid_auto_columns": null,
            "grid_auto_flow": null,
            "grid_auto_rows": null,
            "grid_column": null,
            "grid_gap": null,
            "grid_row": null,
            "grid_template_areas": null,
            "grid_template_columns": null,
            "grid_template_rows": null,
            "height": null,
            "justify_content": null,
            "justify_items": null,
            "left": null,
            "margin": null,
            "max_height": null,
            "max_width": null,
            "min_height": null,
            "min_width": null,
            "object_fit": null,
            "object_position": null,
            "order": null,
            "overflow": null,
            "overflow_x": null,
            "overflow_y": null,
            "padding": null,
            "right": null,
            "top": null,
            "visibility": null,
            "width": null
          }
        },
        "ea53287e9f26404dbe2c87c196433181": {
          "model_module": "@jupyter-widgets/base",
          "model_module_version": "1.2.0",
          "model_name": "LayoutModel",
          "state": {
            "_model_module": "@jupyter-widgets/base",
            "_model_module_version": "1.2.0",
            "_model_name": "LayoutModel",
            "_view_count": null,
            "_view_module": "@jupyter-widgets/base",
            "_view_module_version": "1.2.0",
            "_view_name": "LayoutView",
            "align_content": null,
            "align_items": null,
            "align_self": null,
            "border": null,
            "bottom": null,
            "display": null,
            "flex": null,
            "flex_flow": null,
            "grid_area": null,
            "grid_auto_columns": null,
            "grid_auto_flow": null,
            "grid_auto_rows": null,
            "grid_column": null,
            "grid_gap": null,
            "grid_row": null,
            "grid_template_areas": null,
            "grid_template_columns": null,
            "grid_template_rows": null,
            "height": null,
            "justify_content": null,
            "justify_items": null,
            "left": null,
            "margin": null,
            "max_height": null,
            "max_width": null,
            "min_height": null,
            "min_width": null,
            "object_fit": null,
            "object_position": null,
            "order": null,
            "overflow": null,
            "overflow_x": null,
            "overflow_y": null,
            "padding": null,
            "right": null,
            "top": null,
            "visibility": null,
            "width": null
          }
        },
        "ec8a33690edb48c3aaebc46848238517": {
          "model_module": "@jupyter-widgets/base",
          "model_module_version": "1.2.0",
          "model_name": "LayoutModel",
          "state": {
            "_model_module": "@jupyter-widgets/base",
            "_model_module_version": "1.2.0",
            "_model_name": "LayoutModel",
            "_view_count": null,
            "_view_module": "@jupyter-widgets/base",
            "_view_module_version": "1.2.0",
            "_view_name": "LayoutView",
            "align_content": null,
            "align_items": null,
            "align_self": null,
            "border": null,
            "bottom": null,
            "display": null,
            "flex": null,
            "flex_flow": null,
            "grid_area": null,
            "grid_auto_columns": null,
            "grid_auto_flow": null,
            "grid_auto_rows": null,
            "grid_column": null,
            "grid_gap": null,
            "grid_row": null,
            "grid_template_areas": null,
            "grid_template_columns": null,
            "grid_template_rows": null,
            "height": null,
            "justify_content": null,
            "justify_items": null,
            "left": null,
            "margin": null,
            "max_height": null,
            "max_width": null,
            "min_height": null,
            "min_width": null,
            "object_fit": null,
            "object_position": null,
            "order": null,
            "overflow": null,
            "overflow_x": null,
            "overflow_y": null,
            "padding": null,
            "right": null,
            "top": null,
            "visibility": null,
            "width": null
          }
        },
        "efae6f0ed69b4e32b35010ca4135d438": {
          "model_module": "@jupyter-widgets/controls",
          "model_module_version": "1.5.0",
          "model_name": "DescriptionStyleModel",
          "state": {
            "_model_module": "@jupyter-widgets/controls",
            "_model_module_version": "1.5.0",
            "_model_name": "DescriptionStyleModel",
            "_view_count": null,
            "_view_module": "@jupyter-widgets/base",
            "_view_module_version": "1.2.0",
            "_view_name": "StyleView",
            "description_width": ""
          }
        },
        "f2657cc28bf549edb1b238b349e4fed0": {
          "model_module": "@jupyter-widgets/controls",
          "model_module_version": "1.5.0",
          "model_name": "HTMLModel",
          "state": {
            "_dom_classes": [],
            "_model_module": "@jupyter-widgets/controls",
            "_model_module_version": "1.5.0",
            "_model_name": "HTMLModel",
            "_view_count": null,
            "_view_module": "@jupyter-widgets/controls",
            "_view_module_version": "1.5.0",
            "_view_name": "HTMLView",
            "description": "",
            "description_tooltip": null,
            "layout": "IPY_MODEL_4675b0e965124f5e92f25ecd1db48ad5",
            "placeholder": "​",
            "style": "IPY_MODEL_91ae4e99429f4c6d915da01c355893a0",
            "value": " 1.22G/1.22G [00:12&lt;00:00, 101MB/s]"
          }
        },
        "f2ee5d0ef56d4d3fa9ad30758eec7019": {
          "model_module": "@jupyter-widgets/controls",
          "model_module_version": "1.5.0",
          "model_name": "HTMLModel",
          "state": {
            "_dom_classes": [],
            "_model_module": "@jupyter-widgets/controls",
            "_model_module_version": "1.5.0",
            "_model_name": "HTMLModel",
            "_view_count": null,
            "_view_module": "@jupyter-widgets/controls",
            "_view_module_version": "1.5.0",
            "_view_name": "HTMLView",
            "description": "",
            "description_tooltip": null,
            "layout": "IPY_MODEL_f9c244d89f054f63a30ba1a5e267b89b",
            "placeholder": "​",
            "style": "IPY_MODEL_64cbcb21884e463c959d495bfb7cec92",
            "value": "Downloading pytorch_model.bin: 100%"
          }
        },
        "f4d1ecc7fab943e4b35fa77b35e523f4": {
          "model_module": "@jupyter-widgets/controls",
          "model_module_version": "1.5.0",
          "model_name": "DescriptionStyleModel",
          "state": {
            "_model_module": "@jupyter-widgets/controls",
            "_model_module_version": "1.5.0",
            "_model_name": "DescriptionStyleModel",
            "_view_count": null,
            "_view_module": "@jupyter-widgets/base",
            "_view_module_version": "1.2.0",
            "_view_name": "StyleView",
            "description_width": ""
          }
        },
        "f4d6e67a6f7642e88990cfc09fbbff58": {
          "model_module": "@jupyter-widgets/controls",
          "model_module_version": "1.5.0",
          "model_name": "DescriptionStyleModel",
          "state": {
            "_model_module": "@jupyter-widgets/controls",
            "_model_module_version": "1.5.0",
            "_model_name": "DescriptionStyleModel",
            "_view_count": null,
            "_view_module": "@jupyter-widgets/base",
            "_view_module_version": "1.2.0",
            "_view_name": "StyleView",
            "description_width": ""
          }
        },
        "f5f4ee6d0db740279524d155e9f78146": {
          "model_module": "@jupyter-widgets/controls",
          "model_module_version": "1.5.0",
          "model_name": "HTMLModel",
          "state": {
            "_dom_classes": [],
            "_model_module": "@jupyter-widgets/controls",
            "_model_module_version": "1.5.0",
            "_model_name": "HTMLModel",
            "_view_count": null,
            "_view_module": "@jupyter-widgets/controls",
            "_view_module_version": "1.5.0",
            "_view_name": "HTMLView",
            "description": "",
            "description_tooltip": null,
            "layout": "IPY_MODEL_9b79aeb633724cb6b6a83ccad41642a9",
            "placeholder": "​",
            "style": "IPY_MODEL_efae6f0ed69b4e32b35010ca4135d438",
            "value": "Downloading (…)olve/main/merges.txt: 100%"
          }
        },
        "f9c244d89f054f63a30ba1a5e267b89b": {
          "model_module": "@jupyter-widgets/base",
          "model_module_version": "1.2.0",
          "model_name": "LayoutModel",
          "state": {
            "_model_module": "@jupyter-widgets/base",
            "_model_module_version": "1.2.0",
            "_model_name": "LayoutModel",
            "_view_count": null,
            "_view_module": "@jupyter-widgets/base",
            "_view_module_version": "1.2.0",
            "_view_name": "LayoutView",
            "align_content": null,
            "align_items": null,
            "align_self": null,
            "border": null,
            "bottom": null,
            "display": null,
            "flex": null,
            "flex_flow": null,
            "grid_area": null,
            "grid_auto_columns": null,
            "grid_auto_flow": null,
            "grid_auto_rows": null,
            "grid_column": null,
            "grid_gap": null,
            "grid_row": null,
            "grid_template_areas": null,
            "grid_template_columns": null,
            "grid_template_rows": null,
            "height": null,
            "justify_content": null,
            "justify_items": null,
            "left": null,
            "margin": null,
            "max_height": null,
            "max_width": null,
            "min_height": null,
            "min_width": null,
            "object_fit": null,
            "object_position": null,
            "order": null,
            "overflow": null,
            "overflow_x": null,
            "overflow_y": null,
            "padding": null,
            "right": null,
            "top": null,
            "visibility": null,
            "width": null
          }
        },
        "fa7dda568ab74675a0c9c06650e72850": {
          "model_module": "@jupyter-widgets/controls",
          "model_module_version": "1.5.0",
          "model_name": "HTMLModel",
          "state": {
            "_dom_classes": [],
            "_model_module": "@jupyter-widgets/controls",
            "_model_module_version": "1.5.0",
            "_model_name": "HTMLModel",
            "_view_count": null,
            "_view_module": "@jupyter-widgets/controls",
            "_view_module_version": "1.5.0",
            "_view_name": "HTMLView",
            "description": "",
            "description_tooltip": null,
            "layout": "IPY_MODEL_b68e75a3fc3c4a188a0745b4b531c828",
            "placeholder": "​",
            "style": "IPY_MODEL_9ae51f2ea0e84d3f923218f2157f62f9",
            "value": "Downloading (…)lve/main/config.json: 100%"
          }
        },
        "ff01e073bb8646d6adc344a3b4e41736": {
          "model_module": "@jupyter-widgets/controls",
          "model_module_version": "1.5.0",
          "model_name": "DescriptionStyleModel",
          "state": {
            "_model_module": "@jupyter-widgets/controls",
            "_model_module_version": "1.5.0",
            "_model_name": "DescriptionStyleModel",
            "_view_count": null,
            "_view_module": "@jupyter-widgets/base",
            "_view_module_version": "1.2.0",
            "_view_name": "StyleView",
            "description_width": ""
          }
        }
      }
    }
  },
  "nbformat": 4,
  "nbformat_minor": 0
}