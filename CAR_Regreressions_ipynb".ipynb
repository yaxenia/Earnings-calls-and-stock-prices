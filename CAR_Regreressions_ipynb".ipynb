{
  "nbformat": 4,
  "nbformat_minor": 0,
  "metadata": {
    "colab": {
      "provenance": []
    },
    "kernelspec": {
      "name": "ir",
      "display_name": "R"
    },
    "language_info": {
      "name": "R"
    }
  },
  "cells": [
    {
      "cell_type": "code",
      "execution_count": null,
      "metadata": {
        "colab": {
          "base_uri": "https://localhost:8080/"
        },
        "id": "sAt3eoMSlg3l",
        "outputId": "c6951888-89d7-48ce-8951-cd232eb6115b"
      },
      "outputs": [
        {
          "output_type": "stream",
          "name": "stderr",
          "text": [
            "Installing package into ‘/usr/local/lib/R/site-library’\n",
            "(as ‘lib’ is unspecified)\n",
            "\n",
            "also installing the dependencies ‘zoo’, ‘Formula’, ‘xtable’, ‘sandwich’\n",
            "\n",
            "\n",
            "Loading required package: Matrix\n",
            "\n"
          ]
        }
      ],
      "source": [
        "install.packages(\"lfe\")\n",
        "library(lfe)"
      ]
    },
    {
      "cell_type": "code",
      "source": [
        "library(readr)"
      ],
      "metadata": {
        "id": "USDEulssoNad"
      },
      "execution_count": null,
      "outputs": []
    },
    {
      "cell_type": "code",
      "source": [
        "\n",
        "install.packages(\"lmtest\")  \n",
        "install.packages(\"car\")     \n",
        "library(lmtest)\n",
        "library(car)"
      ],
      "metadata": {
        "id": "mol498SA02MP",
        "colab": {
          "base_uri": "https://localhost:8080/"
        },
        "outputId": "0d566110-21f4-4707-9fb2-25101a01855a"
      },
      "execution_count": null,
      "outputs": [
        {
          "output_type": "stream",
          "name": "stderr",
          "text": [
            "Installing package into ‘/usr/local/lib/R/site-library’\n",
            "(as ‘lib’ is unspecified)\n",
            "\n",
            "Installing package into ‘/usr/local/lib/R/site-library’\n",
            "(as ‘lib’ is unspecified)\n",
            "\n",
            "also installing the dependencies ‘numDeriv’, ‘SparseM’, ‘MatrixModels’, ‘minqa’, ‘nloptr’, ‘Rcpp’, ‘RcppEigen’, ‘carData’, ‘abind’, ‘pbkrtest’, ‘quantreg’, ‘lme4’\n",
            "\n",
            "\n",
            "Loading required package: zoo\n",
            "\n",
            "\n",
            "Attaching package: ‘zoo’\n",
            "\n",
            "\n",
            "The following objects are masked from ‘package:base’:\n",
            "\n",
            "    as.Date, as.Date.numeric\n",
            "\n",
            "\n",
            "\n",
            "Attaching package: ‘lmtest’\n",
            "\n",
            "\n",
            "The following object is masked from ‘package:lfe’:\n",
            "\n",
            "    waldtest\n",
            "\n",
            "\n",
            "Loading required package: carData\n",
            "\n"
          ]
        }
      ]
    },
    {
      "cell_type": "code",
      "source": [
        "install.packages(\"readxl\")"
      ],
      "metadata": {
        "colab": {
          "base_uri": "https://localhost:8080/"
        },
        "id": "svbl7IEfoTU8",
        "outputId": "74c327ac-6623-4c1d-fca5-d8ea3ad33713"
      },
      "execution_count": null,
      "outputs": [
        {
          "output_type": "stream",
          "name": "stderr",
          "text": [
            "Installing package into ‘/usr/local/lib/R/site-library’\n",
            "(as ‘lib’ is unspecified)\n",
            "\n"
          ]
        }
      ]
    },
    {
      "cell_type": "code",
      "source": [
        "library(tidyverse) # Modern data science library \n",
        "library(\"plm\")       # Panel data analysis library\n",
        "library(\"car\")       # Companion to applied regression \n",
        "library(\"gplots\")    # Various programing tools for plotting data\n",
        "library(\"tseries\")   # For timeseries analysis\n",
        "library(\"lmtest\") "
      ],
      "metadata": {
        "id": "bfjc4tfd0gzl"
      },
      "execution_count": null,
      "outputs": []
    },
    {
      "cell_type": "code",
      "source": [
        "install.packages(\"plm\")\n",
        "install.packages(\"car\")\n",
        "install.packages(\"gplots\")\n",
        "install.packages(\"tseries\")\n",
        "install.packages(\"lmtest\")"
      ],
      "metadata": {
        "colab": {
          "base_uri": "https://localhost:8080/"
        },
        "id": "OXKDAGhk0vhv",
        "outputId": "59133d54-483a-44d0-9936-647fc7b57300"
      },
      "execution_count": null,
      "outputs": [
        {
          "output_type": "stream",
          "name": "stderr",
          "text": [
            "Installing package into ‘/usr/local/lib/R/site-library’\n",
            "(as ‘lib’ is unspecified)\n",
            "\n",
            "also installing the dependencies ‘Rcpp’, ‘miscTools’, ‘rbibutils’, ‘bdsmatrix’, ‘collapse’, ‘lmtest’, ‘maxLik’, ‘Rdpack’\n",
            "\n",
            "\n",
            "Installing package into ‘/usr/local/lib/R/site-library’\n",
            "(as ‘lib’ is unspecified)\n",
            "\n",
            "also installing the dependencies ‘numDeriv’, ‘SparseM’, ‘MatrixModels’, ‘minqa’, ‘nloptr’, ‘RcppEigen’, ‘carData’, ‘abind’, ‘pbkrtest’, ‘quantreg’, ‘lme4’\n",
            "\n",
            "\n",
            "Installing package into ‘/usr/local/lib/R/site-library’\n",
            "(as ‘lib’ is unspecified)\n",
            "\n",
            "also installing the dependencies ‘bitops’, ‘gtools’, ‘caTools’\n",
            "\n",
            "\n",
            "Installing package into ‘/usr/local/lib/R/site-library’\n",
            "(as ‘lib’ is unspecified)\n",
            "\n",
            "also installing the dependencies ‘xts’, ‘TTR’, ‘quadprog’, ‘quantmod’\n",
            "\n",
            "\n",
            "Installing package into ‘/usr/local/lib/R/site-library’\n",
            "(as ‘lib’ is unspecified)\n",
            "\n"
          ]
        }
      ]
    },
    {
      "cell_type": "code",
      "source": [
        "library(\"readxl\")"
      ],
      "metadata": {
        "id": "0OCtlmJron16"
      },
      "execution_count": null,
      "outputs": []
    },
    {
      "cell_type": "code",
      "source": [
        "library(tidyverse)"
      ],
      "metadata": {
        "id": "Igru1OnfpfUZ"
      },
      "execution_count": null,
      "outputs": []
    },
    {
      "cell_type": "code",
      "source": [
        "df <- read.csv(\"/content/for_car_reg.csv\")"
      ],
      "metadata": {
        "id": "uMJoMHMylmfi"
      },
      "execution_count": null,
      "outputs": []
    },
    {
      "cell_type": "code",
      "source": [
        "pizda <-  subset(df4, !(`Acquiror CUSIP(8)` %in% list_[1:19]))"
      ],
      "metadata": {
        "id": "IsGsXVk3ybFB"
      },
      "execution_count": null,
      "outputs": []
    },
    {
      "cell_type": "code",
      "source": [
        "total <- cbind(hueta,pizda)"
      ],
      "metadata": {
        "id": "JIeuhZ5mpVS8"
      },
      "execution_count": null,
      "outputs": []
    },
    {
      "cell_type": "code",
      "source": [
        "total_13 <- cbind(df_2,pizda)"
      ],
      "metadata": {
        "id": "kjOJ7IXVkBkx"
      },
      "execution_count": null,
      "outputs": []
    },
    {
      "cell_type": "code",
      "source": [
        "total_13_20 <- cbind(df_3,pizda)"
      ],
      "metadata": {
        "id": "GxQNdghGlRxw"
      },
      "execution_count": null,
      "outputs": []
    },
    {
      "cell_type": "code",
      "source": [
        "total_20 <- cbind(df_4,pizda)"
      ],
      "metadata": {
        "id": "g8kIAOSnlYqD"
      },
      "execution_count": null,
      "outputs": []
    },
    {
      "cell_type": "code",
      "source": [
        "total_new <- plm.data(total, index=c(\"CUSIP\",\"EventDate\"))"
      ],
      "metadata": {
        "colab": {
          "base_uri": "https://localhost:8080/",
          "height": 232
        },
        "id": "UFCsW23S0pt7",
        "outputId": "674941ac-0e68-452c-ea90-8783783b9414"
      },
      "execution_count": null,
      "outputs": [
        {
          "output_type": "stream",
          "name": "stderr",
          "text": [
            "Warning message:\n",
            "“use of 'plm.data' is discouraged, better use 'pdata.frame' instead”\n"
          ]
        },
        {
          "output_type": "error",
          "ename": "ERROR",
          "evalue": "ignored",
          "traceback": [
            "Error in pdata.frame(x, index = indexes, drop.index = FALSE, row.names = FALSE, : variable 'EventDate' does not exist (time index)\nTraceback:\n",
            "1. plm.data(total, index = c(\"CUSIP\", \"EventDate\"))",
            "2. pdata.frame(x, index = indexes, drop.index = FALSE, row.names = FALSE, \n .     stringsAsFactors = TRUE, replace.non.finite = TRUE, drop.NA.series = TRUE, \n .     drop.const.series = FALSE)",
            "3. stop(paste0(\"variable '\", time.name, \"' does not exist (time index)\"))"
          ]
        }
      ]
    },
    {
      "cell_type": "code",
      "source": [
        "install.packages(\"strucchange\")\n",
        "library(strucchange)"
      ],
      "metadata": {
        "colab": {
          "base_uri": "https://localhost:8080/"
        },
        "id": "E4N-NG_SnzDs",
        "outputId": "cbdbc9f7-f35e-4023-84de-2b38d13c674b"
      },
      "execution_count": null,
      "outputs": [
        {
          "output_type": "stream",
          "name": "stderr",
          "text": [
            "Installing package into ‘/usr/local/lib/R/site-library’\n",
            "(as ‘lib’ is unspecified)\n",
            "\n",
            "also installing the dependency ‘sandwich’\n",
            "\n",
            "\n",
            "Loading required package: sandwich\n",
            "\n"
          ]
        }
      ]
    },
    {
      "cell_type": "code",
      "source": [
        "colnames(df)"
      ],
      "metadata": {
        "colab": {
          "base_uri": "https://localhost:8080/",
          "height": 82
        },
        "id": "T7K6Se3zBjIL",
        "outputId": "09fba4fd-cf14-4120-80ca-f24bb42c9d2e"
      },
      "execution_count": null,
      "outputs": [
        {
          "output_type": "display_data",
          "data": {
            "text/html": [
              "<style>\n",
              ".list-inline {list-style: none; margin:0; padding: 0}\n",
              ".list-inline>li {display: inline-block}\n",
              ".list-inline>li:not(:last-child)::after {content: \"\\00b7\"; padding: 0 .5ex}\n",
              "</style>\n",
              "<ol class=list-inline><li>'X'</li><li>'index'</li><li>'CC.ID'</li><li>'Script.ID'</li><li>'Participant'</li><li>'Speech'</li><li>'summary'</li><li>'tone'</li><li>'Tickers'</li><li>'Fiscal.Quarter'</li><li>'Date'</li><li>'Cusip_2'</li><li>'index.1'</li><li>'ResType'</li><li>'X_weight_'</li><li>'PERMNO'</li><li>'CRSPDay'</li><li>'EventDat'</li><li>'X_int_id_'</li><li>'Request_File_CUSIP'</li><li>'CUSIP'</li><li>'Name'</li><li>'N_ar1'</li><li>'CAR_Window_1'</li><li>'SCAR1'</li><li>'CAR_WLS_Weight1'</li><li>'N_ar2'</li><li>'CAR_Window_2'</li><li>'SCAR2'</li><li>'CAR_WLS_Weight2'</li><li>'N_ar3'</li><li>'CAR_Window_3'</li><li>'SCAR3'</li><li>'CAR_WLS_Weight3'</li><li>'N_ar4'</li><li>'CAR_Window_4'</li><li>'SCAR4'</li><li>'CAR_WLS_Weight4'</li><li>'N_ar5'</li><li>'CAR_Window_5'</li><li>'SCAR5'</li><li>'CAR_WLS_Weight5'</li><li>'Company'</li><li>'Adj.Close'</li><li>'Volume'</li></ol>\n"
            ],
            "text/markdown": "1. 'X'\n2. 'index'\n3. 'CC.ID'\n4. 'Script.ID'\n5. 'Participant'\n6. 'Speech'\n7. 'summary'\n8. 'tone'\n9. 'Tickers'\n10. 'Fiscal.Quarter'\n11. 'Date'\n12. 'Cusip_2'\n13. 'index.1'\n14. 'ResType'\n15. 'X_weight_'\n16. 'PERMNO'\n17. 'CRSPDay'\n18. 'EventDat'\n19. 'X_int_id_'\n20. 'Request_File_CUSIP'\n21. 'CUSIP'\n22. 'Name'\n23. 'N_ar1'\n24. 'CAR_Window_1'\n25. 'SCAR1'\n26. 'CAR_WLS_Weight1'\n27. 'N_ar2'\n28. 'CAR_Window_2'\n29. 'SCAR2'\n30. 'CAR_WLS_Weight2'\n31. 'N_ar3'\n32. 'CAR_Window_3'\n33. 'SCAR3'\n34. 'CAR_WLS_Weight3'\n35. 'N_ar4'\n36. 'CAR_Window_4'\n37. 'SCAR4'\n38. 'CAR_WLS_Weight4'\n39. 'N_ar5'\n40. 'CAR_Window_5'\n41. 'SCAR5'\n42. 'CAR_WLS_Weight5'\n43. 'Company'\n44. 'Adj.Close'\n45. 'Volume'\n\n\n",
            "text/latex": "\\begin{enumerate*}\n\\item 'X'\n\\item 'index'\n\\item 'CC.ID'\n\\item 'Script.ID'\n\\item 'Participant'\n\\item 'Speech'\n\\item 'summary'\n\\item 'tone'\n\\item 'Tickers'\n\\item 'Fiscal.Quarter'\n\\item 'Date'\n\\item 'Cusip\\_2'\n\\item 'index.1'\n\\item 'ResType'\n\\item 'X\\_weight\\_'\n\\item 'PERMNO'\n\\item 'CRSPDay'\n\\item 'EventDat'\n\\item 'X\\_int\\_id\\_'\n\\item 'Request\\_File\\_CUSIP'\n\\item 'CUSIP'\n\\item 'Name'\n\\item 'N\\_ar1'\n\\item 'CAR\\_Window\\_1'\n\\item 'SCAR1'\n\\item 'CAR\\_WLS\\_Weight1'\n\\item 'N\\_ar2'\n\\item 'CAR\\_Window\\_2'\n\\item 'SCAR2'\n\\item 'CAR\\_WLS\\_Weight2'\n\\item 'N\\_ar3'\n\\item 'CAR\\_Window\\_3'\n\\item 'SCAR3'\n\\item 'CAR\\_WLS\\_Weight3'\n\\item 'N\\_ar4'\n\\item 'CAR\\_Window\\_4'\n\\item 'SCAR4'\n\\item 'CAR\\_WLS\\_Weight4'\n\\item 'N\\_ar5'\n\\item 'CAR\\_Window\\_5'\n\\item 'SCAR5'\n\\item 'CAR\\_WLS\\_Weight5'\n\\item 'Company'\n\\item 'Adj.Close'\n\\item 'Volume'\n\\end{enumerate*}\n",
            "text/plain": [
              " [1] \"X\"                  \"index\"              \"CC.ID\"             \n",
              " [4] \"Script.ID\"          \"Participant\"        \"Speech\"            \n",
              " [7] \"summary\"            \"tone\"               \"Tickers\"           \n",
              "[10] \"Fiscal.Quarter\"     \"Date\"               \"Cusip_2\"           \n",
              "[13] \"index.1\"            \"ResType\"            \"X_weight_\"         \n",
              "[16] \"PERMNO\"             \"CRSPDay\"            \"EventDat\"          \n",
              "[19] \"X_int_id_\"          \"Request_File_CUSIP\" \"CUSIP\"             \n",
              "[22] \"Name\"               \"N_ar1\"              \"CAR_Window_1\"      \n",
              "[25] \"SCAR1\"              \"CAR_WLS_Weight1\"    \"N_ar2\"             \n",
              "[28] \"CAR_Window_2\"       \"SCAR2\"              \"CAR_WLS_Weight2\"   \n",
              "[31] \"N_ar3\"              \"CAR_Window_3\"       \"SCAR3\"             \n",
              "[34] \"CAR_WLS_Weight3\"    \"N_ar4\"              \"CAR_Window_4\"      \n",
              "[37] \"SCAR4\"              \"CAR_WLS_Weight4\"    \"N_ar5\"             \n",
              "[40] \"CAR_Window_5\"       \"SCAR5\"              \"CAR_WLS_Weight5\"   \n",
              "[43] \"Company\"            \"Adj.Close\"          \"Volume\"            "
            ]
          },
          "metadata": {}
        }
      ]
    },
    {
      "cell_type": "code",
      "source": [
        "ols <-lm(df$'CAR_Window_1' ~ df$'tone' +df$'Adj.Close' , data = df)\n",
        "summary(ols)"
      ],
      "metadata": {
        "id": "pcrcpsb44O9S",
        "colab": {
          "base_uri": "https://localhost:8080/",
          "height": 329
        },
        "outputId": "3beaf168-2162-4b44-aa85-05fd6c1aa320"
      },
      "execution_count": null,
      "outputs": [
        {
          "output_type": "display_data",
          "data": {
            "text/plain": [
              "\n",
              "Call:\n",
              "lm(formula = df$CAR_Window_1 ~ df$tone + df$Adj.Close, data = df)\n",
              "\n",
              "Residuals:\n",
              "      Min        1Q    Median        3Q       Max \n",
              "-0.179527 -0.025656  0.004268  0.032684  0.116872 \n",
              "\n",
              "Coefficients:\n",
              "                  Estimate Std. Error t value Pr(>|t|)\n",
              "(Intercept)     -3.099e-02  4.957e-02  -0.625    0.532\n",
              "df$toneNeutral   3.144e-02  5.008e-02   0.628    0.531\n",
              "df$tonePositive  3.322e-02  4.977e-02   0.667    0.505\n",
              "df$Adj.Close    -5.497e-06  1.032e-05  -0.533    0.595\n",
              "\n",
              "Residual standard error: 0.04957 on 213 degrees of freedom\n",
              "  (7 observations deleted due to missingness)\n",
              "Multiple R-squared:  0.003535,\tAdjusted R-squared:  -0.0105 \n",
              "F-statistic: 0.2519 on 3 and 213 DF,  p-value: 0.8599\n"
            ]
          },
          "metadata": {}
        }
      ]
    },
    {
      "cell_type": "code",
      "source": [
        "colnames(total)"
      ],
      "metadata": {
        "colab": {
          "base_uri": "https://localhost:8080/",
          "height": 119
        },
        "id": "cKsHMggQ9NOJ",
        "outputId": "e706a4ff-03b3-46e4-9d2f-2d43313b38ce"
      },
      "execution_count": null,
      "outputs": [
        {
          "output_type": "display_data",
          "data": {
            "text/html": [
              "<style>\n",
              ".list-inline {list-style: none; margin:0; padding: 0}\n",
              ".list-inline>li {display: inline-block}\n",
              ".list-inline>li:not(:last-child)::after {content: \"\\00b7\"; padding: 0 .5ex}\n",
              "</style>\n",
              "<ol class=list-inline><li>'ResType'</li><li>'X_weight_'</li><li>'PERMNO'</li><li>'CRSPDay'</li><li>'EventDat'</li><li>'X_int_id_'</li><li>'Request_File_CUSIP'</li><li>'CUSIP'</li><li>'Name'</li><li>'N_ar1'</li><li>'CAR_Window_1'</li><li>'SCAR1'</li><li>'CAR_WLS_Weight1'</li><li>'N_ar2'</li><li>'CAR_Window_2'</li><li>'SCAR2'</li><li>'CAR_WLS_Weight2'</li><li>'N_ar3'</li><li>'CAR_Window_3'</li><li>'SCAR3'</li><li>'CAR_WLS_Weight3'</li><li>'N_ar4'</li><li>'CAR_Window_4'</li><li>'SCAR4'</li><li>'CAR_WLS_Weight4'</li><li>'N_ar5'</li><li>'CAR_Window_5'</li><li>'SCAR5'</li><li>'CAR_WLS_Weight5'</li><li>'N_ar6'</li><li>'CAR_Window_6'</li><li>'SCAR6'</li><li>'CAR_WLS_Weight6'</li><li>'...1'</li><li>'target'</li><li>'Acquiror Name'</li><li>'Form of transaction'</li><li>'Acquiror CUSIP'</li><li>'...6'</li><li>'CUSIP_1'</li><li>'founded date'</li><li>'Date Announced'</li><li>'Target Age'</li><li>'score'</li><li>'operating status'</li><li>'number of founders'</li><li>'score.1'</li><li>'number of emploeeys'</li><li>'score.2'</li><li>'number of lead investors'</li><li>'score.3'</li><li>'number of investors'</li><li>'Unnamed: 14'</li><li>'number of funding rounds'</li><li>'score.4'</li><li>'last funding date'</li><li>'last funding type'</li><li>'last equity funding'</li><li>'score.5'</li><li>'last equity funding type'</li><li>'score.6'</li><li>'last funding amount'</li><li>'estimated revenue range'</li><li>'total funding amount'</li><li>'score.7'</li><li>'link-accent 9'</li><li>'link-accent 10'</li><li>'link-accent 11'</li><li>'link-accent 12'</li><li>'link-accent 13'</li><li>'patent granted'</li><li>'Score'</li><li>'traid marks'</li><li>'score.8'</li><li>'Total score'</li></ol>\n"
            ],
            "text/markdown": "1. 'ResType'\n2. 'X_weight_'\n3. 'PERMNO'\n4. 'CRSPDay'\n5. 'EventDat'\n6. 'X_int_id_'\n7. 'Request_File_CUSIP'\n8. 'CUSIP'\n9. 'Name'\n10. 'N_ar1'\n11. 'CAR_Window_1'\n12. 'SCAR1'\n13. 'CAR_WLS_Weight1'\n14. 'N_ar2'\n15. 'CAR_Window_2'\n16. 'SCAR2'\n17. 'CAR_WLS_Weight2'\n18. 'N_ar3'\n19. 'CAR_Window_3'\n20. 'SCAR3'\n21. 'CAR_WLS_Weight3'\n22. 'N_ar4'\n23. 'CAR_Window_4'\n24. 'SCAR4'\n25. 'CAR_WLS_Weight4'\n26. 'N_ar5'\n27. 'CAR_Window_5'\n28. 'SCAR5'\n29. 'CAR_WLS_Weight5'\n30. 'N_ar6'\n31. 'CAR_Window_6'\n32. 'SCAR6'\n33. 'CAR_WLS_Weight6'\n34. '...1'\n35. 'target'\n36. 'Acquiror Name'\n37. 'Form of transaction'\n38. 'Acquiror CUSIP'\n39. '...6'\n40. 'CUSIP_1'\n41. 'founded date'\n42. 'Date Announced'\n43. 'Target Age'\n44. 'score'\n45. 'operating status'\n46. 'number of founders'\n47. 'score.1'\n48. 'number of emploeeys'\n49. 'score.2'\n50. 'number of lead investors'\n51. 'score.3'\n52. 'number of investors'\n53. 'Unnamed: 14'\n54. 'number of funding rounds'\n55. 'score.4'\n56. 'last funding date'\n57. 'last funding type'\n58. 'last equity funding'\n59. 'score.5'\n60. 'last equity funding type'\n61. 'score.6'\n62. 'last funding amount'\n63. 'estimated revenue range'\n64. 'total funding amount'\n65. 'score.7'\n66. 'link-accent 9'\n67. 'link-accent 10'\n68. 'link-accent 11'\n69. 'link-accent 12'\n70. 'link-accent 13'\n71. 'patent granted'\n72. 'Score'\n73. 'traid marks'\n74. 'score.8'\n75. 'Total score'\n\n\n",
            "text/latex": "\\begin{enumerate*}\n\\item 'ResType'\n\\item 'X\\_weight\\_'\n\\item 'PERMNO'\n\\item 'CRSPDay'\n\\item 'EventDat'\n\\item 'X\\_int\\_id\\_'\n\\item 'Request\\_File\\_CUSIP'\n\\item 'CUSIP'\n\\item 'Name'\n\\item 'N\\_ar1'\n\\item 'CAR\\_Window\\_1'\n\\item 'SCAR1'\n\\item 'CAR\\_WLS\\_Weight1'\n\\item 'N\\_ar2'\n\\item 'CAR\\_Window\\_2'\n\\item 'SCAR2'\n\\item 'CAR\\_WLS\\_Weight2'\n\\item 'N\\_ar3'\n\\item 'CAR\\_Window\\_3'\n\\item 'SCAR3'\n\\item 'CAR\\_WLS\\_Weight3'\n\\item 'N\\_ar4'\n\\item 'CAR\\_Window\\_4'\n\\item 'SCAR4'\n\\item 'CAR\\_WLS\\_Weight4'\n\\item 'N\\_ar5'\n\\item 'CAR\\_Window\\_5'\n\\item 'SCAR5'\n\\item 'CAR\\_WLS\\_Weight5'\n\\item 'N\\_ar6'\n\\item 'CAR\\_Window\\_6'\n\\item 'SCAR6'\n\\item 'CAR\\_WLS\\_Weight6'\n\\item '...1'\n\\item 'target'\n\\item 'Acquiror Name'\n\\item 'Form of transaction'\n\\item 'Acquiror CUSIP'\n\\item '...6'\n\\item 'CUSIP\\_1'\n\\item 'founded date'\n\\item 'Date Announced'\n\\item 'Target Age'\n\\item 'score'\n\\item 'operating status'\n\\item 'number of founders'\n\\item 'score.1'\n\\item 'number of emploeeys'\n\\item 'score.2'\n\\item 'number of lead investors'\n\\item 'score.3'\n\\item 'number of investors'\n\\item 'Unnamed: 14'\n\\item 'number of funding rounds'\n\\item 'score.4'\n\\item 'last funding date'\n\\item 'last funding type'\n\\item 'last equity funding'\n\\item 'score.5'\n\\item 'last equity funding type'\n\\item 'score.6'\n\\item 'last funding amount'\n\\item 'estimated revenue range'\n\\item 'total funding amount'\n\\item 'score.7'\n\\item 'link-accent 9'\n\\item 'link-accent 10'\n\\item 'link-accent 11'\n\\item 'link-accent 12'\n\\item 'link-accent 13'\n\\item 'patent granted'\n\\item 'Score'\n\\item 'traid marks'\n\\item 'score.8'\n\\item 'Total score'\n\\end{enumerate*}\n",
            "text/plain": [
              " [1] \"ResType\"                  \"X_weight_\"               \n",
              " [3] \"PERMNO\"                   \"CRSPDay\"                 \n",
              " [5] \"EventDat\"                 \"X_int_id_\"               \n",
              " [7] \"Request_File_CUSIP\"       \"CUSIP\"                   \n",
              " [9] \"Name\"                     \"N_ar1\"                   \n",
              "[11] \"CAR_Window_1\"             \"SCAR1\"                   \n",
              "[13] \"CAR_WLS_Weight1\"          \"N_ar2\"                   \n",
              "[15] \"CAR_Window_2\"             \"SCAR2\"                   \n",
              "[17] \"CAR_WLS_Weight2\"          \"N_ar3\"                   \n",
              "[19] \"CAR_Window_3\"             \"SCAR3\"                   \n",
              "[21] \"CAR_WLS_Weight3\"          \"N_ar4\"                   \n",
              "[23] \"CAR_Window_4\"             \"SCAR4\"                   \n",
              "[25] \"CAR_WLS_Weight4\"          \"N_ar5\"                   \n",
              "[27] \"CAR_Window_5\"             \"SCAR5\"                   \n",
              "[29] \"CAR_WLS_Weight5\"          \"N_ar6\"                   \n",
              "[31] \"CAR_Window_6\"             \"SCAR6\"                   \n",
              "[33] \"CAR_WLS_Weight6\"          \"...1\"                    \n",
              "[35] \"target\"                   \"Acquiror Name\"           \n",
              "[37] \"Form of transaction\"      \"Acquiror CUSIP\"          \n",
              "[39] \"...6\"                     \"CUSIP_1\"                 \n",
              "[41] \"founded date\"             \"Date Announced\"          \n",
              "[43] \"Target Age\"               \"score\"                   \n",
              "[45] \"operating status\"         \"number of founders\"      \n",
              "[47] \"score.1\"                  \"number of emploeeys\"     \n",
              "[49] \"score.2\"                  \"number of lead investors\"\n",
              "[51] \"score.3\"                  \"number of investors\"     \n",
              "[53] \"Unnamed: 14\"              \"number of funding rounds\"\n",
              "[55] \"score.4\"                  \"last funding date\"       \n",
              "[57] \"last funding type\"        \"last equity funding\"     \n",
              "[59] \"score.5\"                  \"last equity funding type\"\n",
              "[61] \"score.6\"                  \"last funding amount\"     \n",
              "[63] \"estimated revenue range\"  \"total funding amount\"    \n",
              "[65] \"score.7\"                  \"link-accent 9\"           \n",
              "[67] \"link-accent 10\"           \"link-accent 11\"          \n",
              "[69] \"link-accent 12\"           \"link-accent 13\"          \n",
              "[71] \"patent granted\"           \"Score\"                   \n",
              "[73] \"traid marks\"              \"score.8\"                 \n",
              "[75] \"Total score\"             "
            ]
          },
          "metadata": {}
        }
      ]
    },
    {
      "cell_type": "code",
      "source": [
        "\n",
        "form <- lgaspcar ~ lincomep + lrpmg + lcarpcap\n",
        "wi <- plm(form, data = Gasoline, model = \"within\")\n",
        "re <- plm(form, data = Gasoline, model = \"random\")\n",
        "phtest(wi, re)"
      ],
      "metadata": {
        "id": "oxb6ozVY5ouv"
      },
      "execution_count": null,
      "outputs": []
    },
    {
      "cell_type": "code",
      "source": [
        "if(!require('gap')) {\n",
        "  install.packages('gap')\n",
        "  library('gap')\n",
        "}"
      ],
      "metadata": {
        "colab": {
          "base_uri": "https://localhost:8080/"
        },
        "id": "hrZsqdisqJmm",
        "outputId": "f7f7e52d-d021-49c2-db87-3622f6d3cbca"
      },
      "execution_count": null,
      "outputs": [
        {
          "output_type": "stream",
          "name": "stderr",
          "text": [
            "Loading required package: gap\n",
            "\n",
            "Warning message in library(package, lib.loc = lib.loc, character.only = TRUE, logical.return = TRUE, :\n",
            "“there is no package called ‘gap’”\n",
            "Installing package into ‘/usr/local/lib/R/site-library’\n",
            "(as ‘lib’ is unspecified)\n",
            "\n",
            "also installing the dependencies ‘later’, ‘htmlwidgets’, ‘lazyeval’, ‘crosstalk’, ‘promises’, ‘gap.datasets’, ‘plotly’\n",
            "\n",
            "\n",
            "Loading required package: gap.datasets\n",
            "\n",
            "gap version 1.5-1\n",
            "\n"
          ]
        }
      ]
    },
    {
      "cell_type": "code",
      "source": [
        "chow_test <- chow.test(total$\"Total score\", total$'CAR_Window_1',total_13$\"Total score\", total_13$'CAR_Window_1')\n",
        "\n",
        "# Print the results\n",
        "print(chow_test)"
      ],
      "metadata": {
        "colab": {
          "base_uri": "https://localhost:8080/"
        },
        "id": "XjByGC8zpNEd",
        "outputId": "2eeaf85e-5062-4383-b649-30800734b602"
      },
      "execution_count": null,
      "outputs": [
        {
          "output_type": "stream",
          "name": "stdout",
          "text": [
            "     F value        d.f.1        d.f.2      P value \n",
            "7.777720e+01 2.000000e+00 5.360000e+02 2.201422e-30 \n"
          ]
        }
      ]
    },
    {
      "cell_type": "code",
      "source": [
        "chow_test <- chow.test(total$\"Tone\", total$'CAR_Window_3',total_13_20$\"Total score\", total_13_20$'CAR_Window_1')\n",
        "\n",
        "# Print the results\n",
        "print(chow_test)"
      ],
      "metadata": {
        "colab": {
          "base_uri": "https://localhost:8080/"
        },
        "id": "Jbe3ajlvx1Ex",
        "outputId": "745a66e5-3420-4a8d-87eb-6062bc623c99"
      },
      "execution_count": null,
      "outputs": [
        {
          "output_type": "stream",
          "name": "stdout",
          "text": [
            "    F value       d.f.1       d.f.2     P value \n",
            "  0.7416779   2.0000000 519.0000000   0.4768182 \n"
          ]
        }
      ]
    },
    {
      "cell_type": "code",
      "source": [
        "chow_test <- sctest(model_combined, model_group1, model_group2, model_group3,  type = \"Chow\")"
      ],
      "metadata": {
        "id": "KqE0Xqu-1u38"
      },
      "execution_count": null,
      "outputs": []
    },
    {
      "cell_type": "code",
      "source": [
        "colnames(df)"
      ],
      "metadata": {
        "id": "tk0t6TGlvSK1",
        "colab": {
          "base_uri": "https://localhost:8080/",
          "height": 82
        },
        "outputId": "486f2ef1-eaf8-4e00-e9a4-f8567c6deb9b"
      },
      "execution_count": null,
      "outputs": [
        {
          "output_type": "display_data",
          "data": {
            "text/html": [
              "<style>\n",
              ".list-inline {list-style: none; margin:0; padding: 0}\n",
              ".list-inline>li {display: inline-block}\n",
              ".list-inline>li:not(:last-child)::after {content: \"\\00b7\"; padding: 0 .5ex}\n",
              "</style>\n",
              "<ol class=list-inline><li>'X'</li><li>'index'</li><li>'CC.ID'</li><li>'Script.ID'</li><li>'Participant'</li><li>'Speech'</li><li>'summary'</li><li>'tone'</li><li>'Tickers'</li><li>'Fiscal.Quarter'</li><li>'Date'</li><li>'Cusip_2'</li><li>'index.1'</li><li>'ResType'</li><li>'X_weight_'</li><li>'PERMNO'</li><li>'CRSPDay'</li><li>'EventDat'</li><li>'X_int_id_'</li><li>'Request_File_CUSIP'</li><li>'CUSIP'</li><li>'Name'</li><li>'N_ar1'</li><li>'CAR_Window_1'</li><li>'SCAR1'</li><li>'CAR_WLS_Weight1'</li><li>'N_ar2'</li><li>'CAR_Window_2'</li><li>'SCAR2'</li><li>'CAR_WLS_Weight2'</li><li>'N_ar3'</li><li>'CAR_Window_3'</li><li>'SCAR3'</li><li>'CAR_WLS_Weight3'</li><li>'N_ar4'</li><li>'CAR_Window_4'</li><li>'SCAR4'</li><li>'CAR_WLS_Weight4'</li><li>'N_ar5'</li><li>'CAR_Window_5'</li><li>'SCAR5'</li><li>'CAR_WLS_Weight5'</li><li>'Company'</li><li>'Adj.Close'</li><li>'Volume'</li></ol>\n"
            ],
            "text/markdown": "1. 'X'\n2. 'index'\n3. 'CC.ID'\n4. 'Script.ID'\n5. 'Participant'\n6. 'Speech'\n7. 'summary'\n8. 'tone'\n9. 'Tickers'\n10. 'Fiscal.Quarter'\n11. 'Date'\n12. 'Cusip_2'\n13. 'index.1'\n14. 'ResType'\n15. 'X_weight_'\n16. 'PERMNO'\n17. 'CRSPDay'\n18. 'EventDat'\n19. 'X_int_id_'\n20. 'Request_File_CUSIP'\n21. 'CUSIP'\n22. 'Name'\n23. 'N_ar1'\n24. 'CAR_Window_1'\n25. 'SCAR1'\n26. 'CAR_WLS_Weight1'\n27. 'N_ar2'\n28. 'CAR_Window_2'\n29. 'SCAR2'\n30. 'CAR_WLS_Weight2'\n31. 'N_ar3'\n32. 'CAR_Window_3'\n33. 'SCAR3'\n34. 'CAR_WLS_Weight3'\n35. 'N_ar4'\n36. 'CAR_Window_4'\n37. 'SCAR4'\n38. 'CAR_WLS_Weight4'\n39. 'N_ar5'\n40. 'CAR_Window_5'\n41. 'SCAR5'\n42. 'CAR_WLS_Weight5'\n43. 'Company'\n44. 'Adj.Close'\n45. 'Volume'\n\n\n",
            "text/latex": "\\begin{enumerate*}\n\\item 'X'\n\\item 'index'\n\\item 'CC.ID'\n\\item 'Script.ID'\n\\item 'Participant'\n\\item 'Speech'\n\\item 'summary'\n\\item 'tone'\n\\item 'Tickers'\n\\item 'Fiscal.Quarter'\n\\item 'Date'\n\\item 'Cusip\\_2'\n\\item 'index.1'\n\\item 'ResType'\n\\item 'X\\_weight\\_'\n\\item 'PERMNO'\n\\item 'CRSPDay'\n\\item 'EventDat'\n\\item 'X\\_int\\_id\\_'\n\\item 'Request\\_File\\_CUSIP'\n\\item 'CUSIP'\n\\item 'Name'\n\\item 'N\\_ar1'\n\\item 'CAR\\_Window\\_1'\n\\item 'SCAR1'\n\\item 'CAR\\_WLS\\_Weight1'\n\\item 'N\\_ar2'\n\\item 'CAR\\_Window\\_2'\n\\item 'SCAR2'\n\\item 'CAR\\_WLS\\_Weight2'\n\\item 'N\\_ar3'\n\\item 'CAR\\_Window\\_3'\n\\item 'SCAR3'\n\\item 'CAR\\_WLS\\_Weight3'\n\\item 'N\\_ar4'\n\\item 'CAR\\_Window\\_4'\n\\item 'SCAR4'\n\\item 'CAR\\_WLS\\_Weight4'\n\\item 'N\\_ar5'\n\\item 'CAR\\_Window\\_5'\n\\item 'SCAR5'\n\\item 'CAR\\_WLS\\_Weight5'\n\\item 'Company'\n\\item 'Adj.Close'\n\\item 'Volume'\n\\end{enumerate*}\n",
            "text/plain": [
              " [1] \"X\"                  \"index\"              \"CC.ID\"             \n",
              " [4] \"Script.ID\"          \"Participant\"        \"Speech\"            \n",
              " [7] \"summary\"            \"tone\"               \"Tickers\"           \n",
              "[10] \"Fiscal.Quarter\"     \"Date\"               \"Cusip_2\"           \n",
              "[13] \"index.1\"            \"ResType\"            \"X_weight_\"         \n",
              "[16] \"PERMNO\"             \"CRSPDay\"            \"EventDat\"          \n",
              "[19] \"X_int_id_\"          \"Request_File_CUSIP\" \"CUSIP\"             \n",
              "[22] \"Name\"               \"N_ar1\"              \"CAR_Window_1\"      \n",
              "[25] \"SCAR1\"              \"CAR_WLS_Weight1\"    \"N_ar2\"             \n",
              "[28] \"CAR_Window_2\"       \"SCAR2\"              \"CAR_WLS_Weight2\"   \n",
              "[31] \"N_ar3\"              \"CAR_Window_3\"       \"SCAR3\"             \n",
              "[34] \"CAR_WLS_Weight3\"    \"N_ar4\"              \"CAR_Window_4\"      \n",
              "[37] \"SCAR4\"              \"CAR_WLS_Weight4\"    \"N_ar5\"             \n",
              "[40] \"CAR_Window_5\"       \"SCAR5\"              \"CAR_WLS_Weight5\"   \n",
              "[43] \"Company\"            \"Adj.Close\"          \"Volume\"            "
            ]
          },
          "metadata": {}
        }
      ]
    },
    {
      "cell_type": "code",
      "source": [
        "twfe <- felm(CAR_Window_1 ~ df$\"tone\"+df$'Volume' + df$'Adj.Close'| CUSIP | 0 | CUSIP + Date, df)\n",
        "summary(twfe)"
      ],
      "metadata": {
        "id": "PHpcOxCQN7Uu",
        "outputId": "151ef219-877c-4808-e548-2ad05b158c34",
        "colab": {
          "base_uri": "https://localhost:8080/",
          "height": 411
        }
      },
      "execution_count": null,
      "outputs": [
        {
          "output_type": "display_data",
          "data": {
            "text/plain": [
              "\n",
              "Call:\n",
              "   felm(formula = CAR_Window_1 ~ df$tone + df$Volume + df$Adj.Close |      CUSIP | 0 | CUSIP + Date, data = df) \n",
              "\n",
              "Residuals:\n",
              "      Min        1Q    Median        3Q       Max \n",
              "-0.151867 -0.023314  0.000658  0.025551  0.121910 \n",
              "\n",
              "Coefficients:\n",
              "                  Estimate Cluster s.e. t value Pr(>|t|)    \n",
              "df$toneNegative -6.470e-03    7.128e-03  -0.908 0.371283    \n",
              "df$tonePositive  4.684e-03    1.099e-03   4.261 0.000185 ***\n",
              "df$Volume        1.719e-10    2.946e-10   0.584 0.563891    \n",
              "df$Adj.Close     3.526e-05    5.423e-05   0.650 0.520501    \n",
              "---\n",
              "Signif. codes:  0 ‘***’ 0.001 ‘**’ 0.01 ‘*’ 0.05 ‘.’ 0.1 ‘ ’ 1\n",
              "\n",
              "Residual standard error: 0.04849 on 182 degrees of freedom\n",
              "  (7 observations deleted due to missingness)\n",
              "Multiple R-squared(full model): 0.1852   Adjusted R-squared: 0.03302 \n",
              "Multiple R-squared(proj model): 0.009677   Adjusted R-squared: -0.1753 \n",
              "F-statistic(full model, *iid*):1.217 on 34 and 182 DF, p-value: 0.2067 \n",
              "F-statistic(proj model): 31.45 on 4 and 30 DF, p-value: 2.433e-10 \n",
              "\n"
            ]
          },
          "metadata": {}
        }
      ]
    },
    {
      "cell_type": "code",
      "source": [
        "twfe <- felm(CAR_Window_3 ~ df$\"tone\"+df$'Volume' + df$'Adj.Close'| CUSIP | 0 | CUSIP + Date, df)\n",
        "summary(twfe)"
      ],
      "metadata": {
        "colab": {
          "base_uri": "https://localhost:8080/",
          "height": 411
        },
        "id": "l_918F4uEz5o",
        "outputId": "2ca0fe22-f1b5-4c05-e328-80306bb0b659"
      },
      "execution_count": null,
      "outputs": [
        {
          "output_type": "display_data",
          "data": {
            "text/plain": [
              "\n",
              "Call:\n",
              "   felm(formula = CAR_Window_3 ~ df$tone + df$Volume + df$Adj.Close |      CUSIP | 0 | CUSIP + Date, data = df) \n",
              "\n",
              "Residuals:\n",
              "      Min        1Q    Median        3Q       Max \n",
              "-0.235370 -0.047995  0.001162  0.047713  0.216275 \n",
              "\n",
              "Coefficients:\n",
              "                  Estimate Cluster s.e. t value Pr(>|t|)    \n",
              "df$toneNegative  1.974e-01    1.576e-02  12.523 1.91e-13 ***\n",
              "df$tonePositive  1.873e-01    2.474e-03  75.697  < 2e-16 ***\n",
              "df$Volume        1.598e-11    5.337e-10   0.030  0.97631    \n",
              "df$Adj.Close    -2.178e-04    6.877e-05  -3.167  0.00353 ** \n",
              "---\n",
              "Signif. codes:  0 ‘***’ 0.001 ‘**’ 0.01 ‘*’ 0.05 ‘.’ 0.1 ‘ ’ 1\n",
              "\n",
              "Residual standard error: 0.08702 on 182 degrees of freedom\n",
              "  (7 observations deleted due to missingness)\n",
              "Multiple R-squared(full model): 0.2161   Adjusted R-squared: 0.06969 \n",
              "Multiple R-squared(proj model): 0.04118   Adjusted R-squared: -0.1379 \n",
              "F-statistic(full model, *iid*):1.476 on 34 and 182 DF, p-value: 0.05543 \n",
              "F-statistic(proj model):  2398 on 4 and 30 DF, p-value: < 2.2e-16 \n",
              "\n"
            ]
          },
          "metadata": {}
        }
      ]
    },
    {
      "cell_type": "code",
      "source": [
        "twfe <- felm(CAR_Window_2 ~ df$\"tone\"+df$'Volume' + df$'Adj.Close'| CUSIP | 0 | CUSIP + Date, df)\n",
        "summary(twfe)"
      ],
      "metadata": {
        "colab": {
          "base_uri": "https://localhost:8080/",
          "height": 411
        },
        "id": "PdYXMCqaHcU3",
        "outputId": "7ee9f720-e544-4171-876c-0485cb933fbe"
      },
      "execution_count": null,
      "outputs": [
        {
          "output_type": "display_data",
          "data": {
            "text/plain": [
              "\n",
              "Call:\n",
              "   felm(formula = CAR_Window_2 ~ df$tone + df$Volume + df$Adj.Close |      CUSIP | 0 | CUSIP + Date, data = df) \n",
              "\n",
              "Residuals:\n",
              "     Min       1Q   Median       3Q      Max \n",
              "-0.19007 -0.03463  0.00224  0.03743  0.18318 \n",
              "\n",
              "Coefficients:\n",
              "                  Estimate Cluster s.e. t value Pr(>|t|)    \n",
              "df$toneNegative  2.788e-02    8.146e-03   3.422  0.00181 ** \n",
              "df$tonePositive  2.647e-02    2.371e-03  11.162 3.33e-12 ***\n",
              "df$Volume        1.721e-10    3.586e-10   0.480  0.63465    \n",
              "df$Adj.Close    -1.091e-04    6.876e-05  -1.587  0.12298    \n",
              "---\n",
              "Signif. codes:  0 ‘***’ 0.001 ‘**’ 0.01 ‘*’ 0.05 ‘.’ 0.1 ‘ ’ 1\n",
              "\n",
              "Residual standard error: 0.05885 on 182 degrees of freedom\n",
              "  (7 observations deleted due to missingness)\n",
              "Multiple R-squared(full model): 0.1942   Adjusted R-squared: 0.04366 \n",
              "Multiple R-squared(proj model): 0.01622   Adjusted R-squared: -0.1676 \n",
              "F-statistic(full model, *iid*): 1.29 on 34 and 182 DF, p-value: 0.147 \n",
              "F-statistic(proj model): 40.11 on 4 and 30 DF, p-value: 1.244e-11 \n",
              "\n"
            ]
          },
          "metadata": {}
        }
      ]
    },
    {
      "cell_type": "code",
      "source": [
        "twfe <- felm(CAR_Window_4 ~ df$\"tone\"+df$'Volume' + df$'Adj.Close'| CUSIP | 0 | CUSIP + Date, df)\n",
        "summary(twfe)"
      ],
      "metadata": {
        "colab": {
          "base_uri": "https://localhost:8080/",
          "height": 411
        },
        "id": "g7QBjJOlHpG9",
        "outputId": "5d92e1ec-f3a1-41e4-ce4c-e1ce544f6890"
      },
      "execution_count": null,
      "outputs": [
        {
          "output_type": "display_data",
          "data": {
            "text/plain": [
              "\n",
              "Call:\n",
              "   felm(formula = CAR_Window_4 ~ df$tone + df$Volume + df$Adj.Close |      CUSIP | 0 | CUSIP + Date, data = df) \n",
              "\n",
              "Residuals:\n",
              "      Min        1Q    Median        3Q       Max \n",
              "-0.152719 -0.024964  0.001403  0.036748  0.151141 \n",
              "\n",
              "Coefficients:\n",
              "                  Estimate Cluster s.e. t value Pr(>|t|)  \n",
              "df$toneNegative -1.158e-02    6.789e-03  -1.706   0.0984 .\n",
              "df$tonePositive  3.260e-03    1.592e-03   2.048   0.0494 *\n",
              "df$Volume        1.454e-10    3.174e-10   0.458   0.6501  \n",
              "df$Adj.Close     3.416e-05    8.533e-05   0.400   0.6918  \n",
              "---\n",
              "Signif. codes:  0 ‘***’ 0.001 ‘**’ 0.01 ‘*’ 0.05 ‘.’ 0.1 ‘ ’ 1\n",
              "\n",
              "Residual standard error: 0.05202 on 182 degrees of freedom\n",
              "  (7 observations deleted due to missingness)\n",
              "Multiple R-squared(full model): 0.1941   Adjusted R-squared: 0.04353 \n",
              "Multiple R-squared(proj model): 0.01228   Adjusted R-squared: -0.1722 \n",
              "F-statistic(full model, *iid*):1.289 on 34 and 182 DF, p-value: 0.1477 \n",
              "F-statistic(proj model): 9.111 on 4 and 30 DF, p-value: 6.098e-05 \n",
              "\n"
            ]
          },
          "metadata": {}
        }
      ]
    },
    {
      "cell_type": "code",
      "source": [
        "twfe <- felm(CAR_Window_5 ~ df$\"tone\"+df$'Volume' + df$'Adj.Close'| CUSIP | 0 | CUSIP + Date, df)\n",
        "summary(twfe)"
      ],
      "metadata": {
        "colab": {
          "base_uri": "https://localhost:8080/",
          "height": 411
        },
        "id": "q-Vfjov9E6NO",
        "outputId": "dab47f24-82a4-4283-8718-6296869930b8"
      },
      "execution_count": null,
      "outputs": [
        {
          "output_type": "display_data",
          "data": {
            "text/plain": [
              "\n",
              "Call:\n",
              "   felm(formula = CAR_Window_5 ~ df$tone + df$Volume + df$Adj.Close |      CUSIP | 0 | CUSIP + Date, data = df) \n",
              "\n",
              "Residuals:\n",
              "      Min        1Q    Median        3Q       Max \n",
              "-0.188562 -0.027862  0.000942  0.033284  0.135309 \n",
              "\n",
              "Coefficients:\n",
              "                  Estimate Cluster s.e. t value Pr(>|t|)   \n",
              "df$toneNegative -2.320e-02    7.054e-03  -3.290  0.00257 **\n",
              "df$tonePositive -5.413e-03    2.036e-03  -2.659  0.01246 * \n",
              "df$Volume        2.531e-10    3.466e-10   0.730  0.47089   \n",
              "df$Adj.Close     3.694e-05    1.075e-04   0.344  0.73360   \n",
              "---\n",
              "Signif. codes:  0 ‘***’ 0.001 ‘**’ 0.01 ‘*’ 0.05 ‘.’ 0.1 ‘ ’ 1\n",
              "\n",
              "Residual standard error: 0.05648 on 182 degrees of freedom\n",
              "  (7 observations deleted due to missingness)\n",
              "Multiple R-squared(full model): 0.2257   Adjusted R-squared: 0.08108 \n",
              "Multiple R-squared(proj model): 0.01639   Adjusted R-squared: -0.1674 \n",
              "F-statistic(full model, *iid*):1.561 on 34 and 182 DF, p-value: 0.03403 \n",
              "F-statistic(proj model):  5.91 on 4 and 30 DF, p-value: 0.001247 \n",
              "\n"
            ]
          },
          "metadata": {}
        }
      ]
    }
  ]
}