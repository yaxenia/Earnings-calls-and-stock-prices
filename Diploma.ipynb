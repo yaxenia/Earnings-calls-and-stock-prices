{
  "nbformat": 4,
  "nbformat_minor": 0,
  "metadata": {
    "colab": {
      "provenance": []
    },
    "kernelspec": {
      "name": "python3",
      "display_name": "Python 3"
    },
    "language_info": {
      "name": "python"
    }
  },
  "cells": [
    {
      "cell_type": "code",
      "source": [
        "import pandas as pd\n",
        "import numpy as np\n",
        "import nltk\n",
        "import string\n",
        "import re\n",
        "from nltk.corpus import stopwords\n",
        "from nltk.tokenize import word_tokenize"
      ],
      "metadata": {
        "id": "FpUNROvDPcAO"
      },
      "execution_count": null,
      "outputs": []
    },
    {
      "cell_type": "code",
      "source": [
        "nltk.download('stopwords')\n",
        "stop_words = stopwords.words('english')"
      ],
      "metadata": {
        "colab": {
          "base_uri": "https://localhost:8080/"
        },
        "id": "YzTH9oY6Pfg9",
        "outputId": "f6c29854-0dea-4506-b1ca-241a8c721721"
      },
      "execution_count": null,
      "outputs": [
        {
          "output_type": "stream",
          "name": "stderr",
          "text": [
            "[nltk_data] Downloading package stopwords to /root/nltk_data...\n",
            "[nltk_data]   Unzipping corpora/stopwords.zip.\n"
          ]
        }
      ]
    },
    {
      "cell_type": "code",
      "source": [
        "def remove_chars_from_text(text, chars):\n",
        "    return \"\".join([ch for ch in text if ch not in chars])"
      ],
      "metadata": {
        "id": "HjCFVQhBPomf"
      },
      "execution_count": null,
      "outputs": []
    },
    {
      "cell_type": "code",
      "execution_count": null,
      "metadata": {
        "id": "NwoIwpw9PSCU"
      },
      "outputs": [],
      "source": [
        "def data_pre_processing(text):\n",
        "  spec_chars = string.punctuation\n",
        "  text = text.apply(lambda x : remove_chars_from_text(x,spec_chars)) #remove punctuations\n",
        "  text = text.apply(lambda x : re.sub(r'\\n',\" \",x)) #remove punctuations\n",
        "  text.message.apply(lambda x : x.lower()) #makes letter lower\n",
        "  STOPWORDS = set(stopwords.words('english'))\n",
        "  text.message  = text.message.apply(lambda x : ' '.join(word for word in x.split() if word not in STOPWORDS)) # delete stopwords\n",
        "  return text\n"
      ]
    },
    {
      "cell_type": "code",
      "source": [
        "#import the libraries as needed\n",
        "import os\n",
        "import re\n",
        "import time\n",
        "import csv\n",
        "import random\n",
        "import requests\n",
        "from bs4 import BeautifulSoup\n",
        "from selenium import webdriver\n",
        "from datetime import date, timedelta, datetime\n",
        "from urllib.request import urlopen\n",
        "import pandas as pd\n",
        "import numpy as np\n",
        "from time import sleep\n",
        "from random import randint\n",
        "from selenium import webdriver\n",
        "from selenium.webdriver.common.keys import Keys\n",
        "from selenium.webdriver.chrome.options import Options\n",
        "from fake_useragent import UserAgent"
      ],
      "metadata": {
        "id": "zAW0SZsgU2Gt"
      },
      "execution_count": null,
      "outputs": []
    },
    {
      "cell_type": "code",
      "source": [
        "pip install selenium"
      ],
      "metadata": {
        "id": "v2t8azlich_W"
      },
      "execution_count": null,
      "outputs": []
    },
    {
      "cell_type": "code",
      "source": [
        "! pip install fake-useragent"
      ],
      "metadata": {
        "id": "czQ0xE0JU4aY"
      },
      "execution_count": null,
      "outputs": []
    },
    {
      "cell_type": "code",
      "source": [
        "pip install webdriver-manager\n"
      ],
      "metadata": {
        "colab": {
          "base_uri": "https://localhost:8080/"
        },
        "id": "TIFt3-CYcxTH",
        "outputId": "5d17543b-46b9-4ed8-8122-312ea4fb4f72"
      },
      "execution_count": null,
      "outputs": [
        {
          "output_type": "stream",
          "name": "stdout",
          "text": [
            "Looking in indexes: https://pypi.org/simple, https://us-python.pkg.dev/colab-wheels/public/simple/\n",
            "Collecting webdriver-manager\n",
            "  Downloading webdriver_manager-3.8.5-py2.py3-none-any.whl (27 kB)\n",
            "Collecting python-dotenv\n",
            "  Downloading python_dotenv-0.21.0-py3-none-any.whl (18 kB)\n",
            "Requirement already satisfied: tqdm in /usr/local/lib/python3.8/dist-packages (from webdriver-manager) (4.64.1)\n",
            "Requirement already satisfied: requests in /usr/local/lib/python3.8/dist-packages (from webdriver-manager) (2.25.1)\n",
            "Requirement already satisfied: packaging in /usr/local/lib/python3.8/dist-packages (from webdriver-manager) (21.3)\n",
            "Requirement already satisfied: pyparsing!=3.0.5,>=2.0.2 in /usr/local/lib/python3.8/dist-packages (from packaging->webdriver-manager) (3.0.9)\n",
            "Requirement already satisfied: chardet<5,>=3.0.2 in /usr/local/lib/python3.8/dist-packages (from requests->webdriver-manager) (4.0.0)\n",
            "Requirement already satisfied: urllib3<1.27,>=1.21.1 in /usr/local/lib/python3.8/dist-packages (from requests->webdriver-manager) (1.26.14)\n",
            "Requirement already satisfied: idna<3,>=2.5 in /usr/local/lib/python3.8/dist-packages (from requests->webdriver-manager) (2.10)\n",
            "Requirement already satisfied: certifi>=2017.4.17 in /usr/local/lib/python3.8/dist-packages (from requests->webdriver-manager) (2022.12.7)\n",
            "Installing collected packages: python-dotenv, webdriver-manager\n",
            "Successfully installed python-dotenv-0.21.0 webdriver-manager-3.8.5\n"
          ]
        }
      ]
    },
    {
      "cell_type": "code",
      "source": [
        "urls_list = []"
      ],
      "metadata": {
        "id": "-YBY6dpoe3uA"
      },
      "execution_count": 82,
      "outputs": []
    },
    {
      "cell_type": "code",
      "source": [
        "#Reset Tables\n",
        "ticker_data = []\n",
        "company_data = []\n",
        "title_data = []\n",
        "date_data = []\n",
        "time_data = []\n",
        "quarter_data = []\n",
        "company_info_table = []\n",
        "Speech_table = []\n",
        "QA_table = []\n",
        "Comp_part_table = []\n",
        "speech = []\n",
        "speaker = []\n",
        "QA_speech = []\n",
        "QA_speaker = []\n",
        "comp_parts = []\n",
        "comp_pos = []\n",
        "conf_parts = []\n",
        "conf_pos = []\n",
        "Conf_part_table = []\n",
        "comp_ccid = []\n",
        "speech_ccid = []\n",
        "QA_ccid = []\n",
        "comppart_ccid = []\n",
        "confpart_ccid = []\n",
        "speech_scriptid = []\n",
        "QA_scriptid = []\n",
        "comppart_partid = []\n",
        "confpart_partid = []\n",
        "test_list = []"
      ],
      "metadata": {
        "id": "MykVa0zydZJs"
      },
      "execution_count": 143,
      "outputs": []
    },
    {
      "cell_type": "code",
      "source": [],
      "metadata": {
        "id": "KDxun-8I3Sno"
      },
      "execution_count": null,
      "outputs": []
    },
    {
      "cell_type": "code",
      "source": [
        "def pullpageurls(siteurl):\n",
        "    url = 'https://seekingalpha.com/symbol/AAPL/earnings/transcripts'\n",
        "    #Pulling seeking alpha transcript search page\n",
        "    page = requests.get(url)\n",
        "    site_html = page.content\n",
        "    soup_site = BeautifulSoup(site_html,'html.parser')\n",
        "    sleep(random.randint(1,5))\n",
        "        #Pulling transcript urls from seeking alpha transcript search page\n",
        "    url_begin = 'https://seekingalpha.com/symbol/AAPL/earnings/transcripts'\n",
        "    site_content = soup_site.find_all('h3')\n",
        "        #Extracting url and placing into a list\n",
        "    for url in site_content:\n",
        "            url_pull = url.find('a',class_ = 'dashboard-article-link')\n",
        "            partial_url = url_pull.get('href')\n",
        "            pageURL = url_begin+partial_url\n",
        "            urls_list.append(pageURL)"
      ],
      "metadata": {
        "id": "SBcsTnSLuEtF"
      },
      "execution_count": 119,
      "outputs": []
    },
    {
      "cell_type": "code",
      "source": [
        "pullpageurls('https://seekingalpha.com/search?list=transcripts&q=appl&tab=headlines')"
      ],
      "metadata": {
        "id": "vyHMj-45xrmm"
      },
      "execution_count": 120,
      "outputs": []
    },
    {
      "cell_type": "code",
      "source": [
        "urls_list"
      ],
      "metadata": {
        "colab": {
          "base_uri": "https://localhost:8080/"
        },
        "id": "QlIMUQmhxeHC",
        "outputId": "fd877fe4-fad5-4eab-afdc-d45b69557d96"
      },
      "execution_count": 121,
      "outputs": [
        {
          "output_type": "execute_result",
          "data": {
            "text/plain": [
              "[]"
            ]
          },
          "metadata": {},
          "execution_count": 121
        }
      ]
    },
    {
      "cell_type": "code",
      "source": [
        "urls_list"
      ],
      "metadata": {
        "colab": {
          "base_uri": "https://localhost:8080/"
        },
        "id": "8Hk3vOcxxUfZ",
        "outputId": "05d2198d-d7f0-4be4-c3e5-5d528567db25"
      },
      "execution_count": 86,
      "outputs": [
        {
          "output_type": "execute_result",
          "data": {
            "text/plain": [
              "[]"
            ]
          },
          "metadata": {},
          "execution_count": 86
        }
      ]
    },
    {
      "cell_type": "code",
      "source": [
        "# https://github.com/RCJansonVTFL/SeekingAlphaWebScrape\n",
        "\n",
        "from selenium import webdriver\n",
        "from webdriver_manager.chrome import ChromeDriverManager\n",
        "\n",
        "#driver = webdriver.Chrome(executable_path=\"/content/chromedriver\")\n",
        "headers = {'User-Agent':'Mozilla/5.0 (Windows NT 6.1; WOW64; rv:50.0) Gecko/20100101 Firefox/50.0'}\n",
        "urls = [\"https://seekingalpha.com/article/4550156-apple-inc-aapl-q4-2022-earnings-call-transcript\",\"https://seekingalpha.com/article/4527231-apple-inc-aapl-ceo-tim-cook-on-q3-2022-results-earnings-call-transcript\",\"https://seekingalpha.com/article/4504834-apple-inc-aapl-ceo-tim-cook-on-q2-2022-results-earnings-call-transcript\", \"https://seekingalpha.com/article/4482308-apple-inc-aapl-ceo-tim-cook-on-q1-2022-results-earnings-call-transcript\", \"https://seekingalpha.com/article/4463261-apple-inc-aapl-ceo-tim-cook-on-q4-2021-results-earnings-call-transcript\", \"https://seekingalpha.com/article/4441901-apple-inc-aapl-ceo-tim-cook-on-q3-2021-results-earnings-call-transcript\", \"https://seekingalpha.com/article/4422230-apple-inc-aapl-ceo-tim-cook-on-q2-2021-results-earnings-call-transcript\", \"https://seekingalpha.com/article/4401478-apple-inc-aapl-ceo-tim-cook-on-q1-2021-results-earnings-call-transcript\"]\n",
        "\n",
        "try:\n",
        "        counter = company_info_table['CC ID'].iloc[-1] + 1\n",
        "        counter2 = QA_table['Script ID'].iloc[-1] + 1\n",
        "        counter3 = Conf_part_table['Part ID'].iloc[-1] + 1\n",
        "except:\n",
        "        counter = 0\n",
        "        counter2 = 0\n",
        "        counter3 = 0\n",
        "for i in urls:\n",
        "  page = requests.get(i)\n",
        "  soup = BeautifulSoup(page.content, 'lxml')\n",
        "#call = soup.find('div',id = 'content-rail')\n",
        "            #Testing if URL contains necessary elements\n",
        "  test_list = []\n",
        "  call = soup.find(\"div\", {\"class\": \"ks-mH\"})\n",
        "  test = call.find_all('p')\n",
        "  for c in test:\n",
        "                x = c.text.strip()\n",
        "                test_list.append(x)\n",
        "  if ('Operator' in test_list) and ('Company Participants' in test_list):\n",
        "                #Basic Company Info Section\n",
        "                #Create cc_id\n",
        "                cc_id = counter\n",
        "                #Find company ticker\n",
        "                try:\n",
        "                    ticker = call.find('a').text.split(\" \")[-1]\n",
        "                    ticker_data.append(ticker)\n",
        "                except:\n",
        "                    ticker_data.append('None')\n",
        "                #Find company name\n",
        "                try:\n",
        "                    company = call.find('a').text.split(\" \")[0:-1]\n",
        "                    company = \" \".join(company)\n",
        "                    company_data.append(company)\n",
        "                except:\n",
        "                    company_data.append('None')\n",
        "                #Find call title\n",
        "                try:\n",
        "                    title = call.find('h1').text\n",
        "                    title_data.append(title)\n",
        "                except:\n",
        "                    title_data.append('None')\n",
        "                #Find quarter/year\n",
        "                try:\n",
        "                    date_text = call.find('p').text.split(') ')[1]\n",
        "                    quarter = date_text[0:7]\n",
        "                    quarter_data.append(quarter)\n",
        "                except:\n",
        "                    quarter_data.append('None')\n",
        "                #Find call date\n",
        "                try:\n",
        "                    date_string = date_text[date_text.index('Call')+5:].split(\"Call \")[0]\n",
        "                    date = date_string[:date_string.index(\":\")-2].strip()\n",
        "                    date_data.append(date)\n",
        "                except:\n",
        "                    date_data.append('None')\n",
        "                #Find call time\n",
        "                try:\n",
        "                    time = date_string[date_string.index(\":\")-2:].strip()\n",
        "                    time_data.append(time)\n",
        "                except:\n",
        "                    time_data.append('None')\n",
        "                #Add CC ID\n",
        "                comp_ccid.append(cc_id)\n",
        "        #Speech and Company Participants Section\n",
        "                bj = []\n",
        "                indices = []\n",
        "                convo = []\n",
        "                #Pull speech script section\n",
        "                script = call.find_all('p')\n",
        "                #pull strong tags from speech script section\n",
        "                for i in script:\n",
        "                    if i.find('strong') is not None:\n",
        "                        g = \"strong\"\n",
        "                    else:\n",
        "                        g = 0\n",
        "                    bj.append(g)\n",
        "                #Create list of index position of strong tags\n",
        "                for j in range(len(bj)):\n",
        "                    if bj[j] == 'strong':\n",
        "                      indices.append(j)\n",
        "                #Create list of text from speech script\n",
        "                for k in script:\n",
        "                    x = k.text.strip()\n",
        "                    convo.append(x)\n",
        "                #Create script ID & Participant ID\n",
        "                script_id = counter2\n",
        "                part_id = counter3\n",
        "                #Create index objects to find positions of speech & participant sections\n",
        "                conf_part_index = convo[convo.index('Conference Call Participants')+1:convo.index('Operator')]\n",
        "                try:\n",
        "                    speech_index = indices[0:indices.index(convo.index('Question-and-Answer Session'))]\n",
        "                except:\n",
        "                    speech_index = indices[0:indices.index(convo.index('Question-And-Answer Session'))]\n",
        "                try:\n",
        "                    QA_index = indices[indices.index(convo.index('Question-and-Answer Session'))+1:]\n",
        "                except:\n",
        "                    QA_index = indices[indices.index(convo.index('Question-And-Answer Session'))+1:]\n",
        "                try:\n",
        "                    comp_part_index = convo[convo.index('Company Participants')+1:convo.index('Conference Call Participants')]\n",
        "                except:\n",
        "                    comp_part_index = convo[convo.index('Corporate Participants')+1:convo.index('Conference Call Participants')]\n",
        "                #Pulling info from speech section\n",
        "                for i in range(2,len(speech_index)-1):\n",
        "                    try:\n",
        "                        z = convo[speech_index[i]+1:speech_index[i+1]]\n",
        "                        speech.append(z)\n",
        "                    except:\n",
        "                        speech.append('None')\n",
        "                    try:\n",
        "                        g = convo[speech_index[i]]\n",
        "                        speaker.append(g)\n",
        "                    except:\n",
        "                        speaker.append('None')\n",
        "                    #Add CC ID & Script ID\n",
        "                    speech_ccid.append(cc_id)\n",
        "                    speech_scriptid.append(script_id)\n",
        "                counter2 += 1\n",
        "                script_id = counter2\n",
        "                #Pulling info from Q&A section\n",
        "                for i in range(0,len(QA_index)-1):\n",
        "                    try:\n",
        "                        q = convo[QA_index[i]+1:QA_index[i+1]]\n",
        "                        QA_speech.append(q)\n",
        "                    except:\n",
        "                        QA_speech.append('None')\n",
        "                    try:\n",
        "                        f = convo[QA_index[i]]\n",
        "                        QA_speaker.append(f)\n",
        "                    except:\n",
        "                        QA_speaker.append('None')\n",
        "                    #Add CC ID & Script ID\n",
        "                    QA_ccid.append(cc_id)\n",
        "                    QA_scriptid.append(script_id)\n",
        "                counter2 += 1\n",
        "                script_id = counter2\n",
        "                #Pulling company participants\n",
        "                for i in comp_part_index:\n",
        "                    x = i.split('-')\n",
        "                    try:\n",
        "                        a = x[0]\n",
        "                        comp_parts.append(a)\n",
        "                    except:\n",
        "                        comp_parts.append('None')\n",
        "                    try:\n",
        "                        b = x[1]\n",
        "                        comp_pos.append(b)\n",
        "                    except:\n",
        "                        comp_pos.append('None')\n",
        "                    #Add CC ID & Part ID\n",
        "                    comppart_ccid.append(cc_id)\n",
        "                    comppart_partid.append(part_id)\n",
        "                    counter3 += 1\n",
        "                    part_id = counter3\n",
        "                #Pulling conference participants\n",
        "                for i in conf_part_index:\n",
        "                    x = i.split('-')\n",
        "                    try:\n",
        "                        a = x[0]\n",
        "                        conf_parts.append(a)\n",
        "                    except:\n",
        "                        conf_parts.append('None')\n",
        "                    try:\n",
        "                        b = x[1]\n",
        "                        conf_pos.append(b)\n",
        "                    except:\n",
        "                        conf_pos.append('None')\n",
        "                    #Add CC ID & Part ID\n",
        "                    confpart_ccid.append(cc_id)\n",
        "                    confpart_partid.append(part_id)\n",
        "                    counter3 += 1\n",
        "                    part_id = counter3\n",
        "                #Add to CC ID\n",
        "                counter += 1\n",
        "#else:\n",
        "                #continue\n",
        "        #Pause in between trying each call transcript\n",
        "sleep(random.randint(1,2))"
      ],
      "metadata": {
        "id": "bQLLlgqHc6m8"
      },
      "execution_count": 144,
      "outputs": []
    },
    {
      "cell_type": "code",
      "source": [
        "#Create tables\n",
        "\n",
        "#Create company info table\n",
        "company_info_table = pd.DataFrame({'CC ID':comp_ccid,'Tickers':ticker_data,'Company':company_data,'Call Title':title_data,'Fiscal Quarter':quarter_data,'Date':date_data,'Time':time_data})\n",
        "#Create Speech table\n",
        "Speech_table = pd.DataFrame({'CC ID':speech_ccid,'Script ID':speech_scriptid,'Participant':speaker,'Speech':speech,'Section':'Speech'})\n",
        "#Create Q&A table\n",
        "QA_table = pd.DataFrame({'CC ID':QA_ccid,'Script ID':QA_scriptid,'Participant':QA_speaker,'Speech':QA_speech,'Section':'Q&A'})\n",
        "#Create Company participant table\n",
        "Comp_part_table = pd.DataFrame({'CC ID':comppart_ccid,'Part ID':comppart_partid,'Participant':comp_parts,'Position':comp_pos,'Organization':'None','Participant Type':'Internal'})\n",
        "#Create Conference participant table\n",
        "Conf_part_table = pd.DataFrame({'CC ID':confpart_ccid,'Part ID':confpart_partid,'Participant':conf_parts,'Position':'None','Organization':conf_pos,'Participant Type':'External'})"
      ],
      "metadata": {
        "id": "Zb4GHVnfrI03"
      },
      "execution_count": 145,
      "outputs": []
    },
    {
      "cell_type": "code",
      "source": [
        "company_info_table"
      ],
      "metadata": {
        "colab": {
          "base_uri": "https://localhost:8080/",
          "height": 297
        },
        "id": "P6n4XEPesrB8",
        "outputId": "ac1c7081-6ad2-4329-e5a7-be2f1320c1b2"
      },
      "execution_count": 146,
      "outputs": [
        {
          "output_type": "execute_result",
          "data": {
            "text/plain": [
              "   CC ID Tickers Company Call Title Fiscal Quarter              Date  \\\n",
              "0      0    AAPL               None        Q4 2022  October 27, 2022   \n",
              "1      1    AAPL               None        Q3 2022     July 28, 2022   \n",
              "2      2    AAPL               None        Q2 2022    April 28, 2022   \n",
              "3      3    AAPL               None        Q1 2022  January 27, 2022   \n",
              "4      4    AAPL               None        Q4 2021  October 28, 2021   \n",
              "5      5    AAPL               None        Q3 2021     July 27, 2021   \n",
              "6      6    AAPL               None        Q2 2021    April 28, 2021   \n",
              "7      7    AAPL               None        Q1 2021  January 27, 2021   \n",
              "\n",
              "         Time  \n",
              "0  5:00 PM ET  \n",
              "1  5:00 PM ET  \n",
              "2  5:00 PM ET  \n",
              "3  5:00 PM ET  \n",
              "4  5:00 PM ET  \n",
              "5  5:00 PM ET  \n",
              "6  5:00 PM ET  \n",
              "7  5:00 PM ET  "
            ],
            "text/html": [
              "\n",
              "  <div id=\"df-ccb57ee7-81a1-43ab-ab45-e61da4b318a5\">\n",
              "    <div class=\"colab-df-container\">\n",
              "      <div>\n",
              "<style scoped>\n",
              "    .dataframe tbody tr th:only-of-type {\n",
              "        vertical-align: middle;\n",
              "    }\n",
              "\n",
              "    .dataframe tbody tr th {\n",
              "        vertical-align: top;\n",
              "    }\n",
              "\n",
              "    .dataframe thead th {\n",
              "        text-align: right;\n",
              "    }\n",
              "</style>\n",
              "<table border=\"1\" class=\"dataframe\">\n",
              "  <thead>\n",
              "    <tr style=\"text-align: right;\">\n",
              "      <th></th>\n",
              "      <th>CC ID</th>\n",
              "      <th>Tickers</th>\n",
              "      <th>Company</th>\n",
              "      <th>Call Title</th>\n",
              "      <th>Fiscal Quarter</th>\n",
              "      <th>Date</th>\n",
              "      <th>Time</th>\n",
              "    </tr>\n",
              "  </thead>\n",
              "  <tbody>\n",
              "    <tr>\n",
              "      <th>0</th>\n",
              "      <td>0</td>\n",
              "      <td>AAPL</td>\n",
              "      <td></td>\n",
              "      <td>None</td>\n",
              "      <td>Q4 2022</td>\n",
              "      <td>October 27, 2022</td>\n",
              "      <td>5:00 PM ET</td>\n",
              "    </tr>\n",
              "    <tr>\n",
              "      <th>1</th>\n",
              "      <td>1</td>\n",
              "      <td>AAPL</td>\n",
              "      <td></td>\n",
              "      <td>None</td>\n",
              "      <td>Q3 2022</td>\n",
              "      <td>July 28, 2022</td>\n",
              "      <td>5:00 PM ET</td>\n",
              "    </tr>\n",
              "    <tr>\n",
              "      <th>2</th>\n",
              "      <td>2</td>\n",
              "      <td>AAPL</td>\n",
              "      <td></td>\n",
              "      <td>None</td>\n",
              "      <td>Q2 2022</td>\n",
              "      <td>April 28, 2022</td>\n",
              "      <td>5:00 PM ET</td>\n",
              "    </tr>\n",
              "    <tr>\n",
              "      <th>3</th>\n",
              "      <td>3</td>\n",
              "      <td>AAPL</td>\n",
              "      <td></td>\n",
              "      <td>None</td>\n",
              "      <td>Q1 2022</td>\n",
              "      <td>January 27, 2022</td>\n",
              "      <td>5:00 PM ET</td>\n",
              "    </tr>\n",
              "    <tr>\n",
              "      <th>4</th>\n",
              "      <td>4</td>\n",
              "      <td>AAPL</td>\n",
              "      <td></td>\n",
              "      <td>None</td>\n",
              "      <td>Q4 2021</td>\n",
              "      <td>October 28, 2021</td>\n",
              "      <td>5:00 PM ET</td>\n",
              "    </tr>\n",
              "    <tr>\n",
              "      <th>5</th>\n",
              "      <td>5</td>\n",
              "      <td>AAPL</td>\n",
              "      <td></td>\n",
              "      <td>None</td>\n",
              "      <td>Q3 2021</td>\n",
              "      <td>July 27, 2021</td>\n",
              "      <td>5:00 PM ET</td>\n",
              "    </tr>\n",
              "    <tr>\n",
              "      <th>6</th>\n",
              "      <td>6</td>\n",
              "      <td>AAPL</td>\n",
              "      <td></td>\n",
              "      <td>None</td>\n",
              "      <td>Q2 2021</td>\n",
              "      <td>April 28, 2021</td>\n",
              "      <td>5:00 PM ET</td>\n",
              "    </tr>\n",
              "    <tr>\n",
              "      <th>7</th>\n",
              "      <td>7</td>\n",
              "      <td>AAPL</td>\n",
              "      <td></td>\n",
              "      <td>None</td>\n",
              "      <td>Q1 2021</td>\n",
              "      <td>January 27, 2021</td>\n",
              "      <td>5:00 PM ET</td>\n",
              "    </tr>\n",
              "  </tbody>\n",
              "</table>\n",
              "</div>\n",
              "      <button class=\"colab-df-convert\" onclick=\"convertToInteractive('df-ccb57ee7-81a1-43ab-ab45-e61da4b318a5')\"\n",
              "              title=\"Convert this dataframe to an interactive table.\"\n",
              "              style=\"display:none;\">\n",
              "        \n",
              "  <svg xmlns=\"http://www.w3.org/2000/svg\" height=\"24px\"viewBox=\"0 0 24 24\"\n",
              "       width=\"24px\">\n",
              "    <path d=\"M0 0h24v24H0V0z\" fill=\"none\"/>\n",
              "    <path d=\"M18.56 5.44l.94 2.06.94-2.06 2.06-.94-2.06-.94-.94-2.06-.94 2.06-2.06.94zm-11 1L8.5 8.5l.94-2.06 2.06-.94-2.06-.94L8.5 2.5l-.94 2.06-2.06.94zm10 10l.94 2.06.94-2.06 2.06-.94-2.06-.94-.94-2.06-.94 2.06-2.06.94z\"/><path d=\"M17.41 7.96l-1.37-1.37c-.4-.4-.92-.59-1.43-.59-.52 0-1.04.2-1.43.59L10.3 9.45l-7.72 7.72c-.78.78-.78 2.05 0 2.83L4 21.41c.39.39.9.59 1.41.59.51 0 1.02-.2 1.41-.59l7.78-7.78 2.81-2.81c.8-.78.8-2.07 0-2.86zM5.41 20L4 18.59l7.72-7.72 1.47 1.35L5.41 20z\"/>\n",
              "  </svg>\n",
              "      </button>\n",
              "      \n",
              "  <style>\n",
              "    .colab-df-container {\n",
              "      display:flex;\n",
              "      flex-wrap:wrap;\n",
              "      gap: 12px;\n",
              "    }\n",
              "\n",
              "    .colab-df-convert {\n",
              "      background-color: #E8F0FE;\n",
              "      border: none;\n",
              "      border-radius: 50%;\n",
              "      cursor: pointer;\n",
              "      display: none;\n",
              "      fill: #1967D2;\n",
              "      height: 32px;\n",
              "      padding: 0 0 0 0;\n",
              "      width: 32px;\n",
              "    }\n",
              "\n",
              "    .colab-df-convert:hover {\n",
              "      background-color: #E2EBFA;\n",
              "      box-shadow: 0px 1px 2px rgba(60, 64, 67, 0.3), 0px 1px 3px 1px rgba(60, 64, 67, 0.15);\n",
              "      fill: #174EA6;\n",
              "    }\n",
              "\n",
              "    [theme=dark] .colab-df-convert {\n",
              "      background-color: #3B4455;\n",
              "      fill: #D2E3FC;\n",
              "    }\n",
              "\n",
              "    [theme=dark] .colab-df-convert:hover {\n",
              "      background-color: #434B5C;\n",
              "      box-shadow: 0px 1px 3px 1px rgba(0, 0, 0, 0.15);\n",
              "      filter: drop-shadow(0px 1px 2px rgba(0, 0, 0, 0.3));\n",
              "      fill: #FFFFFF;\n",
              "    }\n",
              "  </style>\n",
              "\n",
              "      <script>\n",
              "        const buttonEl =\n",
              "          document.querySelector('#df-ccb57ee7-81a1-43ab-ab45-e61da4b318a5 button.colab-df-convert');\n",
              "        buttonEl.style.display =\n",
              "          google.colab.kernel.accessAllowed ? 'block' : 'none';\n",
              "\n",
              "        async function convertToInteractive(key) {\n",
              "          const element = document.querySelector('#df-ccb57ee7-81a1-43ab-ab45-e61da4b318a5');\n",
              "          const dataTable =\n",
              "            await google.colab.kernel.invokeFunction('convertToInteractive',\n",
              "                                                     [key], {});\n",
              "          if (!dataTable) return;\n",
              "\n",
              "          const docLinkHtml = 'Like what you see? Visit the ' +\n",
              "            '<a target=\"_blank\" href=https://colab.research.google.com/notebooks/data_table.ipynb>data table notebook</a>'\n",
              "            + ' to learn more about interactive tables.';\n",
              "          element.innerHTML = '';\n",
              "          dataTable['output_type'] = 'display_data';\n",
              "          await google.colab.output.renderOutput(dataTable, element);\n",
              "          const docLink = document.createElement('div');\n",
              "          docLink.innerHTML = docLinkHtml;\n",
              "          element.appendChild(docLink);\n",
              "        }\n",
              "      </script>\n",
              "    </div>\n",
              "  </div>\n",
              "  "
            ]
          },
          "metadata": {},
          "execution_count": 146
        }
      ]
    },
    {
      "cell_type": "code",
      "source": [
        "from selenium.webdriver.chrome.service import Service"
      ],
      "metadata": {
        "id": "UJhTycsDfhjE"
      },
      "execution_count": 37,
      "outputs": []
    },
    {
      "cell_type": "code",
      "source": [],
      "metadata": {
        "id": "gt19YrNpjDq_"
      },
      "execution_count": 48,
      "outputs": []
    }
  ]
}